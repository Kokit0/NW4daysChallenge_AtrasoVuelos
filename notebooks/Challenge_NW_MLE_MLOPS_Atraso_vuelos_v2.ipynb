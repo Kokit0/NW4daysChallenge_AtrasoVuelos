{
  "cells": [
    {
      "cell_type": "markdown",
      "metadata": {
        "id": "dVLuhIzK-gfc"
      },
      "source": [
        "# **Análisis del proyecto de Juan sobre Predicción de Atrasos en Vuelos**\n",
        "\n",
        "**Introducción:**\n",
        "Durante el desarrollo de este proyecto, se llevaron a cabo diversas tareas de análisis de datos y modelado con el objetivo de predecir atrasos en vuelos. Se exploraron los datos iniciales y se aplicaron varias técnicas de procesamiento, incluyendo la construcción de nuevos atributos y la estandarización de los datos. Además, se probaron varios modelos de aprendizaje automático, se ajustaron hiperparámetros y se evaluaron sus resultados. Este es un notebook de investigación basado en lo creado por Juan y budcó expandir ciertos aproaches que Juan n cubrió, en especial, implementar técnicas distintas en lso modelos utilzados e intepretaciones especificas, se detalla el proceso seguido y se presentan los resultados obtenidos. A modo de guía sew sugiere focalizar el Notebook en 3 fases.\n",
        "\n",
        "* La primera: exploratoria con mpdificaciones en los datos y exposición gráfica simple cmo tablas informativa unicamente.\n",
        "\n",
        "* la seguna modificación y preparación de los datos (técnicas de regularizacion, encoding, PCA ,etc)\n",
        "\n",
        "* y la ultima, probar distintas estratégias con modelos que adhieren mejor aun analisis de clasificación predictorio de caracter preliminar binario como Atraso/no atraso.\n",
        "\n",
        "**Exploración de Datos:**\n",
        "Se inició el proyecto realizando una exploración de los datos, identificando características clave y tendencias. Se observó que los datos presentaban desafíos, como el desequilibrio entre las clases de atraso, exceso/ausencia de datos para algunosatributos como algunos destinos y la necesidad de manejar atributos categóricos como dificultad general.\n",
        "\n",
        "**Preprocesamiento de Datos:**\n",
        "Para abordar los desafíos, se realizaron los siguientes pasos:\n",
        "\n",
        "1. **Reconstrucción de Datos:** Se reconstruyeron los datos previamente procesados, mejorando la selección de columnas y descartando aquellas que no eran relevantes.\n",
        "\n",
        "2. **Construcción de Nuevos Atributos:** Se validó la creación de atributos como \"dif_min,\" que refleja la diferencia máxima entre los tiempos de vuelo planificados y operados, y \"atraso_15,\" un indicador binario de atrasos mayores a 15 minutos. son un buen proxy para el alcance preliminar del proyecto.\n",
        "\n",
        "3. **One-Hot Encoding:** Para manejar atributos categóricos, se aplicó la técnica de one-hot encoding.\n",
        "\n",
        "4. **Eliminación de Datos No Relevantes:** Se eliminaron filas con valores alfanuméricos en características específicas, ya que representaban un pequeño porcentaje del conjunto de datos. (Feature: Vlo-I/Vlo-O | 0.02% erased).\n",
        "\n",
        "**Modelado:**\n",
        "Se probaron varios modelos de aprendizaje automático, incluyendo Regresión Logística, SVM, y XGBoost. Se realizaron ajustes de hiperparámetros y se aplicaron técnicas de regularización como Lasso y Ridge junto a tunning se sus distintas estratégias para optimizar timepo de procesamiento y resultado esperado. Además, se utilizó la técnica de sobremuestreo SMOTE para abordar el desequilibrio de clases.\n",
        "\n",
        "**Resultados:**\n",
        "El modelo final de XGBoost con SMOTE y estandarización mostró mejoras significativas en términos de precisión y recall en comparación con los modelos anteriores. El F1-score balanceado indicó un equilibrio razonable entre precision y recall. La precisión general del modelo fue del 82%, aunque la precisión para la clasificación de \"Atraso\" sigue siendo un área de mejora pero un rfecall de un 0.78 es un buen paso en la dirección correcta.\n",
        "\n",
        "**Conclusión:**\n",
        "En resumen, este proyecto involucró un proceso completo de exploración, preprocesamiento y modelado de datos para predecir atrasos en vuelos. Hubo varios cambios de dirección en su desarrollo, como la prueba con otros modelos que no se adjuntaron por entregar nulo valor analítico. pero sirvió como referencia y descarte del tipo de objetivo del analisis y el tipo de variables en juego. Si bien con XGboost se lograron mejoras notables en la precisión y el recall luego de realizar multiples ocmvbinaciones de otras técnicas y 'tuneo', todavía existen oportunidades para ajustes adicionales y mejoras en la detección de atrasos. como ejercicio y mqueteo, el proyecto representa un avance significativo en la dirección correcta y sienta las bases para futuros desarrollos y refinamientos una ves se seleccione un dataset de optima calidad y un objetivo conciso a explorar bajo los algoritmos preliminares.\n",
        "\n",
        "**Librerías Claves Utilizadas:**\n",
        "- Pandas\n",
        "- Scikit-learn\n",
        "- XGBoost\n",
        "- Imbalanced-learn (SMOTE)\n",
        "- Matplotlib\n",
        "- Seaborn\n",
        "\n",
        "**Duración del Proyecto:**\n",
        "El proyecto se realizó en un total de aproximadamente 8-9 horas distribuidas en varias sesiones de trabajo a lo largo de 4 días efectivos.\n",
        "\n",
        "\n",
        "**NORA: para correr este notebook es recomendable cargar el dataset_SCL.csv que se suministró en el desafío. Por favor, hacer uso de los codeblocks a continuación o de su manera favoritas, para cargarlo de forma óptima**"
      ]
    },
    {
      "cell_type": "markdown",
      "metadata": {
        "id": "Lgjaqld1dC_g"
      },
      "source": [
        "#### **Loading the Data**"
      ]
    },
    {
      "cell_type": "code",
      "execution_count": 3,
      "metadata": {
        "id": "JUVN9Jjha7Pn"
      },
      "outputs": [],
      "source": [
        "#Se importan las librerías necesarias para el problema\n",
        "import pandas as pd\n",
        "import numpy as np\n",
        "import matplotlib.pyplot as plt\n",
        "import seaborn as sns\n",
        "\n",
        "import missingno as msng\n",
        "import warnings\n",
        "warnings.filterwarnings('ignore')\n",
        "%matplotlib inline\n",
        "plt.rcParams['figure.figsize'] = (15, 10)"
      ]
    },
    {
      "cell_type": "code",
      "execution_count": 2,
      "metadata": {
        "colab": {
          "base_uri": "https://localhost:8080/",
          "height": 74
        },
        "id": "yq8DUzPwe6G3",
        "outputId": "22883012-0c2f-46b6-f5d1-b663f10b14c5"
      },
      "outputs": [
        {
          "data": {
            "text/html": [
              "\n",
              "     <input type=\"file\" id=\"files-b0eb509d-42bc-44c1-9585-1d0b5269d540\" name=\"files[]\" multiple disabled\n",
              "        style=\"border:none\" />\n",
              "     <output id=\"result-b0eb509d-42bc-44c1-9585-1d0b5269d540\">\n",
              "      Upload widget is only available when the cell has been executed in the\n",
              "      current browser session. Please rerun this cell to enable.\n",
              "      </output>\n",
              "      <script>// Copyright 2017 Google LLC\n",
              "//\n",
              "// Licensed under the Apache License, Version 2.0 (the \"License\");\n",
              "// you may not use this file except in compliance with the License.\n",
              "// You may obtain a copy of the License at\n",
              "//\n",
              "//      http://www.apache.org/licenses/LICENSE-2.0\n",
              "//\n",
              "// Unless required by applicable law or agreed to in writing, software\n",
              "// distributed under the License is distributed on an \"AS IS\" BASIS,\n",
              "// WITHOUT WARRANTIES OR CONDITIONS OF ANY KIND, either express or implied.\n",
              "// See the License for the specific language governing permissions and\n",
              "// limitations under the License.\n",
              "\n",
              "/**\n",
              " * @fileoverview Helpers for google.colab Python module.\n",
              " */\n",
              "(function(scope) {\n",
              "function span(text, styleAttributes = {}) {\n",
              "  const element = document.createElement('span');\n",
              "  element.textContent = text;\n",
              "  for (const key of Object.keys(styleAttributes)) {\n",
              "    element.style[key] = styleAttributes[key];\n",
              "  }\n",
              "  return element;\n",
              "}\n",
              "\n",
              "// Max number of bytes which will be uploaded at a time.\n",
              "const MAX_PAYLOAD_SIZE = 100 * 1024;\n",
              "\n",
              "function _uploadFiles(inputId, outputId) {\n",
              "  const steps = uploadFilesStep(inputId, outputId);\n",
              "  const outputElement = document.getElementById(outputId);\n",
              "  // Cache steps on the outputElement to make it available for the next call\n",
              "  // to uploadFilesContinue from Python.\n",
              "  outputElement.steps = steps;\n",
              "\n",
              "  return _uploadFilesContinue(outputId);\n",
              "}\n",
              "\n",
              "// This is roughly an async generator (not supported in the browser yet),\n",
              "// where there are multiple asynchronous steps and the Python side is going\n",
              "// to poll for completion of each step.\n",
              "// This uses a Promise to block the python side on completion of each step,\n",
              "// then passes the result of the previous step as the input to the next step.\n",
              "function _uploadFilesContinue(outputId) {\n",
              "  const outputElement = document.getElementById(outputId);\n",
              "  const steps = outputElement.steps;\n",
              "\n",
              "  const next = steps.next(outputElement.lastPromiseValue);\n",
              "  return Promise.resolve(next.value.promise).then((value) => {\n",
              "    // Cache the last promise value to make it available to the next\n",
              "    // step of the generator.\n",
              "    outputElement.lastPromiseValue = value;\n",
              "    return next.value.response;\n",
              "  });\n",
              "}\n",
              "\n",
              "/**\n",
              " * Generator function which is called between each async step of the upload\n",
              " * process.\n",
              " * @param {string} inputId Element ID of the input file picker element.\n",
              " * @param {string} outputId Element ID of the output display.\n",
              " * @return {!Iterable<!Object>} Iterable of next steps.\n",
              " */\n",
              "function* uploadFilesStep(inputId, outputId) {\n",
              "  const inputElement = document.getElementById(inputId);\n",
              "  inputElement.disabled = false;\n",
              "\n",
              "  const outputElement = document.getElementById(outputId);\n",
              "  outputElement.innerHTML = '';\n",
              "\n",
              "  const pickedPromise = new Promise((resolve) => {\n",
              "    inputElement.addEventListener('change', (e) => {\n",
              "      resolve(e.target.files);\n",
              "    });\n",
              "  });\n",
              "\n",
              "  const cancel = document.createElement('button');\n",
              "  inputElement.parentElement.appendChild(cancel);\n",
              "  cancel.textContent = 'Cancel upload';\n",
              "  const cancelPromise = new Promise((resolve) => {\n",
              "    cancel.onclick = () => {\n",
              "      resolve(null);\n",
              "    };\n",
              "  });\n",
              "\n",
              "  // Wait for the user to pick the files.\n",
              "  const files = yield {\n",
              "    promise: Promise.race([pickedPromise, cancelPromise]),\n",
              "    response: {\n",
              "      action: 'starting',\n",
              "    }\n",
              "  };\n",
              "\n",
              "  cancel.remove();\n",
              "\n",
              "  // Disable the input element since further picks are not allowed.\n",
              "  inputElement.disabled = true;\n",
              "\n",
              "  if (!files) {\n",
              "    return {\n",
              "      response: {\n",
              "        action: 'complete',\n",
              "      }\n",
              "    };\n",
              "  }\n",
              "\n",
              "  for (const file of files) {\n",
              "    const li = document.createElement('li');\n",
              "    li.append(span(file.name, {fontWeight: 'bold'}));\n",
              "    li.append(span(\n",
              "        `(${file.type || 'n/a'}) - ${file.size} bytes, ` +\n",
              "        `last modified: ${\n",
              "            file.lastModifiedDate ? file.lastModifiedDate.toLocaleDateString() :\n",
              "                                    'n/a'} - `));\n",
              "    const percent = span('0% done');\n",
              "    li.appendChild(percent);\n",
              "\n",
              "    outputElement.appendChild(li);\n",
              "\n",
              "    const fileDataPromise = new Promise((resolve) => {\n",
              "      const reader = new FileReader();\n",
              "      reader.onload = (e) => {\n",
              "        resolve(e.target.result);\n",
              "      };\n",
              "      reader.readAsArrayBuffer(file);\n",
              "    });\n",
              "    // Wait for the data to be ready.\n",
              "    let fileData = yield {\n",
              "      promise: fileDataPromise,\n",
              "      response: {\n",
              "        action: 'continue',\n",
              "      }\n",
              "    };\n",
              "\n",
              "    // Use a chunked sending to avoid message size limits. See b/62115660.\n",
              "    let position = 0;\n",
              "    do {\n",
              "      const length = Math.min(fileData.byteLength - position, MAX_PAYLOAD_SIZE);\n",
              "      const chunk = new Uint8Array(fileData, position, length);\n",
              "      position += length;\n",
              "\n",
              "      const base64 = btoa(String.fromCharCode.apply(null, chunk));\n",
              "      yield {\n",
              "        response: {\n",
              "          action: 'append',\n",
              "          file: file.name,\n",
              "          data: base64,\n",
              "        },\n",
              "      };\n",
              "\n",
              "      let percentDone = fileData.byteLength === 0 ?\n",
              "          100 :\n",
              "          Math.round((position / fileData.byteLength) * 100);\n",
              "      percent.textContent = `${percentDone}% done`;\n",
              "\n",
              "    } while (position < fileData.byteLength);\n",
              "  }\n",
              "\n",
              "  // All done.\n",
              "  yield {\n",
              "    response: {\n",
              "      action: 'complete',\n",
              "    }\n",
              "  };\n",
              "}\n",
              "\n",
              "scope.google = scope.google || {};\n",
              "scope.google.colab = scope.google.colab || {};\n",
              "scope.google.colab._files = {\n",
              "  _uploadFiles,\n",
              "  _uploadFilesContinue,\n",
              "};\n",
              "})(self);\n",
              "</script> "
            ],
            "text/plain": [
              "<IPython.core.display.HTML object>"
            ]
          },
          "metadata": {},
          "output_type": "display_data"
        },
        {
          "name": "stdout",
          "output_type": "stream",
          "text": [
            "Saving dataset_SCL.csv to dataset_SCL.csv\n"
          ]
        }
      ],
      "source": [
        "from google.colab import files\n",
        "uploaded = files.upload()\n",
        "#La ruta local es #C:\\Users\\JorgeAmaya\\Desktop\\NeuralWork4daysChallenge"
      ]
    },
    {
      "cell_type": "code",
      "execution_count": 4,
      "metadata": {
        "id": "ZoqvKyaRa7Pn",
        "scrolled": true
      },
      "outputs": [],
      "source": [
        "df = pd.read_csv('dataset_SCL.csv')"
      ]
    },
    {
      "cell_type": "code",
      "execution_count": 5,
      "metadata": {
        "colab": {
          "base_uri": "https://localhost:8080/"
        },
        "id": "v_6l9qCGa7Po",
        "outputId": "0b9507ed-31ee-4850-ddc1-06360ea8fcde"
      },
      "outputs": [
        {
          "data": {
            "text/plain": [
              "(68206, 18)"
            ]
          },
          "execution_count": 5,
          "metadata": {},
          "output_type": "execute_result"
        }
      ],
      "source": [
        "df.shape"
      ]
    },
    {
      "cell_type": "code",
      "execution_count": 6,
      "metadata": {
        "colab": {
          "base_uri": "https://localhost:8080/"
        },
        "id": "tlQ3wERoa7Po",
        "outputId": "06dff012-9cfe-410f-ab5f-6067335867fe"
      },
      "outputs": [
        {
          "name": "stdout",
          "output_type": "stream",
          "text": [
            "<class 'pandas.core.frame.DataFrame'>\n",
            "RangeIndex: 68206 entries, 0 to 68205\n",
            "Data columns (total 18 columns):\n",
            " #   Column     Non-Null Count  Dtype \n",
            "---  ------     --------------  ----- \n",
            " 0   Fecha-I    68206 non-null  object\n",
            " 1   Vlo-I      68206 non-null  object\n",
            " 2   Ori-I      68206 non-null  object\n",
            " 3   Des-I      68206 non-null  object\n",
            " 4   Emp-I      68206 non-null  object\n",
            " 5   Fecha-O    68206 non-null  object\n",
            " 6   Vlo-O      68205 non-null  object\n",
            " 7   Ori-O      68206 non-null  object\n",
            " 8   Des-O      68206 non-null  object\n",
            " 9   Emp-O      68206 non-null  object\n",
            " 10  DIA        68206 non-null  int64 \n",
            " 11  MES        68206 non-null  int64 \n",
            " 12  AÑO        68206 non-null  int64 \n",
            " 13  DIANOM     68206 non-null  object\n",
            " 14  TIPOVUELO  68206 non-null  object\n",
            " 15  OPERA      68206 non-null  object\n",
            " 16  SIGLAORI   68206 non-null  object\n",
            " 17  SIGLADES   68206 non-null  object\n",
            "dtypes: int64(3), object(15)\n",
            "memory usage: 9.4+ MB\n"
          ]
        }
      ],
      "source": [
        "df.info()"
      ]
    },
    {
      "cell_type": "markdown",
      "metadata": {
        "id": "MQ7TopWny_bL"
      },
      "source": [
        "Verificación de Datos Nulos:\n",
        "\n",
        "Verificamos si hay valores nulos en el DataFrame y ver cómo manejarlos (eliminar filas o imputar valores)."
      ]
    },
    {
      "cell_type": "code",
      "execution_count": 7,
      "metadata": {
        "colab": {
          "base_uri": "https://localhost:8080/"
        },
        "id": "NeIw14mczCR6",
        "outputId": "179639f1-ab87-47c8-abeb-875bf4534d77"
      },
      "outputs": [
        {
          "name": "stdout",
          "output_type": "stream",
          "text": [
            "Fecha-I      0\n",
            "Vlo-I        0\n",
            "Ori-I        0\n",
            "Des-I        0\n",
            "Emp-I        0\n",
            "Fecha-O      0\n",
            "Vlo-O        1\n",
            "Ori-O        0\n",
            "Des-O        0\n",
            "Emp-O        0\n",
            "DIA          0\n",
            "MES          0\n",
            "AÑO          0\n",
            "DIANOM       0\n",
            "TIPOVUELO    0\n",
            "OPERA        0\n",
            "SIGLAORI     0\n",
            "SIGLADES     0\n",
            "dtype: int64\n"
          ]
        }
      ],
      "source": [
        "# Verificar valores nulos\n",
        "print(df.isnull().sum())\n",
        "\n",
        "# Eliminar filas con valores nulos\n",
        "df = df.dropna()\n"
      ]
    },
    {
      "cell_type": "markdown",
      "metadata": {
        "id": "QkdXRRyw0lTE"
      },
      "source": [
        "temporada_alta : 1 si Fecha-I está entre 15-Dic y 3-Mar, o 15-Jul y 31-Jul, o 11-Sep y 30-Sep, 0 si no"
      ]
    },
    {
      "cell_type": "code",
      "execution_count": 8,
      "metadata": {
        "id": "CBWOpMQxzyFM"
      },
      "outputs": [],
      "source": [
        "from datetime import datetime\n",
        "\n",
        "def temporada_alta(fecha):\n",
        "    fecha_año = int(fecha.split('-')[0])\n",
        "    fecha = datetime.strptime(fecha, '%Y-%m-%d %H:%M:%S')\n",
        "    range1_min = datetime.strptime('15-Dec', '%d-%b').replace(year = fecha_año)\n",
        "    range1_max = datetime.strptime('31-Dec', '%d-%b').replace(year = fecha_año)\n",
        "    range2_min = datetime.strptime('1-Jan', '%d-%b').replace(year = fecha_año)\n",
        "    range2_max = datetime.strptime('3-Mar', '%d-%b').replace(year = fecha_año)\n",
        "    range3_min = datetime.strptime('15-Jul', '%d-%b').replace(year = fecha_año)\n",
        "    range3_max = datetime.strptime('31-Jul', '%d-%b').replace(year = fecha_año)\n",
        "    range4_min = datetime.strptime('11-Sep', '%d-%b').replace(year = fecha_año)\n",
        "    range4_max = datetime.strptime('30-Sep', '%d-%b').replace(year = fecha_año)\n",
        "\n",
        "    if ((fecha >= range1_min and fecha <= range1_max) or\n",
        "        (fecha >= range2_min and fecha <= range2_max) or\n",
        "        (fecha >= range3_min and fecha <= range3_max) or\n",
        "        (fecha >= range4_min and fecha <= range4_max)):\n",
        "        return 1\n",
        "    else:\n",
        "        return 0"
      ]
    },
    {
      "cell_type": "code",
      "execution_count": 9,
      "metadata": {
        "id": "hy_mRGQOa7Pu",
        "scrolled": true
      },
      "outputs": [],
      "source": [
        "df['temporada_alta'] = df['Fecha-I'].apply(temporada_alta)"
      ]
    },
    {
      "cell_type": "code",
      "execution_count": 10,
      "metadata": {
        "colab": {
          "base_uri": "https://localhost:8080/"
        },
        "id": "1uZmBxq0a7Pu",
        "outputId": "b785d594-8c65-4f15-e8ab-c1804939e025"
      },
      "outputs": [
        {
          "data": {
            "text/plain": [
              "0    46174\n",
              "1    22031\n",
              "Name: temporada_alta, dtype: int64"
            ]
          },
          "execution_count": 10,
          "metadata": {},
          "output_type": "execute_result"
        }
      ],
      "source": [
        "df['temporada_alta'].value_counts()"
      ]
    },
    {
      "cell_type": "markdown",
      "metadata": {
        "id": "PEsvThMP1NIp"
      },
      "source": [
        "dif_min : diferencia en minutos entre Fecha-O y Fecha-I ."
      ]
    },
    {
      "cell_type": "code",
      "execution_count": 11,
      "metadata": {
        "id": "GY_c7l3l09OR"
      },
      "outputs": [],
      "source": [
        "def dif_min(data):\n",
        "    fecha_o = datetime.strptime(data['Fecha-O'], '%Y-%m-%d %H:%M:%S')\n",
        "    fecha_i = datetime.strptime(data['Fecha-I'], '%Y-%m-%d %H:%M:%S')\n",
        "    dif_min = ((fecha_o - fecha_i).total_seconds())/60\n",
        "    return dif_min\n"
      ]
    },
    {
      "cell_type": "code",
      "execution_count": 12,
      "metadata": {
        "id": "AuKallGZ09Mk"
      },
      "outputs": [],
      "source": [
        "df['dif_min'] = df.apply(dif_min, axis = 1)"
      ]
    },
    {
      "cell_type": "markdown",
      "metadata": {
        "id": "j2StMegTa7Pv"
      },
      "source": [
        "* **atraso_15** : 1 si **dif_min** > 15, 0 si no."
      ]
    },
    {
      "cell_type": "code",
      "execution_count": 13,
      "metadata": {
        "id": "82LkOWsra7Pv"
      },
      "outputs": [],
      "source": [
        "df['atraso_15'] = np.where(df['dif_min'] > 15, 1, 0)"
      ]
    },
    {
      "cell_type": "code",
      "execution_count": 14,
      "metadata": {
        "colab": {
          "base_uri": "https://localhost:8080/"
        },
        "id": "1WVptqO-a7Pw",
        "outputId": "b6c7c762-ae67-4354-b6f9-6dce7f3e22c4"
      },
      "outputs": [
        {
          "data": {
            "text/plain": [
              "0    55591\n",
              "1    12614\n",
              "Name: atraso_15, dtype: int64"
            ]
          },
          "execution_count": 14,
          "metadata": {},
          "output_type": "execute_result"
        }
      ],
      "source": [
        "df['atraso_15'].value_counts()"
      ]
    },
    {
      "cell_type": "markdown",
      "metadata": {
        "id": "gC3HJMuT09lF"
      },
      "source": [
        "- Hay 55,592 registros en el DataFrame que tienen un valor de 0 en la columna \"atraso_15\".\n",
        "- Hay 12,614 registros en el DataFrame que tienen un valor de 1 en la columna \"atraso_15\".\n",
        "\n",
        "Esto te da una idea de la distribución de los registros en función de si tienen un retraso mayor a 15 minutos o no."
      ]
    },
    {
      "cell_type": "markdown",
      "metadata": {
        "id": "gfCUtIp_a7Pw"
      },
      "source": [
        "* **periodo_dia** : mañana (entre 5:00 y 11:59), tarde (entre 12:00 y 18:59) y noche (entre 19:00 y 4:59), en base a **Fecha-I**."
      ]
    },
    {
      "cell_type": "code",
      "execution_count": 15,
      "metadata": {
        "id": "C1sNKlbUa7Pw"
      },
      "outputs": [],
      "source": [
        "def get_periodo_dia(fecha):\n",
        "    fecha_time = datetime.strptime(fecha, '%Y-%m-%d %H:%M:%S').time()\n",
        "    mañana_min = datetime.strptime(\"05:00\", '%H:%M').time()\n",
        "    mañana_max = datetime.strptime(\"11:59\", '%H:%M').time()\n",
        "    tarde_min = datetime.strptime(\"12:00\", '%H:%M').time()\n",
        "    tarde_max = datetime.strptime(\"18:59\", '%H:%M').time()\n",
        "    noche_min1 = datetime.strptime(\"19:00\", '%H:%M').time()\n",
        "    noche_max1 = datetime.strptime(\"23:59\", '%H:%M').time()\n",
        "    noche_min2 = datetime.strptime(\"00:00\", '%H:%M').time()\n",
        "    noche_max2 = datetime.strptime(\"4:59\", '%H:%M').time()\n",
        "\n",
        "    if(fecha_time > mañana_min and fecha_time < mañana_max):\n",
        "        return 'mañana'\n",
        "    elif(fecha_time > tarde_min and fecha_time < tarde_max):\n",
        "        return 'tarde'\n",
        "    elif((fecha_time > noche_min1 and fecha_time < noche_max1) or\n",
        "         (fecha_time > noche_min2 and fecha_time < noche_max2)):\n",
        "        return 'noche'"
      ]
    },
    {
      "cell_type": "code",
      "execution_count": 16,
      "metadata": {
        "collapsed": true,
        "id": "iDOY4fxQa7Pw",
        "jupyter": {
          "outputs_hidden": true
        }
      },
      "outputs": [],
      "source": [
        "df['periodo_dia'] = df['Fecha-I'].apply(get_periodo_dia)"
      ]
    },
    {
      "cell_type": "code",
      "execution_count": 17,
      "metadata": {
        "id": "VfYHXjWua7Px"
      },
      "outputs": [],
      "source": [
        "df[['temporada_alta','dif_min','atraso_15','periodo_dia']].to_csv('synthetic_features.csv', index = False)"
      ]
    },
    {
      "cell_type": "markdown",
      "metadata": {
        "id": "19JbaJ2Y80G7"
      },
      "source": [
        "#### Exportemos este .csv solicitado"
      ]
    },
    {
      "cell_type": "code",
      "execution_count": 17,
      "metadata": {
        "id": "MVJgb5vm8zdX"
      },
      "outputs": [],
      "source": [
        "import pandas as pd\n",
        "\n",
        "# Selecciono las columnas\n",
        "subset_df = df[['temporada_alta', 'dif_min', 'atraso_15', 'periodo_dia']]\n",
        "\n",
        "# Especifico el nombre del archivo CSV con index=False para omitir el índice\n",
        "subset_df.to_csv('synthetic_features.csv', index=False)\n"
      ]
    },
    {
      "cell_type": "code",
      "execution_count": 18,
      "metadata": {
        "colab": {
          "base_uri": "https://localhost:8080/",
          "height": 35
        },
        "id": "JOhKQeGG9Kfs",
        "outputId": "a9219f82-d81f-40d3-84ef-e08b3c924d58"
      },
      "outputs": [
        {
          "data": {
            "application/javascript": "\n    async function download(id, filename, size) {\n      if (!google.colab.kernel.accessAllowed) {\n        return;\n      }\n      const div = document.createElement('div');\n      const label = document.createElement('label');\n      label.textContent = `Downloading \"${filename}\": `;\n      div.appendChild(label);\n      const progress = document.createElement('progress');\n      progress.max = size;\n      div.appendChild(progress);\n      document.body.appendChild(div);\n\n      const buffers = [];\n      let downloaded = 0;\n\n      const channel = await google.colab.kernel.comms.open(id);\n      // Send a message to notify the kernel that we're ready.\n      channel.send({})\n\n      for await (const message of channel.messages) {\n        // Send a message to notify the kernel that we're ready.\n        channel.send({})\n        if (message.buffers) {\n          for (const buffer of message.buffers) {\n            buffers.push(buffer);\n            downloaded += buffer.byteLength;\n            progress.value = downloaded;\n          }\n        }\n      }\n      const blob = new Blob(buffers, {type: 'application/binary'});\n      const a = document.createElement('a');\n      a.href = window.URL.createObjectURL(blob);\n      a.download = filename;\n      div.appendChild(a);\n      a.click();\n      div.remove();\n    }\n  ",
            "text/plain": [
              "<IPython.core.display.Javascript object>"
            ]
          },
          "metadata": {},
          "output_type": "display_data"
        },
        {
          "data": {
            "application/javascript": "download(\"download_dca2f88e-a76a-40b6-bed9-f76ffb20ada0\", \"synthetic_features.csv\", 1038683)",
            "text/plain": [
              "<IPython.core.display.Javascript object>"
            ]
          },
          "metadata": {},
          "output_type": "display_data"
        },
        {
          "name": "stdout",
          "output_type": "stream",
          "text": [
            "Archivo CSV exportado exitosamente!\n"
          ]
        }
      ],
      "source": [
        "from google.colab import files\n",
        "\n",
        "files.download('synthetic_features.csv')\n",
        "\n",
        "print(\"Archivo CSV exportado exitosamente!\")"
      ]
    },
    {
      "cell_type": "code",
      "execution_count": 19,
      "metadata": {
        "colab": {
          "base_uri": "https://localhost:8080/",
          "height": 586
        },
        "id": "abVW0VWl2UwF",
        "outputId": "d49f685b-fced-4f27-b85f-78019a61f2bf"
      },
      "outputs": [
        {
          "data": {
            "text/html": [
              "\n",
              "  <div id=\"df-71a58cea-0b6e-4515-a51f-222752bc2b92\" class=\"colab-df-container\">\n",
              "    <div>\n",
              "<style scoped>\n",
              "    .dataframe tbody tr th:only-of-type {\n",
              "        vertical-align: middle;\n",
              "    }\n",
              "\n",
              "    .dataframe tbody tr th {\n",
              "        vertical-align: top;\n",
              "    }\n",
              "\n",
              "    .dataframe thead th {\n",
              "        text-align: right;\n",
              "    }\n",
              "</style>\n",
              "<table border=\"1\" class=\"dataframe\">\n",
              "  <thead>\n",
              "    <tr style=\"text-align: right;\">\n",
              "      <th></th>\n",
              "      <th>Fecha-I</th>\n",
              "      <th>Vlo-I</th>\n",
              "      <th>Ori-I</th>\n",
              "      <th>Des-I</th>\n",
              "      <th>Emp-I</th>\n",
              "      <th>Fecha-O</th>\n",
              "      <th>Vlo-O</th>\n",
              "      <th>Ori-O</th>\n",
              "      <th>Des-O</th>\n",
              "      <th>Emp-O</th>\n",
              "      <th>...</th>\n",
              "      <th>AÑO</th>\n",
              "      <th>DIANOM</th>\n",
              "      <th>TIPOVUELO</th>\n",
              "      <th>OPERA</th>\n",
              "      <th>SIGLAORI</th>\n",
              "      <th>SIGLADES</th>\n",
              "      <th>temporada_alta</th>\n",
              "      <th>dif_min</th>\n",
              "      <th>atraso_15</th>\n",
              "      <th>periodo_dia</th>\n",
              "    </tr>\n",
              "  </thead>\n",
              "  <tbody>\n",
              "    <tr>\n",
              "      <th>0</th>\n",
              "      <td>2017-01-01 23:30:00</td>\n",
              "      <td>226</td>\n",
              "      <td>SCEL</td>\n",
              "      <td>KMIA</td>\n",
              "      <td>AAL</td>\n",
              "      <td>2017-01-01 23:33:00</td>\n",
              "      <td>226</td>\n",
              "      <td>SCEL</td>\n",
              "      <td>KMIA</td>\n",
              "      <td>AAL</td>\n",
              "      <td>...</td>\n",
              "      <td>2017</td>\n",
              "      <td>Domingo</td>\n",
              "      <td>I</td>\n",
              "      <td>American Airlines</td>\n",
              "      <td>Santiago</td>\n",
              "      <td>Miami</td>\n",
              "      <td>1</td>\n",
              "      <td>3.0</td>\n",
              "      <td>0</td>\n",
              "      <td>noche</td>\n",
              "    </tr>\n",
              "    <tr>\n",
              "      <th>1</th>\n",
              "      <td>2017-01-02 23:30:00</td>\n",
              "      <td>226</td>\n",
              "      <td>SCEL</td>\n",
              "      <td>KMIA</td>\n",
              "      <td>AAL</td>\n",
              "      <td>2017-01-02 23:39:00</td>\n",
              "      <td>226</td>\n",
              "      <td>SCEL</td>\n",
              "      <td>KMIA</td>\n",
              "      <td>AAL</td>\n",
              "      <td>...</td>\n",
              "      <td>2017</td>\n",
              "      <td>Lunes</td>\n",
              "      <td>I</td>\n",
              "      <td>American Airlines</td>\n",
              "      <td>Santiago</td>\n",
              "      <td>Miami</td>\n",
              "      <td>1</td>\n",
              "      <td>9.0</td>\n",
              "      <td>0</td>\n",
              "      <td>noche</td>\n",
              "    </tr>\n",
              "    <tr>\n",
              "      <th>2</th>\n",
              "      <td>2017-01-03 23:30:00</td>\n",
              "      <td>226</td>\n",
              "      <td>SCEL</td>\n",
              "      <td>KMIA</td>\n",
              "      <td>AAL</td>\n",
              "      <td>2017-01-03 23:39:00</td>\n",
              "      <td>226</td>\n",
              "      <td>SCEL</td>\n",
              "      <td>KMIA</td>\n",
              "      <td>AAL</td>\n",
              "      <td>...</td>\n",
              "      <td>2017</td>\n",
              "      <td>Martes</td>\n",
              "      <td>I</td>\n",
              "      <td>American Airlines</td>\n",
              "      <td>Santiago</td>\n",
              "      <td>Miami</td>\n",
              "      <td>1</td>\n",
              "      <td>9.0</td>\n",
              "      <td>0</td>\n",
              "      <td>noche</td>\n",
              "    </tr>\n",
              "    <tr>\n",
              "      <th>3</th>\n",
              "      <td>2017-01-04 23:30:00</td>\n",
              "      <td>226</td>\n",
              "      <td>SCEL</td>\n",
              "      <td>KMIA</td>\n",
              "      <td>AAL</td>\n",
              "      <td>2017-01-04 23:33:00</td>\n",
              "      <td>226</td>\n",
              "      <td>SCEL</td>\n",
              "      <td>KMIA</td>\n",
              "      <td>AAL</td>\n",
              "      <td>...</td>\n",
              "      <td>2017</td>\n",
              "      <td>Miercoles</td>\n",
              "      <td>I</td>\n",
              "      <td>American Airlines</td>\n",
              "      <td>Santiago</td>\n",
              "      <td>Miami</td>\n",
              "      <td>1</td>\n",
              "      <td>3.0</td>\n",
              "      <td>0</td>\n",
              "      <td>noche</td>\n",
              "    </tr>\n",
              "    <tr>\n",
              "      <th>4</th>\n",
              "      <td>2017-01-05 23:30:00</td>\n",
              "      <td>226</td>\n",
              "      <td>SCEL</td>\n",
              "      <td>KMIA</td>\n",
              "      <td>AAL</td>\n",
              "      <td>2017-01-05 23:28:00</td>\n",
              "      <td>226</td>\n",
              "      <td>SCEL</td>\n",
              "      <td>KMIA</td>\n",
              "      <td>AAL</td>\n",
              "      <td>...</td>\n",
              "      <td>2017</td>\n",
              "      <td>Jueves</td>\n",
              "      <td>I</td>\n",
              "      <td>American Airlines</td>\n",
              "      <td>Santiago</td>\n",
              "      <td>Miami</td>\n",
              "      <td>1</td>\n",
              "      <td>-2.0</td>\n",
              "      <td>0</td>\n",
              "      <td>noche</td>\n",
              "    </tr>\n",
              "    <tr>\n",
              "      <th>5</th>\n",
              "      <td>2017-01-06 23:30:00</td>\n",
              "      <td>226</td>\n",
              "      <td>SCEL</td>\n",
              "      <td>KMIA</td>\n",
              "      <td>AAL</td>\n",
              "      <td>2017-01-07 00:04:00</td>\n",
              "      <td>226</td>\n",
              "      <td>SCEL</td>\n",
              "      <td>KMIA</td>\n",
              "      <td>AAL</td>\n",
              "      <td>...</td>\n",
              "      <td>2017</td>\n",
              "      <td>Sabado</td>\n",
              "      <td>I</td>\n",
              "      <td>American Airlines</td>\n",
              "      <td>Santiago</td>\n",
              "      <td>Miami</td>\n",
              "      <td>1</td>\n",
              "      <td>34.0</td>\n",
              "      <td>1</td>\n",
              "      <td>noche</td>\n",
              "    </tr>\n",
              "    <tr>\n",
              "      <th>6</th>\n",
              "      <td>2017-01-07 23:30:00</td>\n",
              "      <td>226</td>\n",
              "      <td>SCEL</td>\n",
              "      <td>KMIA</td>\n",
              "      <td>AAL</td>\n",
              "      <td>2017-01-07 23:25:00</td>\n",
              "      <td>226</td>\n",
              "      <td>SCEL</td>\n",
              "      <td>KMIA</td>\n",
              "      <td>AAL</td>\n",
              "      <td>...</td>\n",
              "      <td>2017</td>\n",
              "      <td>Sabado</td>\n",
              "      <td>I</td>\n",
              "      <td>American Airlines</td>\n",
              "      <td>Santiago</td>\n",
              "      <td>Miami</td>\n",
              "      <td>1</td>\n",
              "      <td>-5.0</td>\n",
              "      <td>0</td>\n",
              "      <td>noche</td>\n",
              "    </tr>\n",
              "    <tr>\n",
              "      <th>7</th>\n",
              "      <td>2017-01-08 23:30:00</td>\n",
              "      <td>226</td>\n",
              "      <td>SCEL</td>\n",
              "      <td>KMIA</td>\n",
              "      <td>AAL</td>\n",
              "      <td>2017-01-08 23:25:00</td>\n",
              "      <td>226</td>\n",
              "      <td>SCEL</td>\n",
              "      <td>KMIA</td>\n",
              "      <td>AAL</td>\n",
              "      <td>...</td>\n",
              "      <td>2017</td>\n",
              "      <td>Domingo</td>\n",
              "      <td>I</td>\n",
              "      <td>American Airlines</td>\n",
              "      <td>Santiago</td>\n",
              "      <td>Miami</td>\n",
              "      <td>1</td>\n",
              "      <td>-5.0</td>\n",
              "      <td>0</td>\n",
              "      <td>noche</td>\n",
              "    </tr>\n",
              "    <tr>\n",
              "      <th>8</th>\n",
              "      <td>2017-01-09 23:30:00</td>\n",
              "      <td>226</td>\n",
              "      <td>SCEL</td>\n",
              "      <td>KMIA</td>\n",
              "      <td>AAL</td>\n",
              "      <td>2017-01-10 00:10:00</td>\n",
              "      <td>226</td>\n",
              "      <td>SCEL</td>\n",
              "      <td>KMIA</td>\n",
              "      <td>AAL</td>\n",
              "      <td>...</td>\n",
              "      <td>2017</td>\n",
              "      <td>Martes</td>\n",
              "      <td>I</td>\n",
              "      <td>American Airlines</td>\n",
              "      <td>Santiago</td>\n",
              "      <td>Miami</td>\n",
              "      <td>1</td>\n",
              "      <td>40.0</td>\n",
              "      <td>1</td>\n",
              "      <td>noche</td>\n",
              "    </tr>\n",
              "    <tr>\n",
              "      <th>9</th>\n",
              "      <td>2017-01-11 23:30:00</td>\n",
              "      <td>226</td>\n",
              "      <td>SCEL</td>\n",
              "      <td>KMIA</td>\n",
              "      <td>AAL</td>\n",
              "      <td>2017-01-12 00:39:00</td>\n",
              "      <td>226</td>\n",
              "      <td>SCEL</td>\n",
              "      <td>KMIA</td>\n",
              "      <td>AAL</td>\n",
              "      <td>...</td>\n",
              "      <td>2017</td>\n",
              "      <td>Jueves</td>\n",
              "      <td>I</td>\n",
              "      <td>American Airlines</td>\n",
              "      <td>Santiago</td>\n",
              "      <td>Miami</td>\n",
              "      <td>1</td>\n",
              "      <td>69.0</td>\n",
              "      <td>1</td>\n",
              "      <td>noche</td>\n",
              "    </tr>\n",
              "  </tbody>\n",
              "</table>\n",
              "<p>10 rows × 22 columns</p>\n",
              "</div>\n",
              "    <div class=\"colab-df-buttons\">\n",
              "\n",
              "  <div class=\"colab-df-container\">\n",
              "    <button class=\"colab-df-convert\" onclick=\"convertToInteractive('df-71a58cea-0b6e-4515-a51f-222752bc2b92')\"\n",
              "            title=\"Convert this dataframe to an interactive table.\"\n",
              "            style=\"display:none;\">\n",
              "\n",
              "  <svg xmlns=\"http://www.w3.org/2000/svg\" height=\"24px\" viewBox=\"0 -960 960 960\">\n",
              "    <path d=\"M120-120v-720h720v720H120Zm60-500h600v-160H180v160Zm220 220h160v-160H400v160Zm0 220h160v-160H400v160ZM180-400h160v-160H180v160Zm440 0h160v-160H620v160ZM180-180h160v-160H180v160Zm440 0h160v-160H620v160Z\"/>\n",
              "  </svg>\n",
              "    </button>\n",
              "\n",
              "  <style>\n",
              "    .colab-df-container {\n",
              "      display:flex;\n",
              "      gap: 12px;\n",
              "    }\n",
              "\n",
              "    .colab-df-convert {\n",
              "      background-color: #E8F0FE;\n",
              "      border: none;\n",
              "      border-radius: 50%;\n",
              "      cursor: pointer;\n",
              "      display: none;\n",
              "      fill: #1967D2;\n",
              "      height: 32px;\n",
              "      padding: 0 0 0 0;\n",
              "      width: 32px;\n",
              "    }\n",
              "\n",
              "    .colab-df-convert:hover {\n",
              "      background-color: #E2EBFA;\n",
              "      box-shadow: 0px 1px 2px rgba(60, 64, 67, 0.3), 0px 1px 3px 1px rgba(60, 64, 67, 0.15);\n",
              "      fill: #174EA6;\n",
              "    }\n",
              "\n",
              "    .colab-df-buttons div {\n",
              "      margin-bottom: 4px;\n",
              "    }\n",
              "\n",
              "    [theme=dark] .colab-df-convert {\n",
              "      background-color: #3B4455;\n",
              "      fill: #D2E3FC;\n",
              "    }\n",
              "\n",
              "    [theme=dark] .colab-df-convert:hover {\n",
              "      background-color: #434B5C;\n",
              "      box-shadow: 0px 1px 3px 1px rgba(0, 0, 0, 0.15);\n",
              "      filter: drop-shadow(0px 1px 2px rgba(0, 0, 0, 0.3));\n",
              "      fill: #FFFFFF;\n",
              "    }\n",
              "  </style>\n",
              "\n",
              "    <script>\n",
              "      const buttonEl =\n",
              "        document.querySelector('#df-71a58cea-0b6e-4515-a51f-222752bc2b92 button.colab-df-convert');\n",
              "      buttonEl.style.display =\n",
              "        google.colab.kernel.accessAllowed ? 'block' : 'none';\n",
              "\n",
              "      async function convertToInteractive(key) {\n",
              "        const element = document.querySelector('#df-71a58cea-0b6e-4515-a51f-222752bc2b92');\n",
              "        const dataTable =\n",
              "          await google.colab.kernel.invokeFunction('convertToInteractive',\n",
              "                                                    [key], {});\n",
              "        if (!dataTable) return;\n",
              "\n",
              "        const docLinkHtml = 'Like what you see? Visit the ' +\n",
              "          '<a target=\"_blank\" href=https://colab.research.google.com/notebooks/data_table.ipynb>data table notebook</a>'\n",
              "          + ' to learn more about interactive tables.';\n",
              "        element.innerHTML = '';\n",
              "        dataTable['output_type'] = 'display_data';\n",
              "        await google.colab.output.renderOutput(dataTable, element);\n",
              "        const docLink = document.createElement('div');\n",
              "        docLink.innerHTML = docLinkHtml;\n",
              "        element.appendChild(docLink);\n",
              "      }\n",
              "    </script>\n",
              "  </div>\n",
              "\n",
              "\n",
              "<div id=\"df-c4227ab9-2f34-49ab-8b5f-71400f4fec33\">\n",
              "  <button class=\"colab-df-quickchart\" onclick=\"quickchart('df-c4227ab9-2f34-49ab-8b5f-71400f4fec33')\"\n",
              "            title=\"Suggest charts.\"\n",
              "            style=\"display:none;\">\n",
              "\n",
              "<svg xmlns=\"http://www.w3.org/2000/svg\" height=\"24px\"viewBox=\"0 0 24 24\"\n",
              "     width=\"24px\">\n",
              "    <g>\n",
              "        <path d=\"M19 3H5c-1.1 0-2 .9-2 2v14c0 1.1.9 2 2 2h14c1.1 0 2-.9 2-2V5c0-1.1-.9-2-2-2zM9 17H7v-7h2v7zm4 0h-2V7h2v10zm4 0h-2v-4h2v4z\"/>\n",
              "    </g>\n",
              "</svg>\n",
              "  </button>\n",
              "\n",
              "<style>\n",
              "  .colab-df-quickchart {\n",
              "      --bg-color: #E8F0FE;\n",
              "      --fill-color: #1967D2;\n",
              "      --hover-bg-color: #E2EBFA;\n",
              "      --hover-fill-color: #174EA6;\n",
              "      --disabled-fill-color: #AAA;\n",
              "      --disabled-bg-color: #DDD;\n",
              "  }\n",
              "\n",
              "  [theme=dark] .colab-df-quickchart {\n",
              "      --bg-color: #3B4455;\n",
              "      --fill-color: #D2E3FC;\n",
              "      --hover-bg-color: #434B5C;\n",
              "      --hover-fill-color: #FFFFFF;\n",
              "      --disabled-bg-color: #3B4455;\n",
              "      --disabled-fill-color: #666;\n",
              "  }\n",
              "\n",
              "  .colab-df-quickchart {\n",
              "    background-color: var(--bg-color);\n",
              "    border: none;\n",
              "    border-radius: 50%;\n",
              "    cursor: pointer;\n",
              "    display: none;\n",
              "    fill: var(--fill-color);\n",
              "    height: 32px;\n",
              "    padding: 0;\n",
              "    width: 32px;\n",
              "  }\n",
              "\n",
              "  .colab-df-quickchart:hover {\n",
              "    background-color: var(--hover-bg-color);\n",
              "    box-shadow: 0 1px 2px rgba(60, 64, 67, 0.3), 0 1px 3px 1px rgba(60, 64, 67, 0.15);\n",
              "    fill: var(--button-hover-fill-color);\n",
              "  }\n",
              "\n",
              "  .colab-df-quickchart-complete:disabled,\n",
              "  .colab-df-quickchart-complete:disabled:hover {\n",
              "    background-color: var(--disabled-bg-color);\n",
              "    fill: var(--disabled-fill-color);\n",
              "    box-shadow: none;\n",
              "  }\n",
              "\n",
              "  .colab-df-spinner {\n",
              "    border: 2px solid var(--fill-color);\n",
              "    border-color: transparent;\n",
              "    border-bottom-color: var(--fill-color);\n",
              "    animation:\n",
              "      spin 1s steps(1) infinite;\n",
              "  }\n",
              "\n",
              "  @keyframes spin {\n",
              "    0% {\n",
              "      border-color: transparent;\n",
              "      border-bottom-color: var(--fill-color);\n",
              "      border-left-color: var(--fill-color);\n",
              "    }\n",
              "    20% {\n",
              "      border-color: transparent;\n",
              "      border-left-color: var(--fill-color);\n",
              "      border-top-color: var(--fill-color);\n",
              "    }\n",
              "    30% {\n",
              "      border-color: transparent;\n",
              "      border-left-color: var(--fill-color);\n",
              "      border-top-color: var(--fill-color);\n",
              "      border-right-color: var(--fill-color);\n",
              "    }\n",
              "    40% {\n",
              "      border-color: transparent;\n",
              "      border-right-color: var(--fill-color);\n",
              "      border-top-color: var(--fill-color);\n",
              "    }\n",
              "    60% {\n",
              "      border-color: transparent;\n",
              "      border-right-color: var(--fill-color);\n",
              "    }\n",
              "    80% {\n",
              "      border-color: transparent;\n",
              "      border-right-color: var(--fill-color);\n",
              "      border-bottom-color: var(--fill-color);\n",
              "    }\n",
              "    90% {\n",
              "      border-color: transparent;\n",
              "      border-bottom-color: var(--fill-color);\n",
              "    }\n",
              "  }\n",
              "</style>\n",
              "\n",
              "  <script>\n",
              "    async function quickchart(key) {\n",
              "      const quickchartButtonEl =\n",
              "        document.querySelector('#' + key + ' button');\n",
              "      quickchartButtonEl.disabled = true;  // To prevent multiple clicks.\n",
              "      quickchartButtonEl.classList.add('colab-df-spinner');\n",
              "      try {\n",
              "        const charts = await google.colab.kernel.invokeFunction(\n",
              "            'suggestCharts', [key], {});\n",
              "      } catch (error) {\n",
              "        console.error('Error during call to suggestCharts:', error);\n",
              "      }\n",
              "      quickchartButtonEl.classList.remove('colab-df-spinner');\n",
              "      quickchartButtonEl.classList.add('colab-df-quickchart-complete');\n",
              "    }\n",
              "    (() => {\n",
              "      let quickchartButtonEl =\n",
              "        document.querySelector('#df-c4227ab9-2f34-49ab-8b5f-71400f4fec33 button');\n",
              "      quickchartButtonEl.style.display =\n",
              "        google.colab.kernel.accessAllowed ? 'block' : 'none';\n",
              "    })();\n",
              "  </script>\n",
              "</div>\n",
              "    </div>\n",
              "  </div>\n"
            ],
            "text/plain": [
              "               Fecha-I Vlo-I Ori-I Des-I Emp-I              Fecha-O Vlo-O  \\\n",
              "0  2017-01-01 23:30:00   226  SCEL  KMIA   AAL  2017-01-01 23:33:00   226   \n",
              "1  2017-01-02 23:30:00   226  SCEL  KMIA   AAL  2017-01-02 23:39:00   226   \n",
              "2  2017-01-03 23:30:00   226  SCEL  KMIA   AAL  2017-01-03 23:39:00   226   \n",
              "3  2017-01-04 23:30:00   226  SCEL  KMIA   AAL  2017-01-04 23:33:00   226   \n",
              "4  2017-01-05 23:30:00   226  SCEL  KMIA   AAL  2017-01-05 23:28:00   226   \n",
              "5  2017-01-06 23:30:00   226  SCEL  KMIA   AAL  2017-01-07 00:04:00   226   \n",
              "6  2017-01-07 23:30:00   226  SCEL  KMIA   AAL  2017-01-07 23:25:00   226   \n",
              "7  2017-01-08 23:30:00   226  SCEL  KMIA   AAL  2017-01-08 23:25:00   226   \n",
              "8  2017-01-09 23:30:00   226  SCEL  KMIA   AAL  2017-01-10 00:10:00   226   \n",
              "9  2017-01-11 23:30:00   226  SCEL  KMIA   AAL  2017-01-12 00:39:00   226   \n",
              "\n",
              "  Ori-O Des-O Emp-O  ...   AÑO     DIANOM  TIPOVUELO              OPERA  \\\n",
              "0  SCEL  KMIA   AAL  ...  2017    Domingo          I  American Airlines   \n",
              "1  SCEL  KMIA   AAL  ...  2017      Lunes          I  American Airlines   \n",
              "2  SCEL  KMIA   AAL  ...  2017     Martes          I  American Airlines   \n",
              "3  SCEL  KMIA   AAL  ...  2017  Miercoles          I  American Airlines   \n",
              "4  SCEL  KMIA   AAL  ...  2017     Jueves          I  American Airlines   \n",
              "5  SCEL  KMIA   AAL  ...  2017     Sabado          I  American Airlines   \n",
              "6  SCEL  KMIA   AAL  ...  2017     Sabado          I  American Airlines   \n",
              "7  SCEL  KMIA   AAL  ...  2017    Domingo          I  American Airlines   \n",
              "8  SCEL  KMIA   AAL  ...  2017     Martes          I  American Airlines   \n",
              "9  SCEL  KMIA   AAL  ...  2017     Jueves          I  American Airlines   \n",
              "\n",
              "   SIGLAORI SIGLADES temporada_alta dif_min  atraso_15  periodo_dia  \n",
              "0  Santiago    Miami              1     3.0          0        noche  \n",
              "1  Santiago    Miami              1     9.0          0        noche  \n",
              "2  Santiago    Miami              1     9.0          0        noche  \n",
              "3  Santiago    Miami              1     3.0          0        noche  \n",
              "4  Santiago    Miami              1    -2.0          0        noche  \n",
              "5  Santiago    Miami              1    34.0          1        noche  \n",
              "6  Santiago    Miami              1    -5.0          0        noche  \n",
              "7  Santiago    Miami              1    -5.0          0        noche  \n",
              "8  Santiago    Miami              1    40.0          1        noche  \n",
              "9  Santiago    Miami              1    69.0          1        noche  \n",
              "\n",
              "[10 rows x 22 columns]"
            ]
          },
          "execution_count": 19,
          "metadata": {},
          "output_type": "execute_result"
        }
      ],
      "source": [
        "df.head(10)"
      ]
    },
    {
      "cell_type": "code",
      "execution_count": 20,
      "metadata": {
        "colab": {
          "base_uri": "https://localhost:8080/",
          "height": 586
        },
        "id": "dC_82DdJTfbb",
        "outputId": "c85024a8-f737-449a-fe39-71dea6dc3f1e"
      },
      "outputs": [
        {
          "data": {
            "text/html": [
              "\n",
              "  <div id=\"df-180fa2fd-702e-4c66-b1a2-aa957d4cbffd\" class=\"colab-df-container\">\n",
              "    <div>\n",
              "<style scoped>\n",
              "    .dataframe tbody tr th:only-of-type {\n",
              "        vertical-align: middle;\n",
              "    }\n",
              "\n",
              "    .dataframe tbody tr th {\n",
              "        vertical-align: top;\n",
              "    }\n",
              "\n",
              "    .dataframe thead th {\n",
              "        text-align: right;\n",
              "    }\n",
              "</style>\n",
              "<table border=\"1\" class=\"dataframe\">\n",
              "  <thead>\n",
              "    <tr style=\"text-align: right;\">\n",
              "      <th></th>\n",
              "      <th>Fecha-I</th>\n",
              "      <th>Vlo-I</th>\n",
              "      <th>Ori-I</th>\n",
              "      <th>Des-I</th>\n",
              "      <th>Emp-I</th>\n",
              "      <th>Fecha-O</th>\n",
              "      <th>Vlo-O</th>\n",
              "      <th>Ori-O</th>\n",
              "      <th>Des-O</th>\n",
              "      <th>Emp-O</th>\n",
              "      <th>...</th>\n",
              "      <th>AÑO</th>\n",
              "      <th>DIANOM</th>\n",
              "      <th>TIPOVUELO</th>\n",
              "      <th>OPERA</th>\n",
              "      <th>SIGLAORI</th>\n",
              "      <th>SIGLADES</th>\n",
              "      <th>temporada_alta</th>\n",
              "      <th>dif_min</th>\n",
              "      <th>atraso_15</th>\n",
              "      <th>periodo_dia</th>\n",
              "    </tr>\n",
              "  </thead>\n",
              "  <tbody>\n",
              "    <tr>\n",
              "      <th>68196</th>\n",
              "      <td>2017-12-25 20:11:00</td>\n",
              "      <td>305</td>\n",
              "      <td>SCEL</td>\n",
              "      <td>SCCI</td>\n",
              "      <td>JAT</td>\n",
              "      <td>2017-12-25 20:13:00</td>\n",
              "      <td>305.0</td>\n",
              "      <td>SCEL</td>\n",
              "      <td>SCCI</td>\n",
              "      <td>JAT</td>\n",
              "      <td>...</td>\n",
              "      <td>2017</td>\n",
              "      <td>Lunes</td>\n",
              "      <td>N</td>\n",
              "      <td>JetSmart SPA</td>\n",
              "      <td>Santiago</td>\n",
              "      <td>Punta Arenas</td>\n",
              "      <td>1</td>\n",
              "      <td>2.0</td>\n",
              "      <td>0</td>\n",
              "      <td>noche</td>\n",
              "    </tr>\n",
              "    <tr>\n",
              "      <th>68197</th>\n",
              "      <td>2017-12-30 04:05:00</td>\n",
              "      <td>305</td>\n",
              "      <td>SCEL</td>\n",
              "      <td>SCCI</td>\n",
              "      <td>JAT</td>\n",
              "      <td>2017-12-30 04:00:00</td>\n",
              "      <td>305.0</td>\n",
              "      <td>SCEL</td>\n",
              "      <td>SCCI</td>\n",
              "      <td>JAT</td>\n",
              "      <td>...</td>\n",
              "      <td>2017</td>\n",
              "      <td>Sabado</td>\n",
              "      <td>N</td>\n",
              "      <td>JetSmart SPA</td>\n",
              "      <td>Santiago</td>\n",
              "      <td>Punta Arenas</td>\n",
              "      <td>1</td>\n",
              "      <td>-5.0</td>\n",
              "      <td>0</td>\n",
              "      <td>noche</td>\n",
              "    </tr>\n",
              "    <tr>\n",
              "      <th>68198</th>\n",
              "      <td>2017-12-22 18:30:00</td>\n",
              "      <td>307</td>\n",
              "      <td>SCEL</td>\n",
              "      <td>SCCI</td>\n",
              "      <td>JAT</td>\n",
              "      <td>2017-12-22 18:47:00</td>\n",
              "      <td>307.0</td>\n",
              "      <td>SCEL</td>\n",
              "      <td>SCCI</td>\n",
              "      <td>JAT</td>\n",
              "      <td>...</td>\n",
              "      <td>2017</td>\n",
              "      <td>Viernes</td>\n",
              "      <td>N</td>\n",
              "      <td>JetSmart SPA</td>\n",
              "      <td>Santiago</td>\n",
              "      <td>Punta Arenas</td>\n",
              "      <td>1</td>\n",
              "      <td>17.0</td>\n",
              "      <td>1</td>\n",
              "      <td>tarde</td>\n",
              "    </tr>\n",
              "    <tr>\n",
              "      <th>68199</th>\n",
              "      <td>2017-12-29 18:30:00</td>\n",
              "      <td>307</td>\n",
              "      <td>SCEL</td>\n",
              "      <td>SCCI</td>\n",
              "      <td>JAT</td>\n",
              "      <td>2017-12-29 18:31:00</td>\n",
              "      <td>307.0</td>\n",
              "      <td>SCEL</td>\n",
              "      <td>SCCI</td>\n",
              "      <td>JAT</td>\n",
              "      <td>...</td>\n",
              "      <td>2017</td>\n",
              "      <td>Viernes</td>\n",
              "      <td>N</td>\n",
              "      <td>JetSmart SPA</td>\n",
              "      <td>Santiago</td>\n",
              "      <td>Punta Arenas</td>\n",
              "      <td>1</td>\n",
              "      <td>1.0</td>\n",
              "      <td>0</td>\n",
              "      <td>tarde</td>\n",
              "    </tr>\n",
              "    <tr>\n",
              "      <th>68200</th>\n",
              "      <td>2017-12-20 14:55:00</td>\n",
              "      <td>400</td>\n",
              "      <td>SCEL</td>\n",
              "      <td>SPJC</td>\n",
              "      <td>JAT</td>\n",
              "      <td>2017-12-20 15:11:00</td>\n",
              "      <td>400.0</td>\n",
              "      <td>SCEL</td>\n",
              "      <td>SPJC</td>\n",
              "      <td>JAT</td>\n",
              "      <td>...</td>\n",
              "      <td>2017</td>\n",
              "      <td>Miercoles</td>\n",
              "      <td>I</td>\n",
              "      <td>JetSmart SPA</td>\n",
              "      <td>Santiago</td>\n",
              "      <td>Lima</td>\n",
              "      <td>1</td>\n",
              "      <td>16.0</td>\n",
              "      <td>1</td>\n",
              "      <td>tarde</td>\n",
              "    </tr>\n",
              "    <tr>\n",
              "      <th>68201</th>\n",
              "      <td>2017-12-22 14:55:00</td>\n",
              "      <td>400</td>\n",
              "      <td>SCEL</td>\n",
              "      <td>SPJC</td>\n",
              "      <td>JAT</td>\n",
              "      <td>2017-12-22 15:41:00</td>\n",
              "      <td>400.0</td>\n",
              "      <td>SCEL</td>\n",
              "      <td>SPJC</td>\n",
              "      <td>JAT</td>\n",
              "      <td>...</td>\n",
              "      <td>2017</td>\n",
              "      <td>Viernes</td>\n",
              "      <td>I</td>\n",
              "      <td>JetSmart SPA</td>\n",
              "      <td>Santiago</td>\n",
              "      <td>Lima</td>\n",
              "      <td>1</td>\n",
              "      <td>46.0</td>\n",
              "      <td>1</td>\n",
              "      <td>tarde</td>\n",
              "    </tr>\n",
              "    <tr>\n",
              "      <th>68202</th>\n",
              "      <td>2017-12-25 14:55:00</td>\n",
              "      <td>400</td>\n",
              "      <td>SCEL</td>\n",
              "      <td>SPJC</td>\n",
              "      <td>JAT</td>\n",
              "      <td>2017-12-25 15:11:00</td>\n",
              "      <td>400.0</td>\n",
              "      <td>SCEL</td>\n",
              "      <td>SPJC</td>\n",
              "      <td>JAT</td>\n",
              "      <td>...</td>\n",
              "      <td>2017</td>\n",
              "      <td>Lunes</td>\n",
              "      <td>I</td>\n",
              "      <td>JetSmart SPA</td>\n",
              "      <td>Santiago</td>\n",
              "      <td>Lima</td>\n",
              "      <td>1</td>\n",
              "      <td>16.0</td>\n",
              "      <td>1</td>\n",
              "      <td>tarde</td>\n",
              "    </tr>\n",
              "    <tr>\n",
              "      <th>68203</th>\n",
              "      <td>2017-12-27 14:55:00</td>\n",
              "      <td>400</td>\n",
              "      <td>SCEL</td>\n",
              "      <td>SPJC</td>\n",
              "      <td>JAT</td>\n",
              "      <td>2017-12-27 15:35:00</td>\n",
              "      <td>400.0</td>\n",
              "      <td>SCEL</td>\n",
              "      <td>SPJC</td>\n",
              "      <td>JAT</td>\n",
              "      <td>...</td>\n",
              "      <td>2017</td>\n",
              "      <td>Miercoles</td>\n",
              "      <td>I</td>\n",
              "      <td>JetSmart SPA</td>\n",
              "      <td>Santiago</td>\n",
              "      <td>Lima</td>\n",
              "      <td>1</td>\n",
              "      <td>40.0</td>\n",
              "      <td>1</td>\n",
              "      <td>tarde</td>\n",
              "    </tr>\n",
              "    <tr>\n",
              "      <th>68204</th>\n",
              "      <td>2017-12-29 14:55:00</td>\n",
              "      <td>400</td>\n",
              "      <td>SCEL</td>\n",
              "      <td>SPJC</td>\n",
              "      <td>JAT</td>\n",
              "      <td>2017-12-29 15:08:00</td>\n",
              "      <td>400.0</td>\n",
              "      <td>SCEL</td>\n",
              "      <td>SPJC</td>\n",
              "      <td>JAT</td>\n",
              "      <td>...</td>\n",
              "      <td>2017</td>\n",
              "      <td>Viernes</td>\n",
              "      <td>I</td>\n",
              "      <td>JetSmart SPA</td>\n",
              "      <td>Santiago</td>\n",
              "      <td>Lima</td>\n",
              "      <td>1</td>\n",
              "      <td>13.0</td>\n",
              "      <td>0</td>\n",
              "      <td>tarde</td>\n",
              "    </tr>\n",
              "    <tr>\n",
              "      <th>68205</th>\n",
              "      <td>2017-12-31 14:55:00</td>\n",
              "      <td>400</td>\n",
              "      <td>SCEL</td>\n",
              "      <td>SPJC</td>\n",
              "      <td>JAT</td>\n",
              "      <td>2017-12-31 15:04:00</td>\n",
              "      <td>400.0</td>\n",
              "      <td>SCEL</td>\n",
              "      <td>SPJC</td>\n",
              "      <td>JAT</td>\n",
              "      <td>...</td>\n",
              "      <td>2017</td>\n",
              "      <td>Domingo</td>\n",
              "      <td>I</td>\n",
              "      <td>JetSmart SPA</td>\n",
              "      <td>Santiago</td>\n",
              "      <td>Lima</td>\n",
              "      <td>0</td>\n",
              "      <td>9.0</td>\n",
              "      <td>0</td>\n",
              "      <td>tarde</td>\n",
              "    </tr>\n",
              "  </tbody>\n",
              "</table>\n",
              "<p>10 rows × 22 columns</p>\n",
              "</div>\n",
              "    <div class=\"colab-df-buttons\">\n",
              "\n",
              "  <div class=\"colab-df-container\">\n",
              "    <button class=\"colab-df-convert\" onclick=\"convertToInteractive('df-180fa2fd-702e-4c66-b1a2-aa957d4cbffd')\"\n",
              "            title=\"Convert this dataframe to an interactive table.\"\n",
              "            style=\"display:none;\">\n",
              "\n",
              "  <svg xmlns=\"http://www.w3.org/2000/svg\" height=\"24px\" viewBox=\"0 -960 960 960\">\n",
              "    <path d=\"M120-120v-720h720v720H120Zm60-500h600v-160H180v160Zm220 220h160v-160H400v160Zm0 220h160v-160H400v160ZM180-400h160v-160H180v160Zm440 0h160v-160H620v160ZM180-180h160v-160H180v160Zm440 0h160v-160H620v160Z\"/>\n",
              "  </svg>\n",
              "    </button>\n",
              "\n",
              "  <style>\n",
              "    .colab-df-container {\n",
              "      display:flex;\n",
              "      gap: 12px;\n",
              "    }\n",
              "\n",
              "    .colab-df-convert {\n",
              "      background-color: #E8F0FE;\n",
              "      border: none;\n",
              "      border-radius: 50%;\n",
              "      cursor: pointer;\n",
              "      display: none;\n",
              "      fill: #1967D2;\n",
              "      height: 32px;\n",
              "      padding: 0 0 0 0;\n",
              "      width: 32px;\n",
              "    }\n",
              "\n",
              "    .colab-df-convert:hover {\n",
              "      background-color: #E2EBFA;\n",
              "      box-shadow: 0px 1px 2px rgba(60, 64, 67, 0.3), 0px 1px 3px 1px rgba(60, 64, 67, 0.15);\n",
              "      fill: #174EA6;\n",
              "    }\n",
              "\n",
              "    .colab-df-buttons div {\n",
              "      margin-bottom: 4px;\n",
              "    }\n",
              "\n",
              "    [theme=dark] .colab-df-convert {\n",
              "      background-color: #3B4455;\n",
              "      fill: #D2E3FC;\n",
              "    }\n",
              "\n",
              "    [theme=dark] .colab-df-convert:hover {\n",
              "      background-color: #434B5C;\n",
              "      box-shadow: 0px 1px 3px 1px rgba(0, 0, 0, 0.15);\n",
              "      filter: drop-shadow(0px 1px 2px rgba(0, 0, 0, 0.3));\n",
              "      fill: #FFFFFF;\n",
              "    }\n",
              "  </style>\n",
              "\n",
              "    <script>\n",
              "      const buttonEl =\n",
              "        document.querySelector('#df-180fa2fd-702e-4c66-b1a2-aa957d4cbffd button.colab-df-convert');\n",
              "      buttonEl.style.display =\n",
              "        google.colab.kernel.accessAllowed ? 'block' : 'none';\n",
              "\n",
              "      async function convertToInteractive(key) {\n",
              "        const element = document.querySelector('#df-180fa2fd-702e-4c66-b1a2-aa957d4cbffd');\n",
              "        const dataTable =\n",
              "          await google.colab.kernel.invokeFunction('convertToInteractive',\n",
              "                                                    [key], {});\n",
              "        if (!dataTable) return;\n",
              "\n",
              "        const docLinkHtml = 'Like what you see? Visit the ' +\n",
              "          '<a target=\"_blank\" href=https://colab.research.google.com/notebooks/data_table.ipynb>data table notebook</a>'\n",
              "          + ' to learn more about interactive tables.';\n",
              "        element.innerHTML = '';\n",
              "        dataTable['output_type'] = 'display_data';\n",
              "        await google.colab.output.renderOutput(dataTable, element);\n",
              "        const docLink = document.createElement('div');\n",
              "        docLink.innerHTML = docLinkHtml;\n",
              "        element.appendChild(docLink);\n",
              "      }\n",
              "    </script>\n",
              "  </div>\n",
              "\n",
              "\n",
              "<div id=\"df-7a3cc7c2-8773-4f49-84dc-144b87b6852b\">\n",
              "  <button class=\"colab-df-quickchart\" onclick=\"quickchart('df-7a3cc7c2-8773-4f49-84dc-144b87b6852b')\"\n",
              "            title=\"Suggest charts.\"\n",
              "            style=\"display:none;\">\n",
              "\n",
              "<svg xmlns=\"http://www.w3.org/2000/svg\" height=\"24px\"viewBox=\"0 0 24 24\"\n",
              "     width=\"24px\">\n",
              "    <g>\n",
              "        <path d=\"M19 3H5c-1.1 0-2 .9-2 2v14c0 1.1.9 2 2 2h14c1.1 0 2-.9 2-2V5c0-1.1-.9-2-2-2zM9 17H7v-7h2v7zm4 0h-2V7h2v10zm4 0h-2v-4h2v4z\"/>\n",
              "    </g>\n",
              "</svg>\n",
              "  </button>\n",
              "\n",
              "<style>\n",
              "  .colab-df-quickchart {\n",
              "      --bg-color: #E8F0FE;\n",
              "      --fill-color: #1967D2;\n",
              "      --hover-bg-color: #E2EBFA;\n",
              "      --hover-fill-color: #174EA6;\n",
              "      --disabled-fill-color: #AAA;\n",
              "      --disabled-bg-color: #DDD;\n",
              "  }\n",
              "\n",
              "  [theme=dark] .colab-df-quickchart {\n",
              "      --bg-color: #3B4455;\n",
              "      --fill-color: #D2E3FC;\n",
              "      --hover-bg-color: #434B5C;\n",
              "      --hover-fill-color: #FFFFFF;\n",
              "      --disabled-bg-color: #3B4455;\n",
              "      --disabled-fill-color: #666;\n",
              "  }\n",
              "\n",
              "  .colab-df-quickchart {\n",
              "    background-color: var(--bg-color);\n",
              "    border: none;\n",
              "    border-radius: 50%;\n",
              "    cursor: pointer;\n",
              "    display: none;\n",
              "    fill: var(--fill-color);\n",
              "    height: 32px;\n",
              "    padding: 0;\n",
              "    width: 32px;\n",
              "  }\n",
              "\n",
              "  .colab-df-quickchart:hover {\n",
              "    background-color: var(--hover-bg-color);\n",
              "    box-shadow: 0 1px 2px rgba(60, 64, 67, 0.3), 0 1px 3px 1px rgba(60, 64, 67, 0.15);\n",
              "    fill: var(--button-hover-fill-color);\n",
              "  }\n",
              "\n",
              "  .colab-df-quickchart-complete:disabled,\n",
              "  .colab-df-quickchart-complete:disabled:hover {\n",
              "    background-color: var(--disabled-bg-color);\n",
              "    fill: var(--disabled-fill-color);\n",
              "    box-shadow: none;\n",
              "  }\n",
              "\n",
              "  .colab-df-spinner {\n",
              "    border: 2px solid var(--fill-color);\n",
              "    border-color: transparent;\n",
              "    border-bottom-color: var(--fill-color);\n",
              "    animation:\n",
              "      spin 1s steps(1) infinite;\n",
              "  }\n",
              "\n",
              "  @keyframes spin {\n",
              "    0% {\n",
              "      border-color: transparent;\n",
              "      border-bottom-color: var(--fill-color);\n",
              "      border-left-color: var(--fill-color);\n",
              "    }\n",
              "    20% {\n",
              "      border-color: transparent;\n",
              "      border-left-color: var(--fill-color);\n",
              "      border-top-color: var(--fill-color);\n",
              "    }\n",
              "    30% {\n",
              "      border-color: transparent;\n",
              "      border-left-color: var(--fill-color);\n",
              "      border-top-color: var(--fill-color);\n",
              "      border-right-color: var(--fill-color);\n",
              "    }\n",
              "    40% {\n",
              "      border-color: transparent;\n",
              "      border-right-color: var(--fill-color);\n",
              "      border-top-color: var(--fill-color);\n",
              "    }\n",
              "    60% {\n",
              "      border-color: transparent;\n",
              "      border-right-color: var(--fill-color);\n",
              "    }\n",
              "    80% {\n",
              "      border-color: transparent;\n",
              "      border-right-color: var(--fill-color);\n",
              "      border-bottom-color: var(--fill-color);\n",
              "    }\n",
              "    90% {\n",
              "      border-color: transparent;\n",
              "      border-bottom-color: var(--fill-color);\n",
              "    }\n",
              "  }\n",
              "</style>\n",
              "\n",
              "  <script>\n",
              "    async function quickchart(key) {\n",
              "      const quickchartButtonEl =\n",
              "        document.querySelector('#' + key + ' button');\n",
              "      quickchartButtonEl.disabled = true;  // To prevent multiple clicks.\n",
              "      quickchartButtonEl.classList.add('colab-df-spinner');\n",
              "      try {\n",
              "        const charts = await google.colab.kernel.invokeFunction(\n",
              "            'suggestCharts', [key], {});\n",
              "      } catch (error) {\n",
              "        console.error('Error during call to suggestCharts:', error);\n",
              "      }\n",
              "      quickchartButtonEl.classList.remove('colab-df-spinner');\n",
              "      quickchartButtonEl.classList.add('colab-df-quickchart-complete');\n",
              "    }\n",
              "    (() => {\n",
              "      let quickchartButtonEl =\n",
              "        document.querySelector('#df-7a3cc7c2-8773-4f49-84dc-144b87b6852b button');\n",
              "      quickchartButtonEl.style.display =\n",
              "        google.colab.kernel.accessAllowed ? 'block' : 'none';\n",
              "    })();\n",
              "  </script>\n",
              "</div>\n",
              "    </div>\n",
              "  </div>\n"
            ],
            "text/plain": [
              "                   Fecha-I Vlo-I Ori-I Des-I Emp-I              Fecha-O  \\\n",
              "68196  2017-12-25 20:11:00   305  SCEL  SCCI   JAT  2017-12-25 20:13:00   \n",
              "68197  2017-12-30 04:05:00   305  SCEL  SCCI   JAT  2017-12-30 04:00:00   \n",
              "68198  2017-12-22 18:30:00   307  SCEL  SCCI   JAT  2017-12-22 18:47:00   \n",
              "68199  2017-12-29 18:30:00   307  SCEL  SCCI   JAT  2017-12-29 18:31:00   \n",
              "68200  2017-12-20 14:55:00   400  SCEL  SPJC   JAT  2017-12-20 15:11:00   \n",
              "68201  2017-12-22 14:55:00   400  SCEL  SPJC   JAT  2017-12-22 15:41:00   \n",
              "68202  2017-12-25 14:55:00   400  SCEL  SPJC   JAT  2017-12-25 15:11:00   \n",
              "68203  2017-12-27 14:55:00   400  SCEL  SPJC   JAT  2017-12-27 15:35:00   \n",
              "68204  2017-12-29 14:55:00   400  SCEL  SPJC   JAT  2017-12-29 15:08:00   \n",
              "68205  2017-12-31 14:55:00   400  SCEL  SPJC   JAT  2017-12-31 15:04:00   \n",
              "\n",
              "       Vlo-O Ori-O Des-O Emp-O  ...   AÑO     DIANOM  TIPOVUELO         OPERA  \\\n",
              "68196  305.0  SCEL  SCCI   JAT  ...  2017      Lunes          N  JetSmart SPA   \n",
              "68197  305.0  SCEL  SCCI   JAT  ...  2017     Sabado          N  JetSmart SPA   \n",
              "68198  307.0  SCEL  SCCI   JAT  ...  2017    Viernes          N  JetSmart SPA   \n",
              "68199  307.0  SCEL  SCCI   JAT  ...  2017    Viernes          N  JetSmart SPA   \n",
              "68200  400.0  SCEL  SPJC   JAT  ...  2017  Miercoles          I  JetSmart SPA   \n",
              "68201  400.0  SCEL  SPJC   JAT  ...  2017    Viernes          I  JetSmart SPA   \n",
              "68202  400.0  SCEL  SPJC   JAT  ...  2017      Lunes          I  JetSmart SPA   \n",
              "68203  400.0  SCEL  SPJC   JAT  ...  2017  Miercoles          I  JetSmart SPA   \n",
              "68204  400.0  SCEL  SPJC   JAT  ...  2017    Viernes          I  JetSmart SPA   \n",
              "68205  400.0  SCEL  SPJC   JAT  ...  2017    Domingo          I  JetSmart SPA   \n",
              "\n",
              "       SIGLAORI      SIGLADES temporada_alta dif_min  atraso_15  periodo_dia  \n",
              "68196  Santiago  Punta Arenas              1     2.0          0        noche  \n",
              "68197  Santiago  Punta Arenas              1    -5.0          0        noche  \n",
              "68198  Santiago  Punta Arenas              1    17.0          1        tarde  \n",
              "68199  Santiago  Punta Arenas              1     1.0          0        tarde  \n",
              "68200  Santiago          Lima              1    16.0          1        tarde  \n",
              "68201  Santiago          Lima              1    46.0          1        tarde  \n",
              "68202  Santiago          Lima              1    16.0          1        tarde  \n",
              "68203  Santiago          Lima              1    40.0          1        tarde  \n",
              "68204  Santiago          Lima              1    13.0          0        tarde  \n",
              "68205  Santiago          Lima              0     9.0          0        tarde  \n",
              "\n",
              "[10 rows x 22 columns]"
            ]
          },
          "execution_count": 20,
          "metadata": {},
          "output_type": "execute_result"
        }
      ],
      "source": [
        "df.tail(10)"
      ]
    },
    {
      "cell_type": "code",
      "execution_count": 21,
      "metadata": {
        "colab": {
          "base_uri": "https://localhost:8080/",
          "height": 300
        },
        "id": "-AYLjw327IdM",
        "outputId": "9a55c1c0-c10c-4997-900d-e32570ddeab8"
      },
      "outputs": [
        {
          "data": {
            "text/html": [
              "\n",
              "  <div id=\"df-cf6184ab-65cb-4d66-a34e-a75174492673\" class=\"colab-df-container\">\n",
              "    <div>\n",
              "<style scoped>\n",
              "    .dataframe tbody tr th:only-of-type {\n",
              "        vertical-align: middle;\n",
              "    }\n",
              "\n",
              "    .dataframe tbody tr th {\n",
              "        vertical-align: top;\n",
              "    }\n",
              "\n",
              "    .dataframe thead th {\n",
              "        text-align: right;\n",
              "    }\n",
              "</style>\n",
              "<table border=\"1\" class=\"dataframe\">\n",
              "  <thead>\n",
              "    <tr style=\"text-align: right;\">\n",
              "      <th></th>\n",
              "      <th>DIA</th>\n",
              "      <th>MES</th>\n",
              "      <th>AÑO</th>\n",
              "      <th>temporada_alta</th>\n",
              "      <th>dif_min</th>\n",
              "      <th>atraso_15</th>\n",
              "    </tr>\n",
              "  </thead>\n",
              "  <tbody>\n",
              "    <tr>\n",
              "      <th>count</th>\n",
              "      <td>68205.000000</td>\n",
              "      <td>68205.000000</td>\n",
              "      <td>68205.000000</td>\n",
              "      <td>68205.000000</td>\n",
              "      <td>68205.000000</td>\n",
              "      <td>68205.000000</td>\n",
              "    </tr>\n",
              "    <tr>\n",
              "      <th>mean</th>\n",
              "      <td>15.714742</td>\n",
              "      <td>6.622667</td>\n",
              "      <td>2017.000029</td>\n",
              "      <td>0.323012</td>\n",
              "      <td>9.110945</td>\n",
              "      <td>0.184942</td>\n",
              "    </tr>\n",
              "    <tr>\n",
              "      <th>std</th>\n",
              "      <td>8.782941</td>\n",
              "      <td>3.523281</td>\n",
              "      <td>0.005415</td>\n",
              "      <td>0.467630</td>\n",
              "      <td>19.313514</td>\n",
              "      <td>0.388254</td>\n",
              "    </tr>\n",
              "    <tr>\n",
              "      <th>min</th>\n",
              "      <td>1.000000</td>\n",
              "      <td>1.000000</td>\n",
              "      <td>2017.000000</td>\n",
              "      <td>0.000000</td>\n",
              "      <td>-14.000000</td>\n",
              "      <td>0.000000</td>\n",
              "    </tr>\n",
              "    <tr>\n",
              "      <th>25%</th>\n",
              "      <td>8.000000</td>\n",
              "      <td>3.000000</td>\n",
              "      <td>2017.000000</td>\n",
              "      <td>0.000000</td>\n",
              "      <td>-1.000000</td>\n",
              "      <td>0.000000</td>\n",
              "    </tr>\n",
              "    <tr>\n",
              "      <th>50%</th>\n",
              "      <td>16.000000</td>\n",
              "      <td>7.000000</td>\n",
              "      <td>2017.000000</td>\n",
              "      <td>0.000000</td>\n",
              "      <td>4.000000</td>\n",
              "      <td>0.000000</td>\n",
              "    </tr>\n",
              "    <tr>\n",
              "      <th>75%</th>\n",
              "      <td>23.000000</td>\n",
              "      <td>10.000000</td>\n",
              "      <td>2017.000000</td>\n",
              "      <td>1.000000</td>\n",
              "      <td>12.000000</td>\n",
              "      <td>0.000000</td>\n",
              "    </tr>\n",
              "    <tr>\n",
              "      <th>max</th>\n",
              "      <td>31.000000</td>\n",
              "      <td>12.000000</td>\n",
              "      <td>2018.000000</td>\n",
              "      <td>1.000000</td>\n",
              "      <td>161.000000</td>\n",
              "      <td>1.000000</td>\n",
              "    </tr>\n",
              "  </tbody>\n",
              "</table>\n",
              "</div>\n",
              "    <div class=\"colab-df-buttons\">\n",
              "\n",
              "  <div class=\"colab-df-container\">\n",
              "    <button class=\"colab-df-convert\" onclick=\"convertToInteractive('df-cf6184ab-65cb-4d66-a34e-a75174492673')\"\n",
              "            title=\"Convert this dataframe to an interactive table.\"\n",
              "            style=\"display:none;\">\n",
              "\n",
              "  <svg xmlns=\"http://www.w3.org/2000/svg\" height=\"24px\" viewBox=\"0 -960 960 960\">\n",
              "    <path d=\"M120-120v-720h720v720H120Zm60-500h600v-160H180v160Zm220 220h160v-160H400v160Zm0 220h160v-160H400v160ZM180-400h160v-160H180v160Zm440 0h160v-160H620v160ZM180-180h160v-160H180v160Zm440 0h160v-160H620v160Z\"/>\n",
              "  </svg>\n",
              "    </button>\n",
              "\n",
              "  <style>\n",
              "    .colab-df-container {\n",
              "      display:flex;\n",
              "      gap: 12px;\n",
              "    }\n",
              "\n",
              "    .colab-df-convert {\n",
              "      background-color: #E8F0FE;\n",
              "      border: none;\n",
              "      border-radius: 50%;\n",
              "      cursor: pointer;\n",
              "      display: none;\n",
              "      fill: #1967D2;\n",
              "      height: 32px;\n",
              "      padding: 0 0 0 0;\n",
              "      width: 32px;\n",
              "    }\n",
              "\n",
              "    .colab-df-convert:hover {\n",
              "      background-color: #E2EBFA;\n",
              "      box-shadow: 0px 1px 2px rgba(60, 64, 67, 0.3), 0px 1px 3px 1px rgba(60, 64, 67, 0.15);\n",
              "      fill: #174EA6;\n",
              "    }\n",
              "\n",
              "    .colab-df-buttons div {\n",
              "      margin-bottom: 4px;\n",
              "    }\n",
              "\n",
              "    [theme=dark] .colab-df-convert {\n",
              "      background-color: #3B4455;\n",
              "      fill: #D2E3FC;\n",
              "    }\n",
              "\n",
              "    [theme=dark] .colab-df-convert:hover {\n",
              "      background-color: #434B5C;\n",
              "      box-shadow: 0px 1px 3px 1px rgba(0, 0, 0, 0.15);\n",
              "      filter: drop-shadow(0px 1px 2px rgba(0, 0, 0, 0.3));\n",
              "      fill: #FFFFFF;\n",
              "    }\n",
              "  </style>\n",
              "\n",
              "    <script>\n",
              "      const buttonEl =\n",
              "        document.querySelector('#df-cf6184ab-65cb-4d66-a34e-a75174492673 button.colab-df-convert');\n",
              "      buttonEl.style.display =\n",
              "        google.colab.kernel.accessAllowed ? 'block' : 'none';\n",
              "\n",
              "      async function convertToInteractive(key) {\n",
              "        const element = document.querySelector('#df-cf6184ab-65cb-4d66-a34e-a75174492673');\n",
              "        const dataTable =\n",
              "          await google.colab.kernel.invokeFunction('convertToInteractive',\n",
              "                                                    [key], {});\n",
              "        if (!dataTable) return;\n",
              "\n",
              "        const docLinkHtml = 'Like what you see? Visit the ' +\n",
              "          '<a target=\"_blank\" href=https://colab.research.google.com/notebooks/data_table.ipynb>data table notebook</a>'\n",
              "          + ' to learn more about interactive tables.';\n",
              "        element.innerHTML = '';\n",
              "        dataTable['output_type'] = 'display_data';\n",
              "        await google.colab.output.renderOutput(dataTable, element);\n",
              "        const docLink = document.createElement('div');\n",
              "        docLink.innerHTML = docLinkHtml;\n",
              "        element.appendChild(docLink);\n",
              "      }\n",
              "    </script>\n",
              "  </div>\n",
              "\n",
              "\n",
              "<div id=\"df-fc317a63-e17a-4251-a392-f26ab27428f9\">\n",
              "  <button class=\"colab-df-quickchart\" onclick=\"quickchart('df-fc317a63-e17a-4251-a392-f26ab27428f9')\"\n",
              "            title=\"Suggest charts.\"\n",
              "            style=\"display:none;\">\n",
              "\n",
              "<svg xmlns=\"http://www.w3.org/2000/svg\" height=\"24px\"viewBox=\"0 0 24 24\"\n",
              "     width=\"24px\">\n",
              "    <g>\n",
              "        <path d=\"M19 3H5c-1.1 0-2 .9-2 2v14c0 1.1.9 2 2 2h14c1.1 0 2-.9 2-2V5c0-1.1-.9-2-2-2zM9 17H7v-7h2v7zm4 0h-2V7h2v10zm4 0h-2v-4h2v4z\"/>\n",
              "    </g>\n",
              "</svg>\n",
              "  </button>\n",
              "\n",
              "<style>\n",
              "  .colab-df-quickchart {\n",
              "      --bg-color: #E8F0FE;\n",
              "      --fill-color: #1967D2;\n",
              "      --hover-bg-color: #E2EBFA;\n",
              "      --hover-fill-color: #174EA6;\n",
              "      --disabled-fill-color: #AAA;\n",
              "      --disabled-bg-color: #DDD;\n",
              "  }\n",
              "\n",
              "  [theme=dark] .colab-df-quickchart {\n",
              "      --bg-color: #3B4455;\n",
              "      --fill-color: #D2E3FC;\n",
              "      --hover-bg-color: #434B5C;\n",
              "      --hover-fill-color: #FFFFFF;\n",
              "      --disabled-bg-color: #3B4455;\n",
              "      --disabled-fill-color: #666;\n",
              "  }\n",
              "\n",
              "  .colab-df-quickchart {\n",
              "    background-color: var(--bg-color);\n",
              "    border: none;\n",
              "    border-radius: 50%;\n",
              "    cursor: pointer;\n",
              "    display: none;\n",
              "    fill: var(--fill-color);\n",
              "    height: 32px;\n",
              "    padding: 0;\n",
              "    width: 32px;\n",
              "  }\n",
              "\n",
              "  .colab-df-quickchart:hover {\n",
              "    background-color: var(--hover-bg-color);\n",
              "    box-shadow: 0 1px 2px rgba(60, 64, 67, 0.3), 0 1px 3px 1px rgba(60, 64, 67, 0.15);\n",
              "    fill: var(--button-hover-fill-color);\n",
              "  }\n",
              "\n",
              "  .colab-df-quickchart-complete:disabled,\n",
              "  .colab-df-quickchart-complete:disabled:hover {\n",
              "    background-color: var(--disabled-bg-color);\n",
              "    fill: var(--disabled-fill-color);\n",
              "    box-shadow: none;\n",
              "  }\n",
              "\n",
              "  .colab-df-spinner {\n",
              "    border: 2px solid var(--fill-color);\n",
              "    border-color: transparent;\n",
              "    border-bottom-color: var(--fill-color);\n",
              "    animation:\n",
              "      spin 1s steps(1) infinite;\n",
              "  }\n",
              "\n",
              "  @keyframes spin {\n",
              "    0% {\n",
              "      border-color: transparent;\n",
              "      border-bottom-color: var(--fill-color);\n",
              "      border-left-color: var(--fill-color);\n",
              "    }\n",
              "    20% {\n",
              "      border-color: transparent;\n",
              "      border-left-color: var(--fill-color);\n",
              "      border-top-color: var(--fill-color);\n",
              "    }\n",
              "    30% {\n",
              "      border-color: transparent;\n",
              "      border-left-color: var(--fill-color);\n",
              "      border-top-color: var(--fill-color);\n",
              "      border-right-color: var(--fill-color);\n",
              "    }\n",
              "    40% {\n",
              "      border-color: transparent;\n",
              "      border-right-color: var(--fill-color);\n",
              "      border-top-color: var(--fill-color);\n",
              "    }\n",
              "    60% {\n",
              "      border-color: transparent;\n",
              "      border-right-color: var(--fill-color);\n",
              "    }\n",
              "    80% {\n",
              "      border-color: transparent;\n",
              "      border-right-color: var(--fill-color);\n",
              "      border-bottom-color: var(--fill-color);\n",
              "    }\n",
              "    90% {\n",
              "      border-color: transparent;\n",
              "      border-bottom-color: var(--fill-color);\n",
              "    }\n",
              "  }\n",
              "</style>\n",
              "\n",
              "  <script>\n",
              "    async function quickchart(key) {\n",
              "      const quickchartButtonEl =\n",
              "        document.querySelector('#' + key + ' button');\n",
              "      quickchartButtonEl.disabled = true;  // To prevent multiple clicks.\n",
              "      quickchartButtonEl.classList.add('colab-df-spinner');\n",
              "      try {\n",
              "        const charts = await google.colab.kernel.invokeFunction(\n",
              "            'suggestCharts', [key], {});\n",
              "      } catch (error) {\n",
              "        console.error('Error during call to suggestCharts:', error);\n",
              "      }\n",
              "      quickchartButtonEl.classList.remove('colab-df-spinner');\n",
              "      quickchartButtonEl.classList.add('colab-df-quickchart-complete');\n",
              "    }\n",
              "    (() => {\n",
              "      let quickchartButtonEl =\n",
              "        document.querySelector('#df-fc317a63-e17a-4251-a392-f26ab27428f9 button');\n",
              "      quickchartButtonEl.style.display =\n",
              "        google.colab.kernel.accessAllowed ? 'block' : 'none';\n",
              "    })();\n",
              "  </script>\n",
              "</div>\n",
              "    </div>\n",
              "  </div>\n"
            ],
            "text/plain": [
              "                DIA           MES           AÑO  temporada_alta       dif_min  \\\n",
              "count  68205.000000  68205.000000  68205.000000    68205.000000  68205.000000   \n",
              "mean      15.714742      6.622667   2017.000029        0.323012      9.110945   \n",
              "std        8.782941      3.523281      0.005415        0.467630     19.313514   \n",
              "min        1.000000      1.000000   2017.000000        0.000000    -14.000000   \n",
              "25%        8.000000      3.000000   2017.000000        0.000000     -1.000000   \n",
              "50%       16.000000      7.000000   2017.000000        0.000000      4.000000   \n",
              "75%       23.000000     10.000000   2017.000000        1.000000     12.000000   \n",
              "max       31.000000     12.000000   2018.000000        1.000000    161.000000   \n",
              "\n",
              "          atraso_15  \n",
              "count  68205.000000  \n",
              "mean       0.184942  \n",
              "std        0.388254  \n",
              "min        0.000000  \n",
              "25%        0.000000  \n",
              "50%        0.000000  \n",
              "75%        0.000000  \n",
              "max        1.000000  "
            ]
          },
          "execution_count": 21,
          "metadata": {},
          "output_type": "execute_result"
        }
      ],
      "source": [
        "df.describe()"
      ]
    },
    {
      "cell_type": "code",
      "execution_count": 22,
      "metadata": {
        "colab": {
          "base_uri": "https://localhost:8080/"
        },
        "id": "VB3DUDVU09B7",
        "outputId": "b983ee3b-c9f2-4e6d-8b0e-0e410f2248bc"
      },
      "outputs": [
        {
          "name": "stdout",
          "output_type": "stream",
          "text": [
            "<class 'pandas.core.frame.DataFrame'>\n",
            "Int64Index: 68205 entries, 0 to 68205\n",
            "Data columns (total 22 columns):\n",
            " #   Column          Non-Null Count  Dtype  \n",
            "---  ------          --------------  -----  \n",
            " 0   Fecha-I         68205 non-null  object \n",
            " 1   Vlo-I           68205 non-null  object \n",
            " 2   Ori-I           68205 non-null  object \n",
            " 3   Des-I           68205 non-null  object \n",
            " 4   Emp-I           68205 non-null  object \n",
            " 5   Fecha-O         68205 non-null  object \n",
            " 6   Vlo-O           68205 non-null  object \n",
            " 7   Ori-O           68205 non-null  object \n",
            " 8   Des-O           68205 non-null  object \n",
            " 9   Emp-O           68205 non-null  object \n",
            " 10  DIA             68205 non-null  int64  \n",
            " 11  MES             68205 non-null  int64  \n",
            " 12  AÑO             68205 non-null  int64  \n",
            " 13  DIANOM          68205 non-null  object \n",
            " 14  TIPOVUELO       68205 non-null  object \n",
            " 15  OPERA           68205 non-null  object \n",
            " 16  SIGLAORI        68205 non-null  object \n",
            " 17  SIGLADES        68205 non-null  object \n",
            " 18  temporada_alta  68205 non-null  int64  \n",
            " 19  dif_min         68205 non-null  float64\n",
            " 20  atraso_15       68205 non-null  int64  \n",
            " 21  periodo_dia     66975 non-null  object \n",
            "dtypes: float64(1), int64(5), object(16)\n",
            "memory usage: 12.0+ MB\n"
          ]
        }
      ],
      "source": [
        "df.info()"
      ]
    },
    {
      "cell_type": "markdown",
      "metadata": {
        "id": "b-agvcNO0-3e"
      },
      "source": [
        "### Eliminar filas que no necesitaremos en Vlo-O y Vlo-I\n",
        "\n"
      ]
    },
    {
      "cell_type": "code",
      "execution_count": 18,
      "metadata": {
        "colab": {
          "base_uri": "https://localhost:8080/"
        },
        "id": "f2R8Ps7z3Syo",
        "outputId": "4b0890f9-94f5-45c3-9925-5bb9b10a4c80"
      },
      "outputs": [
        {
          "name": "stdout",
          "output_type": "stream",
          "text": [
            "Valores con letras en 'Vlo-O': 16\n",
            "Valores completamente numéricos en 'Vlo-O': 68189\n",
            "Porcentaje de valores con letras en 'Vlo-O': 0.02%\n"
          ]
        }
      ],
      "source": [
        "import pandas as pd\n",
        "\n",
        "# Conteo de valores que contienen letras en la columna 'Vlo-O'\n",
        "count_alpha = df['Vlo-O'].apply(lambda x: any(c.isalpha() for c in str(x))).sum()\n",
        "\n",
        "# Total de valores en la columna 'Vlo-O'\n",
        "total_values = len(df)\n",
        "\n",
        "# Porcentaje de valores con letras en 'Vlo-O'\n",
        "percentage_with_letters = (count_alpha / total_values) * 100\n",
        "\n",
        "print(f\"Valores con letras en 'Vlo-O': {count_alpha}\")\n",
        "print(f\"Valores completamente numéricos en 'Vlo-O': {total_values - count_alpha}\")\n",
        "print(f\"Porcentaje de valores con letras en 'Vlo-O': {percentage_with_letters:.2f}%\")\n"
      ]
    },
    {
      "cell_type": "markdown",
      "metadata": {
        "id": "nP5vHURuWoyZ"
      },
      "source": [
        "##### **[dataframe Checkpoint]**"
      ]
    },
    {
      "cell_type": "code",
      "execution_count": 19,
      "metadata": {
        "id": "lUjp0fiQ5AjI"
      },
      "outputs": [],
      "source": [
        "#dataframe checkpoint para backup & restore\n",
        "# (invertir 'comentado')\n",
        "df_backup = df\n",
        "#df = df_backup"
      ]
    },
    {
      "cell_type": "markdown",
      "metadata": {
        "id": "mvUXBVgozTuU"
      },
      "source": [
        "#### Ingeniería de Características\n",
        "\n",
        "a. Creación de Características Temporales:\n",
        "\n",
        "* Sería relevante poder extraer características de las fechas, como el día de la semana, el mes y la hora pero mientras no sepamos el objetivo producto en concreto puedo relativisar la profundidad de esta separación en sub caracteristicas que quizás no aporten necesariamente al modelo final si no mas bien, sobre dimensionen.\n",
        "\n",
        "* Considero mantener los Códigos de vuelo solo si la solución final exige que se desplieguen como alternativas que se quiera evaluar desde el frontend pero a mi parecer, con un model oque permita poner tipio de opoerador, destino, mes, temprada tipo de vuelo y periodo del día ya es posible hacernos una idea de que tipo de nivel de atraso obtendremos."
      ]
    },
    {
      "cell_type": "code",
      "execution_count": 20,
      "metadata": {
        "colab": {
          "base_uri": "https://localhost:8080/"
        },
        "id": "n9e6Ec_g3_kW",
        "outputId": "10db6401-4f50-4ed1-d17e-5a01739e9dad"
      },
      "outputs": [
        {
          "name": "stdout",
          "output_type": "stream",
          "text": [
            "Valores no numéricos en 'Vlo-O': []\n",
            "Valores no numéricos en 'Vlo-I': []\n"
          ]
        }
      ],
      "source": [
        "# Convertir 'Vlo-O' y 'Vlo-I' a tipo string\n",
        "df['Vlo-O'] = df['Vlo-O'].astype(str)\n",
        "df['Vlo-I'] = df['Vlo-I'].astype(str)\n",
        "\n",
        "# Definir una función para verificar si una cadena contiene solo números\n",
        "def contains_only_numbers(value):\n",
        "    return value.isnumeric()\n",
        "\n",
        "# Aplicar la función a las columnas 'Vlo-O' y 'Vlo-I' y asignar NaN a las filas que no cumplan el criterio\n",
        "df['Vlo-O'] = df['Vlo-O'].apply(lambda x: x if contains_only_numbers(x) else np.nan)\n",
        "df['Vlo-I'] = df['Vlo-I'].apply(lambda x: x if contains_only_numbers(x) else np.nan)\n",
        "\n",
        "# Eliminar las filas con NaN en 'Vlo-O' y 'Vlo-I'\n",
        "df = df.dropna(subset=['Vlo-O', 'Vlo-I'])\n",
        "\n",
        "# Verificar si hay valores no numéricos en 'Vlo-O'\n",
        "non_numeric_vlo_o = df[~df['Vlo-O'].str.isnumeric()]['Vlo-O'].unique()\n",
        "\n",
        "# Verificar si hay valores no numéricos en 'Vlo-I'\n",
        "non_numeric_vlo_i = df[~df['Vlo-I'].str.isnumeric()]['Vlo-I'].unique()\n",
        "\n",
        "print(\"Valores no numéricos en 'Vlo-O':\", non_numeric_vlo_o)\n",
        "print(\"Valores no numéricos en 'Vlo-I':\", non_numeric_vlo_i)\n"
      ]
    },
    {
      "cell_type": "code",
      "execution_count": 21,
      "metadata": {
        "colab": {
          "base_uri": "https://localhost:8080/"
        },
        "id": "zuicrIyf4HQE",
        "outputId": "5e43c58f-532c-4ed5-a164-f7cd7705adbe"
      },
      "outputs": [
        {
          "name": "stdout",
          "output_type": "stream",
          "text": [
            "<class 'pandas.core.frame.DataFrame'>\n",
            "Int64Index: 63785 entries, 0 to 63805\n",
            "Data columns (total 22 columns):\n",
            " #   Column          Non-Null Count  Dtype  \n",
            "---  ------          --------------  -----  \n",
            " 0   Fecha-I         63785 non-null  object \n",
            " 1   Vlo-I           63785 non-null  object \n",
            " 2   Ori-I           63785 non-null  object \n",
            " 3   Des-I           63785 non-null  object \n",
            " 4   Emp-I           63785 non-null  object \n",
            " 5   Fecha-O         63785 non-null  object \n",
            " 6   Vlo-O           63785 non-null  object \n",
            " 7   Ori-O           63785 non-null  object \n",
            " 8   Des-O           63785 non-null  object \n",
            " 9   Emp-O           63785 non-null  object \n",
            " 10  DIA             63785 non-null  int64  \n",
            " 11  MES             63785 non-null  int64  \n",
            " 12  AÑO             63785 non-null  int64  \n",
            " 13  DIANOM          63785 non-null  object \n",
            " 14  TIPOVUELO       63785 non-null  object \n",
            " 15  OPERA           63785 non-null  object \n",
            " 16  SIGLAORI        63785 non-null  object \n",
            " 17  SIGLADES        63785 non-null  object \n",
            " 18  temporada_alta  63785 non-null  int64  \n",
            " 19  dif_min         63785 non-null  float64\n",
            " 20  atraso_15       63785 non-null  int64  \n",
            " 21  periodo_dia     62690 non-null  object \n",
            "dtypes: float64(1), int64(5), object(16)\n",
            "memory usage: 11.2+ MB\n"
          ]
        }
      ],
      "source": [
        "df.info()"
      ]
    },
    {
      "cell_type": "code",
      "execution_count": 22,
      "metadata": {
        "id": "78ZW8fgCI8wx"
      },
      "outputs": [],
      "source": [
        "from datetime import datetime\n",
        "\n",
        "# Convertimos las columnas 'Fecha-I' y 'Fecha-O' a formato datetime\n",
        "df['Fecha-I'] = pd.to_datetime(df['Fecha-I'])\n",
        "df['Fecha-O'] = pd.to_datetime(df['Fecha-O'])\n",
        "\n",
        "# Definimos una función para determinar el período del día en base a la hora exacta\n",
        "def determinar_periodo(hora):\n",
        "    if 6 <= hora.hour < 12:\n",
        "        return 'Mañana'\n",
        "    elif 12 <= hora.hour < 18:\n",
        "        return 'Tarde'\n",
        "    else:\n",
        "        return 'Noche'\n",
        "\n",
        "# Llenamos los valores faltantes en 'periodo_dia' en base a la hora exacta de 'Fecha-I'\n",
        "df['periodo_dia'].fillna(df['Fecha-I'].apply(lambda x: determinar_periodo(x)), inplace=True)\n",
        "\n",
        "# Si aún quedan valores faltantes, llenamos en base a la hora exacta de 'Fecha-O'\n",
        "df['periodo_dia'].fillna(df['Fecha-O'].apply(lambda x: determinar_periodo(x)), inplace=True)\n"
      ]
    },
    {
      "cell_type": "code",
      "execution_count": 23,
      "metadata": {
        "colab": {
          "base_uri": "https://localhost:8080/"
        },
        "id": "dcn8gdMvHtk4",
        "outputId": "452c5882-1b32-4f85-9ccf-2f4e60255d16"
      },
      "outputs": [
        {
          "name": "stdout",
          "output_type": "stream",
          "text": [
            "<class 'pandas.core.frame.DataFrame'>\n",
            "Int64Index: 63785 entries, 0 to 63805\n",
            "Data columns (total 22 columns):\n",
            " #   Column          Non-Null Count  Dtype         \n",
            "---  ------          --------------  -----         \n",
            " 0   Fecha-I         63785 non-null  datetime64[ns]\n",
            " 1   Vlo-I           63785 non-null  object        \n",
            " 2   Ori-I           63785 non-null  object        \n",
            " 3   Des-I           63785 non-null  object        \n",
            " 4   Emp-I           63785 non-null  object        \n",
            " 5   Fecha-O         63785 non-null  datetime64[ns]\n",
            " 6   Vlo-O           63785 non-null  object        \n",
            " 7   Ori-O           63785 non-null  object        \n",
            " 8   Des-O           63785 non-null  object        \n",
            " 9   Emp-O           63785 non-null  object        \n",
            " 10  DIA             63785 non-null  int64         \n",
            " 11  MES             63785 non-null  int64         \n",
            " 12  AÑO             63785 non-null  int64         \n",
            " 13  DIANOM          63785 non-null  object        \n",
            " 14  TIPOVUELO       63785 non-null  object        \n",
            " 15  OPERA           63785 non-null  object        \n",
            " 16  SIGLAORI        63785 non-null  object        \n",
            " 17  SIGLADES        63785 non-null  object        \n",
            " 18  temporada_alta  63785 non-null  int64         \n",
            " 19  dif_min         63785 non-null  float64       \n",
            " 20  atraso_15       63785 non-null  int64         \n",
            " 21  periodo_dia     63785 non-null  object        \n",
            "dtypes: datetime64[ns](2), float64(1), int64(5), object(14)\n",
            "memory usage: 11.2+ MB\n"
          ]
        }
      ],
      "source": [
        "df.info()"
      ]
    },
    {
      "cell_type": "markdown",
      "metadata": {
        "id": "dP6TWXj1JUML"
      },
      "source": [
        "**Ahora los valores son regulares en todos los atributos del dataset**"
      ]
    },
    {
      "cell_type": "markdown",
      "metadata": {
        "id": "h_1qA4jtzJCf"
      },
      "source": [
        "#### Detección de Duplicados o ruido/inconsistencia en features:\n",
        "\n",
        "Verifiquemos si hay filas duplicadas y eliminemos si es necesario."
      ]
    },
    {
      "cell_type": "code",
      "execution_count": 24,
      "metadata": {
        "id": "JER-qp-nzCPp"
      },
      "outputs": [],
      "source": [
        "# Eliminar filas duplicadas\n",
        "df = df.drop_duplicates()\n"
      ]
    },
    {
      "cell_type": "code",
      "execution_count": 25,
      "metadata": {
        "colab": {
          "base_uri": "https://localhost:8080/"
        },
        "id": "KAHoeWh0KVIm",
        "outputId": "a52d309b-7b02-4f80-efbf-86657c9eab2d"
      },
      "outputs": [
        {
          "name": "stdout",
          "output_type": "stream",
          "text": [
            "Valores únicos en 'Vlo-I': ['226' '912' '940' '92' '93' '401' '11' '1011' '1281' '1283' '1285' '1287'\n",
            " '1289' '1291' '2291' '98' '116' '176' '240' '295' '689' '250' '112' '118'\n",
            " '174' '249' '276' '495' '4495' '146' '7661' '7663' '9245' '9268' '9362'\n",
            " '6830' '702' '624' '28' '846' '709' '741' '8021' '8023' '8027' '8029'\n",
            " '8069' '8073' '8075' '8099' '8125' '8137' '8160' '8161' '9601' '9615'\n",
            " '9651' '9653' '9661' '9689' '9782' '9623' '1' '3' '7' '9' '13' '15' '17'\n",
            " '21' '23' '25' '41' '43' '51' '53' '55' '61' '71' '73' '75' '81' '83'\n",
            " '102' '104' '106' '108' '110' '120' '122' '128' '130' '132' '134' '140'\n",
            " '142' '150' '156' '160' '162' '164' '166' '170' '172' '180' '182' '184'\n",
            " '186' '188' '190' '192' '194' '196' '501' '503' '507' '521' '531' '551'\n",
            " '800' '802' '804' '1083' '14' '31' '35' '37' '57' '65' '67' '69' '89'\n",
            " '91' '97' '114' '124' '126' '136' '138' '144' '148' '152' '154' '168'\n",
            " '178' '201' '203' '207' '209' '211' '213' '215' '217' '219' '221' '231'\n",
            " '233' '235' '237' '239' '241' '247' '251' '257' '259' '261' '263' '265'\n",
            " '267' '269' '271' '273' '275' '277' '279' '281' '283' '285' '287' '289'\n",
            " '291' '293' '297' '300' '302' '304' '306' '308' '312' '314' '318' '320'\n",
            " '322' '324' '326' '328' '330' '332' '334' '336' '338' '340' '342' '344'\n",
            " '346' '348' '350' '366' '374' '380' '382' '384' '386' '388' '396' '403'\n",
            " '405' '439' '443' '445' '449' '451' '455' '461' '481' '500' '502' '504'\n",
            " '510' '530' '532' '534' '546' '572' '574' '576' '582' '592' '600' '602'\n",
            " '622' '632' '642' '646' '648' '650' '704' '708' '750' '752' '760' '772'\n",
            " '776' '778' '798' '801' '833' '841' '843' '845' '849' '900' '902' '906'\n",
            " '910' '930' '932' '934' '942' '952' '954' '968' '970' '972' '986' '988'\n",
            " '991' '993' '1320' '1322' '1326' '1334' '1357' '1359' '1446' '1498'\n",
            " '2632' '2636' '2638' '2640' '2650' '2702' '4501' '4503' '1003' '1004'\n",
            " '1005' '1302' '1340' '200' '700' '1704' '33' '59' '95' '243' '634' '1200'\n",
            " '1202' '1300' '99' '158' '198' '205' '376' '378' '404' '406' '410' '414'\n",
            " '430' '432' '434' '438' '486' '492' '536' '638' '640' '644' '864' '890'\n",
            " '892' '1122' '1126' '1151' '1363' '1946' '2370' '2372' '2374' '7811'\n",
            " '7813' '1165' '1301' '1351' '1906' '204' '9625' '8665' '4950' '45' '100'\n",
            " '523' '1025' '4000' '63' '352' '354' '452' '460' '636' '674' '888' '895'\n",
            " '897' '1108' '1124' '1128' '1236' '1248' '2364' '2366' '2378' '2474'\n",
            " '2478' '1050' '1051' '1052' '1061' '1071' '1101' '1102' '1104' '1130'\n",
            " '1159' '1230' '202' '3000' '9000' '459' '483' '1114' '1168' '1238' '1239'\n",
            " '1261' '1107' '1140' '1167' '1271' '1031' '1700' '9659' '1551' '1800'\n",
            " '358' '1103' '1111' '2518' '7959' '400' '402' '2297' '9244' '9246' '9247'\n",
            " '9261' '9272' '9673' '9956' '9600' '9629' '9662' '9701' '9955' '5' '77'\n",
            " '553' '316' '368' '372' '470' '506' '604' '1136' '1158' '1242' '1244'\n",
            " '2368' '2486' '1105' '1106' '1113' '1115' '1132' '1155' '1166' '2488'\n",
            " '1400' '1033' '4' '8' '26' '22' '1927' '7721' '8519' '8525' '8541' '8542'\n",
            " '9622' '356' '1138' '1148' '1041' '6' '32' '50' '52' '86' '88' '9301'\n",
            " '9303' '47' '60' '1234' '1250' '1241' '1034' '1035' '1043' '7704' '10'\n",
            " '253' '1502' '8083' '8131' '9851' '27' '543' '1198' '39' '87' '390' '448'\n",
            " '664' '805' '1054' '1065' '1116' '1121' '1146' '1154' '1188' '1193'\n",
            " '1218' '1222' '1224' '1226' '1228' '1235' '1237' '1249' '1260' '1262'\n",
            " '1264' '1428' '7896' '7899' '1142' '1240' '2600' '30' '2092' '2093'\n",
            " '3624' '9643' '9461' '9510' '9540' '706' '1088' '1091' '1099' '1134'\n",
            " '1169' '1170' '1195' '1199' '1243' '1251' '1257' '1277' '1279' '1233'\n",
            " '54' '1600' '2287' '4118' '9289' '85']\n",
            "Valores únicos en 'Vlo-O': ['226' '912' '940' '92' '93' '401' '11' '1011' '1281' '1283' '1285' '1287'\n",
            " '1289' '1291' '2291' '98' '116' '176' '240' '295' '689' '250' '112' '118'\n",
            " '174' '249' '276' '495' '4495' '146' '7661' '7663' '9245' '9268' '9362'\n",
            " '6830' '702' '624' '28' '846' '709' '741' '8021' '8023' '8027' '8029'\n",
            " '8069' '8073' '8075' '8099' '8125' '8137' '8160' '8161' '9601' '9615'\n",
            " '9651' '9653' '9661' '9689' '9782' '9623' '1' '3' '7' '9' '13' '15' '17'\n",
            " '21' '23' '25' '41' '43' '51' '53' '55' '61' '71' '73' '75' '81' '83'\n",
            " '102' '104' '106' '108' '110' '120' '122' '128' '130' '132' '134' '140'\n",
            " '142' '150' '156' '160' '162' '164' '166' '170' '172' '180' '182' '184'\n",
            " '186' '188' '190' '192' '194' '196' '501' '503' '507' '521' '531' '551'\n",
            " '800' '802' '804' '1083' '14' '31' '35' '37' '57' '65' '67' '69' '89'\n",
            " '91' '97' '114' '124' '126' '136' '138' '144' '148' '152' '154' '168'\n",
            " '178' '201' '203' '207' '209' '211' '213' '215' '217' '219' '221' '231'\n",
            " '233' '235' '237' '239' '241' '247' '251' '257' '259' '261' '263' '265'\n",
            " '267' '269' '271' '273' '275' '277' '279' '281' '283' '285' '287' '289'\n",
            " '291' '293' '297' '300' '302' '304' '306' '308' '312' '314' '318' '320'\n",
            " '322' '324' '326' '328' '330' '332' '334' '336' '338' '340' '342' '344'\n",
            " '346' '348' '350' '366' '374' '380' '382' '384' '386' '388' '396' '403'\n",
            " '405' '439' '443' '445' '449' '451' '455' '461' '481' '500' '502' '504'\n",
            " '510' '530' '532' '534' '546' '572' '574' '576' '582' '592' '600' '602'\n",
            " '622' '632' '642' '646' '648' '650' '704' '708' '750' '752' '760' '772'\n",
            " '776' '778' '798' '801' '833' '841' '843' '845' '849' '900' '902' '906'\n",
            " '910' '930' '932' '934' '942' '952' '954' '968' '970' '972' '986' '988'\n",
            " '991' '993' '1320' '1322' '1326' '1334' '1357' '1359' '1446' '1498'\n",
            " '2632' '2636' '2638' '2640' '2650' '2702' '4501' '1001' '1003' '4503'\n",
            " '1004' '1005' '1302' '1340' '200' '700' '1700' '33' '59' '95' '243'\n",
            " '1318' '634' '1304' '1303' '1200' '1202' '1300' '99' '158' '198' '205'\n",
            " '1101' '376' '378' '404' '406' '410' '414' '430' '432' '434' '438' '486'\n",
            " '492' '1346' '536' '638' '640' '644' '864' '890' '892' '1122' '1126'\n",
            " '1151' '1363' '1361' '1946' '2370' '2372' '2374' '7811' '1103' '1061'\n",
            " '7813' '1071' '1165' '1301' '1351' '1906' '202' '1704' '9625' '8665'\n",
            " '4950' '45' '100' '523' '1025' '4000' '63' '352' '354' '452' '460' '636'\n",
            " '674' '888' '895' '897' '1108' '1124' '1128' '1236' '1248' '2364' '2366'\n",
            " '2378' '2474' '2478' '1050' '1051' '1052' '1102' '1104' '1130' '1159'\n",
            " '1230' '2093' '3000' '9000' '459' '483' '1160' '1114' '1168' '1238'\n",
            " '1239' '1261' '1107' '1140' '1167' '1271' '1031' '9659' '1551' '1800'\n",
            " '358' '1111' '2518' '7959' '1041' '400' '402' '2297' '1297' '4118' '9858'\n",
            " '9860' '9244' '9246' '9247' '9261' '9272' '2726' '9673' '9956' '9600'\n",
            " '9629' '9662' '9701' '9955' '5' '77' '553' '316' '368' '372' '1155' '470'\n",
            " '506' '604' '2486' '1136' '1158' '1242' '1244' '2368' '1113' '1105'\n",
            " '1106' '1115' '1132' '1166' '2488' '1400' '1033' '4' '8' '26' '22' '1927'\n",
            " '7721' '922' '5924' '2763' '8519' '8525' '8541' '8542' '9622' '356'\n",
            " '1138' '1148' '6' '32' '50' '52' '86' '88' '9301' '9303' '47' '60' '1234'\n",
            " '1250' '1241' '1034' '1035' '1043' '7704' '10' '253' '1502' '8083' '8131'\n",
            " '9851' '27' '543' '1198' '39' '87' '390' '448' '664' '805' '1054' '1065'\n",
            " '1116' '1121' '1146' '1154' '1188' '1193' '1218' '1222' '1224' '1226'\n",
            " '1228' '1235' '1237' '1249' '1260' '1262' '1264' '1428' '7896' '7899'\n",
            " '1142' '1240' '2600' '30' '2092' '3624' '9643' '9461' '9510' '9540' '706'\n",
            " '1088' '1091' '1099' '1134' '1169' '1170' '1195' '1199' '1243' '1251'\n",
            " '1257' '1277' '1279' '1233' '54' '1600' '2287' '9289' '85']\n"
          ]
        }
      ],
      "source": [
        "print(\"Valores únicos en 'Vlo-I':\", df['Vlo-I'].unique())\n",
        "print(\"Valores únicos en 'Vlo-O':\", df['Vlo-O'].unique())\n"
      ]
    },
    {
      "cell_type": "code",
      "execution_count": 26,
      "metadata": {
        "colab": {
          "base_uri": "https://localhost:8080/"
        },
        "id": "lFESK7CGPA7n",
        "outputId": "3d415585-acad-4254-b1e3-b5af76fa460e"
      },
      "outputs": [
        {
          "name": "stdout",
          "output_type": "stream",
          "text": [
            "Valores no numéricos en 'Vlo-I': []\n",
            "Valores no numéricos en 'Vlo-O': []\n"
          ]
        }
      ],
      "source": [
        "non_numeric_vlo_i = df[~df['Vlo-I'].str.isnumeric()]['Vlo-I'].unique()\n",
        "non_numeric_vlo_o = df[~df['Vlo-O'].str.isnumeric()]['Vlo-O'].unique()\n",
        "\n",
        "print(\"Valores no numéricos en 'Vlo-I':\", non_numeric_vlo_i)\n",
        "print(\"Valores no numéricos en 'Vlo-O':\", non_numeric_vlo_o)\n"
      ]
    },
    {
      "cell_type": "markdown",
      "metadata": {
        "id": "SnMdIjqVW6ij"
      },
      "source": [
        "##### **[dataframe Checkpoint previo One-Hot-Encoding]**"
      ]
    },
    {
      "cell_type": "code",
      "execution_count": 57,
      "metadata": {
        "id": "RmmiubB69xyL"
      },
      "outputs": [],
      "source": [
        "#dataframe checkpoint para backup & restore\n",
        "# (invertir 'comentado')\n",
        "# df_backup2 = df\n",
        "df = df_backup2"
      ]
    },
    {
      "cell_type": "code",
      "execution_count": 71,
      "metadata": {
        "colab": {
          "base_uri": "https://localhost:8080/"
        },
        "id": "EpIjB8ph8k3Q",
        "outputId": "5ef10dc6-1a2b-4905-d19a-d5bc25f60d1a"
      },
      "outputs": [
        {
          "name": "stdout",
          "output_type": "stream",
          "text": [
            "              Fecha-I Vlo-I Ori-I Des-I Emp-I             Fecha-O Vlo-O Ori-O  \\\n",
            "0 2017-01-01 23:30:00   226  SCEL  KMIA   AAL 2017-01-01 23:33:00   226  SCEL   \n",
            "1 2017-01-02 23:30:00   226  SCEL  KMIA   AAL 2017-01-02 23:39:00   226  SCEL   \n",
            "2 2017-01-03 23:30:00   226  SCEL  KMIA   AAL 2017-01-03 23:39:00   226  SCEL   \n",
            "3 2017-01-04 23:30:00   226  SCEL  KMIA   AAL 2017-01-04 23:33:00   226  SCEL   \n",
            "4 2017-01-05 23:30:00   226  SCEL  KMIA   AAL 2017-01-05 23:28:00   226  SCEL   \n",
            "\n",
            "  Des-O Emp-O  ...   AÑO     DIANOM  TIPOVUELO              OPERA  SIGLAORI  \\\n",
            "0  KMIA   AAL  ...  2017    Domingo          I  American Airlines  Santiago   \n",
            "1  KMIA   AAL  ...  2017      Lunes          I  American Airlines  Santiago   \n",
            "2  KMIA   AAL  ...  2017     Martes          I  American Airlines  Santiago   \n",
            "3  KMIA   AAL  ...  2017  Miercoles          I  American Airlines  Santiago   \n",
            "4  KMIA   AAL  ...  2017     Jueves          I  American Airlines  Santiago   \n",
            "\n",
            "  SIGLADES temporada_alta dif_min  atraso_15  periodo_dia  \n",
            "0    Miami              1     3.0          0        noche  \n",
            "1    Miami              1     9.0          0        noche  \n",
            "2    Miami              1     9.0          0        noche  \n",
            "3    Miami              1     3.0          0        noche  \n",
            "4    Miami              1    -2.0          0        noche  \n",
            "\n",
            "[5 rows x 22 columns]\n"
          ]
        }
      ],
      "source": [
        "print(df_backup2.head())"
      ]
    },
    {
      "cell_type": "code",
      "execution_count": 72,
      "metadata": {
        "colab": {
          "base_uri": "https://localhost:8080/",
          "height": 17
        },
        "id": "MkUX6h7d8zQv",
        "outputId": "f3e74bb5-22ff-4b8f-a6c0-0bc97919e68c"
      },
      "outputs": [
        {
          "data": {
            "application/javascript": "\n    async function download(id, filename, size) {\n      if (!google.colab.kernel.accessAllowed) {\n        return;\n      }\n      const div = document.createElement('div');\n      const label = document.createElement('label');\n      label.textContent = `Downloading \"${filename}\": `;\n      div.appendChild(label);\n      const progress = document.createElement('progress');\n      progress.max = size;\n      div.appendChild(progress);\n      document.body.appendChild(div);\n\n      const buffers = [];\n      let downloaded = 0;\n\n      const channel = await google.colab.kernel.comms.open(id);\n      // Send a message to notify the kernel that we're ready.\n      channel.send({})\n\n      for await (const message of channel.messages) {\n        // Send a message to notify the kernel that we're ready.\n        channel.send({})\n        if (message.buffers) {\n          for (const buffer of message.buffers) {\n            buffers.push(buffer);\n            downloaded += buffer.byteLength;\n            progress.value = downloaded;\n          }\n        }\n      }\n      const blob = new Blob(buffers, {type: 'application/binary'});\n      const a = document.createElement('a');\n      a.href = window.URL.createObjectURL(blob);\n      a.download = filename;\n      div.appendChild(a);\n      a.click();\n      div.remove();\n    }\n  ",
            "text/plain": [
              "<IPython.core.display.Javascript object>"
            ]
          },
          "metadata": {},
          "output_type": "display_data"
        },
        {
          "data": {
            "application/javascript": "download(\"download_2314e731-e581-48f2-94ef-8d991ab9af25\", \"dataset_SCL_limpios.csv\", 9064356)",
            "text/plain": [
              "<IPython.core.display.Javascript object>"
            ]
          },
          "metadata": {},
          "output_type": "display_data"
        }
      ],
      "source": [
        "from google.colab import files\n",
        "\n",
        "df_backup2.to_csv('dataset_SCL_limpios.csv', index=False)\n",
        "files.download('dataset_SCL_limpios.csv')\n"
      ]
    },
    {
      "cell_type": "markdown",
      "metadata": {
        "id": "CCsjgLHazjfQ"
      },
      "source": [
        "#### **Codificación One-Hot**\n",
        "\n",
        "Codificamos las columnas categóricas con codificación one-hot."
      ]
    },
    {
      "cell_type": "code",
      "execution_count": 38,
      "metadata": {
        "colab": {
          "base_uri": "https://localhost:8080/"
        },
        "id": "xiSsuqCzKVK5",
        "outputId": "247fbed2-ae1f-49ec-fc85-d4f22bc4d7d6"
      },
      "outputs": [
        {
          "name": "stdout",
          "output_type": "stream",
          "text": [
            "   atraso_15  temporada_alta  dif_min  OPERA_Aerolineas Argentinas  \\\n",
            "0          0               1      3.0                            0   \n",
            "1          0               1      9.0                            0   \n",
            "2          0               1      9.0                            0   \n",
            "3          0               1      3.0                            0   \n",
            "4          0               1     -2.0                            0   \n",
            "\n",
            "   OPERA_Aeromexico  OPERA_Air Canada  OPERA_Air France  OPERA_Alitalia  \\\n",
            "0                 0                 0                 0               0   \n",
            "1                 0                 0                 0               0   \n",
            "2                 0                 0                 0               0   \n",
            "3                 0                 0                 0               0   \n",
            "4                 0                 0                 0               0   \n",
            "\n",
            "   OPERA_American Airlines  OPERA_Austral  ...  DIANOM_Martes  \\\n",
            "0                        1              0  ...              0   \n",
            "1                        1              0  ...              0   \n",
            "2                        1              0  ...              1   \n",
            "3                        1              0  ...              0   \n",
            "4                        1              0  ...              0   \n",
            "\n",
            "   DIANOM_Miercoles  DIANOM_Sabado  DIANOM_Viernes  periodo_dia_Mañana  \\\n",
            "0                 0              0               0                   0   \n",
            "1                 0              0               0                   0   \n",
            "2                 0              0               0                   0   \n",
            "3                 1              0               0                   0   \n",
            "4                 0              0               0                   0   \n",
            "\n",
            "   periodo_dia_Noche  periodo_dia_Tarde  periodo_dia_mañana  \\\n",
            "0                  0                  0                   0   \n",
            "1                  0                  0                   0   \n",
            "2                  0                  0                   0   \n",
            "3                  0                  0                   0   \n",
            "4                  0                  0                   0   \n",
            "\n",
            "   periodo_dia_noche  periodo_dia_tarde  \n",
            "0                  1                  0  \n",
            "1                  1                  0  \n",
            "2                  1                  0  \n",
            "3                  1                  0  \n",
            "4                  1                  0  \n",
            "\n",
            "[5 rows x 113 columns]\n"
          ]
        }
      ],
      "source": [
        "# Atributos finales para el modelamiento\n",
        "#atributos_finales = ['OPERA', 'MES', 'TIPOVUELO', 'SIGLADES', 'DIANOM', 'atraso_15', 'Vlo-I', 'Vlo-O', 'temporada_alta', 'dif_min', 'periodo_dia']\n",
        "atributos_finales = ['OPERA', 'MES', 'TIPOVUELO', 'SIGLADES', 'DIANOM', 'atraso_15', 'temporada_alta', 'dif_min', 'periodo_dia']\n",
        "\n",
        "# Seleccionar solo los atributos finales del DataFrame original\n",
        "df_select = df[atributos_finales].copy()\n",
        "\n",
        "# Realizar one-hot encoding para las columnas categóricas\n",
        "df_select = pd.get_dummies(df_select, columns=['OPERA', 'MES', 'TIPOVUELO', 'SIGLADES', 'DIANOM', 'periodo_dia'])\n",
        "\n",
        "# Verificar el nuevo DataFrame\n",
        "print(df_select.head())\n"
      ]
    },
    {
      "cell_type": "markdown",
      "metadata": {
        "id": "Ym1T_7vQfPJR"
      },
      "source": [
        "## **Batería de modelos**"
      ]
    },
    {
      "cell_type": "markdown",
      "metadata": {
        "id": "kbL8qBTuRkYo"
      },
      "source": [
        "### **Modelo XGboost sin MOSTEN**"
      ]
    },
    {
      "cell_type": "code",
      "execution_count": 53,
      "metadata": {
        "colab": {
          "base_uri": "https://localhost:8080/",
          "height": 1000
        },
        "id": "KU8-dcxuRivN",
        "outputId": "cd304b40-3bbb-48d5-dcf2-500f8946bfd4"
      },
      "outputs": [
        {
          "data": {
            "image/png": "[encoded data removed]",
            "text/plain": [
              "<Figure size 800x600 with 2 Axes>"
            ]
          },
          "metadata": {},
          "output_type": "display_data"
        },
        {
          "data": {
            "image/png": "[encoded data removed]",
            "text/plain": [
              "<Figure size 800x600 with 2 Axes>"
            ]
          },
          "metadata": {},
          "output_type": "display_data"
        }
      ],
      "source": [
        "import pandas as pd\n",
        "from sklearn.model_selection import train_test_split\n",
        "from sklearn.metrics import classification_report\n",
        "from xgboost import XGBClassifier\n",
        "from sklearn.linear_model import LogisticRegression\n",
        "import seaborn as sns\n",
        "import matplotlib.pyplot as plt\n",
        "\n",
        "# Eliminar las columnas 'Vlo-I' y 'Vlo-O'\n",
        "# df_select = df_select.drop(['Vlo-I', 'Vlo-O'], axis=1)\n",
        "\n",
        "# Dividir el conjunto de datos en entrenamiento y prueba (80% entrenamiento, 20% prueba)\n",
        "X_train, X_test, y_train, y_test = train_test_split(df_select.drop('atraso_15', axis=1), df_select['atraso_15'], test_size=0.2, random_state=42)\n",
        "\n",
        "# Modelo XGBoost\n",
        "xgb_model = XGBClassifier(random_state=42)\n",
        "xgb_model.fit(X_train, y_train)\n",
        "y_pred_xgb = xgb_model.predict(X_test)\n",
        "\n",
        "# Informe de clasificación para XGBoost\n",
        "report_xgb = classification_report(y_test, y_pred_xgb, target_names=[\"No Atraso\", \"Atraso\"], output_dict=True)\n",
        "\n",
        "# Convertir el informe de clasificación a un DataFrame\n",
        "report_df_xgb = pd.DataFrame(report_xgb).transpose()\n",
        "\n",
        "# Mostrar el informe de clasificación con estilo usando seaborn\n",
        "sns.set(font_scale=1.2)\n",
        "plt.figure(figsize=(8, 6))\n",
        "sns.heatmap(report_df_xgb.iloc[:-1, :-1], annot=True, cmap=\"Blues\", fmt=\".2f\", linewidths=1, linecolor=\"black\")\n",
        "plt.title(\"Informe de Clasificación - XGBoost\")\n",
        "plt.show()\n",
        "\n",
        "# Modelo de Regresión Logística\n",
        "logistic_model = LogisticRegression(random_state=42)\n",
        "logistic_model.fit(X_train, y_train)\n",
        "y_pred_logistic = logistic_model.predict(X_test)\n",
        "\n",
        "# Informe de clasificación para Regresión Logística\n",
        "report_logistic = classification_report(y_test, y_pred_logistic, target_names=[\"No Atraso\", \"Atraso\"], output_dict=True)\n",
        "\n",
        "# Convertir el informe de clasificación a un DataFrame\n",
        "report_df_logistic = pd.DataFrame(report_logistic).transpose()\n",
        "\n",
        "# Mostrar el informe de clasificación con estilo usando seaborn\n",
        "plt.figure(figsize=(8, 6))\n",
        "sns.heatmap(report_df_logistic.iloc[:-1, :-1], annot=True, cmap=\"Blues\", fmt=\".2f\", linewidths=1, linecolor=\"black\")\n",
        "plt.title(\"Informe de Clasificación - Regresión Logística\")\n",
        "plt.show()\n"
      ]
    },
    {
      "cell_type": "code",
      "execution_count": null,
      "metadata": {
        "colab": {
          "base_uri": "https://localhost:8080/"
        },
        "id": "qePsrECCQl8R",
        "outputId": "5ef1dde5-b0e8-456a-aaa1-738e129f5150"
      },
      "outputs": [
        {
          "name": "stdout",
          "output_type": "stream",
          "text": [
            "Métricas para XGBoost:\n",
            "F1-score: 1.0\n",
            "Precisión: 1.0\n",
            "Recall: 1.0\n",
            "Exactitud (Accuracy): 1.0\n",
            "\n",
            "Métricas para Regresión Logística:\n",
            "F1-score: 0.9995598591549296\n",
            "Precisión: 1.0\n",
            "Recall: 0.9991201055873296\n",
            "Exactitud (Accuracy): 0.9998404849258254\n"
          ]
        }
      ],
      "source": [
        "from sklearn.model_selection import train_test_split\n",
        "from sklearn.metrics import accuracy_score, f1_score, precision_score, recall_score\n",
        "from xgboost import XGBClassifier\n",
        "from sklearn.linear_model import LogisticRegression\n",
        "\n",
        "# Eliminar las columnas 'Vlo-I' y 'Vlo-O'\n",
        "df_select = df_select.drop(['Vlo-I', 'Vlo-O'], axis=1)\n",
        "\n",
        "# Dividir el conjunto de datos en entrenamiento y prueba (80% entrenamiento, 20% prueba)\n",
        "X_train, X_test, y_train, y_test = train_test_split(df_select.drop('atraso_15', axis=1), df_select['atraso_15'], test_size=0.2, random_state=42)\n",
        "\n",
        "# Modelo XGBoost\n",
        "xgb_model = XGBClassifier(random_state=42)\n",
        "xgb_model.fit(X_train, y_train)\n",
        "y_pred_xgb = xgb_model.predict(X_test)\n",
        "\n",
        "# Métricas para XGBoost\n",
        "f1_xgb = f1_score(y_test, y_pred_xgb)\n",
        "precision_xgb = precision_score(y_test, y_pred_xgb)\n",
        "recall_xgb = recall_score(y_test, y_pred_xgb)\n",
        "accuracy_xgb = accuracy_score(y_test, y_pred_xgb)\n",
        "\n",
        "print(\"Métricas para XGBoost:\")\n",
        "print(f\"F1-score: {f1_xgb}\")\n",
        "print(f\"Precisión: {precision_xgb}\")\n",
        "print(f\"Recall: {recall_xgb}\")\n",
        "print(f\"Exactitud (Accuracy): {accuracy_xgb}\")\n",
        "\n",
        "# Modelo de Regresión Logística\n",
        "logistic_model = LogisticRegression(random_state=42)\n",
        "logistic_model.fit(X_train, y_train)\n",
        "y_pred_logistic = logistic_model.predict(X_test)\n",
        "\n",
        "# Métricas para Regresión Logística\n",
        "f1_logistic = f1_score(y_test, y_pred_logistic)\n",
        "precision_logistic = precision_score(y_test, y_pred_logistic)\n",
        "recall_logistic = recall_score(y_test, y_pred_logistic)\n",
        "accuracy_logistic = accuracy_score(y_test, y_pred_logistic)\n",
        "\n",
        "print(\"\\nMétricas para Regresión Logística:\")\n",
        "print(f\"F1-score: {f1_logistic}\")\n",
        "print(f\"Precisión: {precision_logistic}\")\n",
        "print(f\"Recall: {recall_logistic}\")\n",
        "print(f\"Exactitud (Accuracy): {accuracy_logistic}\")\n"
      ]
    },
    {
      "cell_type": "markdown",
      "metadata": {
        "id": "Es2zEVFIS4sJ"
      },
      "source": [
        "###**Modelo XGBoost**"
      ]
    },
    {
      "cell_type": "code",
      "execution_count": null,
      "metadata": {
        "colab": {
          "base_uri": "https://localhost:8080/"
        },
        "id": "sVuyiZj3KVEI",
        "outputId": "9211a430-69d0-4ef4-d3c7-4ca43753e98c"
      },
      "outputs": [
        {
          "name": "stdout",
          "output_type": "stream",
          "text": [
            "Requirement already satisfied: imbalanced-learn in /usr/local/lib/python3.10/dist-packages (0.10.1)\n",
            "Requirement already satisfied: numpy>=1.17.3 in /usr/local/lib/python3.10/dist-packages (from imbalanced-learn) (1.23.5)\n",
            "Requirement already satisfied: scipy>=1.3.2 in /usr/local/lib/python3.10/dist-packages (from imbalanced-learn) (1.11.2)\n",
            "Requirement already satisfied: scikit-learn>=1.0.2 in /usr/local/lib/python3.10/dist-packages (from imbalanced-learn) (1.2.2)\n",
            "Requirement already satisfied: joblib>=1.1.1 in /usr/local/lib/python3.10/dist-packages (from imbalanced-learn) (1.3.2)\n",
            "Requirement already satisfied: threadpoolctl>=2.0.0 in /usr/local/lib/python3.10/dist-packages (from imbalanced-learn) (3.2.0)\n"
          ]
        }
      ],
      "source": [
        "pip install imbalanced-learn\n"
      ]
    },
    {
      "cell_type": "code",
      "execution_count": null,
      "metadata": {
        "colab": {
          "base_uri": "https://localhost:8080/"
        },
        "id": "ah3TI2CWKVBt",
        "outputId": "a7ef86f4-9ed4-4afa-87d4-1e40615e2777"
      },
      "outputs": [
        {
          "name": "stdout",
          "output_type": "stream",
          "text": [
            "              precision    recall  f1-score   support\n",
            "\n",
            "           0       1.00      1.00      1.00     10357\n",
            "           1       1.00      1.00      1.00     10201\n",
            "\n",
            "    accuracy                           1.00     20558\n",
            "   macro avg       1.00      1.00      1.00     20558\n",
            "weighted avg       1.00      1.00      1.00     20558\n",
            "\n"
          ]
        }
      ],
      "source": [
        "from sklearn.model_selection import train_test_split\n",
        "from sklearn.metrics import classification_report\n",
        "from imblearn.over_sampling import SMOTEN\n",
        "import pandas as pd\n",
        "from xgboost import XGBClassifier\n",
        "\n",
        "# Con los datos en df_select\n",
        "\n",
        "# Eliminar las columnas 'Vlo-I' y 'Vlo-O'\n",
        "# df_select = df_select.drop(['Vlo-I', 'Vlo-O'], axis=1)\n",
        "\n",
        "# Dividir los datos en características (X) y etiquetas (y)\n",
        "X = df_select.drop('atraso_15', axis=1)\n",
        "y = df_select['atraso_15']\n",
        "\n",
        "# Aplicar SMOTEN para balancear los datos\n",
        "smote = SMOTEN(sampling_strategy='auto', random_state=42)\n",
        "X_resampled, y_resampled = smote.fit_resample(X, y)\n",
        "\n",
        "# Dividir los datos balanceados en conjuntos de entrenamiento y prueba\n",
        "X_train, X_test, y_train, y_test = train_test_split(X_resampled, y_resampled, test_size=0.2, random_state=42)\n",
        "\n",
        "# Crear y entrenar el modelo XGBoost\n",
        "xgb_model = XGBClassifier(random_state=42)\n",
        "xgb_model.fit(X_train, y_train)\n",
        "\n",
        "# Realizar predicciones en el conjunto de prueba\n",
        "y_pred = xgb_model.predict(X_test)\n",
        "\n",
        "# Mostrar el informe de clasificación\n",
        "report = classification_report(y_test, y_pred)\n",
        "print(report)\n"
      ]
    },
    {
      "cell_type": "markdown",
      "metadata": {
        "id": "Db9BYa6Jbgk4"
      },
      "source": [
        "* **el modelo vuelve a retornarme error en la lectura. claramente hay desbalance aun o simplemente la seleccion de features no fue la correcta.**\n",
        "\n",
        "  - revisar dataset filtrado para verificar que haya sido hecho correctamente.\n",
        "  - generar alternativas de modelos a correr a continuacion una ves los x_train, x_test, y_train e y_test hayan sido balanceados y lanzarlos por la batería viendo que resultados nos entregan para precision    recall  f1-score   support."
      ]
    },
    {
      "cell_type": "markdown",
      "metadata": {
        "id": "bWejzRIdhzgZ"
      },
      "source": [
        "### **Regresión logística (80/20) con regularización L1 y L2**\n",
        "L1 y L2 con mayor penalización (C=10.0)"
      ]
    },
    {
      "cell_type": "code",
      "execution_count": 29,
      "metadata": {
        "colab": {
          "base_uri": "https://localhost:8080/",
          "height": 1000
        },
        "id": "puB6R1Snh4pV",
        "outputId": "57c266d9-0330-48a3-8eb7-533782a5e31e"
      },
      "outputs": [
        {
          "data": {
            "image/png": "[encoded data removed]",
            "text/plain": [
              "<Figure size 800x600 with 2 Axes>"
            ]
          },
          "metadata": {},
          "output_type": "display_data"
        },
        {
          "data": {
            "image/png": "[encoded data removed]",
            "text/plain": [
              "<Figure size 800x600 with 2 Axes>"
            ]
          },
          "metadata": {},
          "output_type": "display_data"
        }
      ],
      "source": [
        "import pandas as pd\n",
        "from sklearn.model_selection import train_test_split\n",
        "from sklearn.preprocessing import StandardScaler\n",
        "from sklearn.metrics import classification_report\n",
        "from sklearn.linear_model import LogisticRegression\n",
        "import seaborn as sns\n",
        "import matplotlib.pyplot as plt\n",
        "\n",
        "# Dividir el conjunto de datos en entrenamiento y prueba (80% entrenamiento, 20% prueba)\n",
        "X_train, X_test, y_train, y_test = train_test_split(df_select.drop('atraso_15', axis=1), df_select['atraso_15'], test_size=0.2, random_state=42)\n",
        "\n",
        "# Estandarizar las características utilizando StandardScaler\n",
        "scaler = StandardScaler()\n",
        "X_train_std = scaler.fit_transform(X_train)\n",
        "X_test_std = scaler.transform(X_test)\n",
        "\n",
        "# Modelo de Regresión Logística con regularización L1 (Lasso)\n",
        "# lasso_model = LogisticRegression(penalty='l1', solver='liblinear', random_state=42) #penalizacion simple\n",
        "lasso_model = LogisticRegression(penalty='l1', solver='liblinear', C=10.0, random_state=42) # C10.0 mayor penalizacion\n",
        "lasso_model.fit(X_train_std, y_train)\n",
        "y_pred_lasso = lasso_model.predict(X_test_std)\n",
        "\n",
        "# Informe de clasificación para Regresión Logística con regularización L1 (Lasso)\n",
        "report_lasso = classification_report(y_test, y_pred_lasso, target_names=[\"No Atraso\", \"Atraso\"], output_dict=True)\n",
        "\n",
        "# Convertir el informe de clasificación a un DataFrame\n",
        "report_df_lasso = pd.DataFrame(report_lasso).transpose()\n",
        "\n",
        "# Mostrar el informe de clasificación con estilo usando seaborn\n",
        "sns.set(font_scale=1.2)\n",
        "plt.figure(figsize=(8, 6))\n",
        "sns.heatmap(report_df_lasso.iloc[:-1, :-1], annot=True, cmap=\"Blues\", fmt=\".2f\", linewidths=1, linecolor=\"black\")\n",
        "plt.title(\"Informe de Clasificación - Regresión Logística con L1 (Lasso)\")\n",
        "plt.show()\n",
        "\n",
        "# Modelo de Regresión Logística con regularización L2 (Ridge)\n",
        "# ridge_model = LogisticRegression(penalty='l2', random_state=42) #penalizacion simple\n",
        "ridge_model = LogisticRegression(penalty='l2', C=10.0, random_state=42) # C10.0 mayor penalizacion\n",
        "ridge_model.fit(X_train_std, y_train)\n",
        "y_pred_ridge = ridge_model.predict(X_test_std)\n",
        "\n",
        "# Informe de clasificación para Regresión Logística con regularización L2 (Ridge)\n",
        "report_ridge = classification_report(y_test, y_pred_ridge, target_names=[\"No Atraso\", \"Atraso\"], output_dict=True)\n",
        "\n",
        "# Convertir el informe de clasificación a un DataFrame\n",
        "report_df_ridge = pd.DataFrame(report_ridge).transpose()\n",
        "\n",
        "# Mostrar el informe de clasificación con estilo usando seaborn\n",
        "plt.figure(figsize=(8, 6))\n",
        "sns.heatmap(report_df_ridge.iloc[:-1, :-1], annot=True, cmap=\"Blues\", fmt=\".2f\", linewidths=1, linecolor=\"black\")\n",
        "plt.title(\"Informe de Clasificación - Regresión Logística con L2 (Ridge)\")\n",
        "plt.show()\n"
      ]
    },
    {
      "cell_type": "markdown",
      "metadata": {
        "id": "4arszziHk5HI"
      },
      "source": []
    },
    {
      "cell_type": "markdown",
      "metadata": {
        "id": "1IL5hYKxk5tE"
      },
      "source": [
        "### **Regresión logística (70/30) con regularización L1 y L2**"
      ]
    },
    {
      "cell_type": "code",
      "execution_count": 55,
      "metadata": {
        "colab": {
          "base_uri": "https://localhost:8080/",
          "height": 1000
        },
        "id": "tEjfAHqxk5tF",
        "outputId": "9a23f6d8-d2d5-4f01-a378-a1d5e04eae3f"
      },
      "outputs": [
        {
          "data": {
            "image/png": "[encoded data removed]",
            "text/plain": [
              "<Figure size 800x600 with 2 Axes>"
            ]
          },
          "metadata": {},
          "output_type": "display_data"
        },
        {
          "data": {
            "image/png": "[encoded data removed]",
            "text/plain": [
              "<Figure size 800x600 with 2 Axes>"
            ]
          },
          "metadata": {},
          "output_type": "display_data"
        }
      ],
      "source": [
        "import pandas as pd\n",
        "from sklearn.model_selection import train_test_split\n",
        "from sklearn.preprocessing import StandardScaler\n",
        "from sklearn.metrics import classification_report\n",
        "from sklearn.linear_model import LogisticRegression\n",
        "import seaborn as sns\n",
        "import matplotlib.pyplot as plt\n",
        "\n",
        "# Dividir el conjunto de datos en entrenamiento y prueba (70% entrenamiento, 30% prueba)\n",
        "X_train, X_test, y_train, y_test = train_test_split(df_select.drop('atraso_15', axis=1), df_select['atraso_15'], test_size=0.3, random_state=42)\n",
        "\n",
        "# Estandarizar las características utilizando StandardScaler\n",
        "scaler = StandardScaler()\n",
        "X_train_std = scaler.fit_transform(X_train)\n",
        "X_test_std = scaler.transform(X_test)\n",
        "\n",
        "# Modelo de Regresión Logística con regularización L1 (Lasso)\n",
        "# lasso_model = LogisticRegression(penalty='l1', solver='liblinear', random_state=42)\n",
        "lasso_model = LogisticRegression(penalty='l1', solver='liblinear', C=10.0, random_state=42) # C10.0 mayor penalizacion\n",
        "lasso_model.fit(X_train_std, y_train)\n",
        "y_pred_lasso = lasso_model.predict(X_test_std)\n",
        "\n",
        "# Informe de clasificación para Regresión Logística con regularización L1 (Lasso)\n",
        "report_lasso = classification_report(y_test, y_pred_lasso, target_names=[\"No Atraso\", \"Atraso\"], output_dict=True)\n",
        "\n",
        "# Convertir el informe de clasificación a un DataFrame\n",
        "report_df_lasso = pd.DataFrame(report_lasso).transpose()\n",
        "\n",
        "# Mostrar el informe de clasificación con estilo usando seaborn\n",
        "sns.set(font_scale=1.2)\n",
        "plt.figure(figsize=(8, 6))\n",
        "sns.heatmap(report_df_lasso.iloc[:-1, :-1], annot=True, cmap=\"Blues\", fmt=\".2f\", linewidths=1, linecolor=\"black\")\n",
        "plt.title(\"Informe de Clasificación - Regresión Logística con L1 (Lasso)\")\n",
        "plt.show()\n",
        "\n",
        "# Modelo de Regresión Logística con regularización L2 (Ridge)\n",
        "# ridge_model = LogisticRegression(penalty='l2', random_state=42)\n",
        "ridge_model = LogisticRegression(penalty='l2', C=10.0, random_state=42) # C10.0 mayor penalizacion\n",
        "ridge_model.fit(X_train_std, y_train)\n",
        "y_pred_ridge = ridge_model.predict(X_test_std)\n",
        "\n",
        "# Informe de clasificación para Regresión Logística con regularización L2 (Ridge)\n",
        "report_ridge = classification_report(y_test, y_pred_ridge, target_names=[\"No Atraso\", \"Atraso\"], output_dict=True)\n",
        "\n",
        "# Convertir el informe de clasificación a un DataFrame\n",
        "report_df_ridge = pd.DataFrame(report_ridge).transpose()\n",
        "\n",
        "# Mostrar el informe de clasificación con estilo usando seaborn\n",
        "plt.figure(figsize=(8, 6))\n",
        "sns.heatmap(report_df_ridge.iloc[:-1, :-1], annot=True, cmap=\"Blues\", fmt=\".2f\", linewidths=1, linecolor=\"black\")\n",
        "plt.title(\"Informe de Clasificación - Regresión Logística con L2 (Ridge)\")\n",
        "plt.show()\n"
      ]
    },
    {
      "cell_type": "markdown",
      "metadata": {
        "id": "LzMr9lOSiVsl"
      },
      "source": [
        "### **Regresión logística (80/20) con stndrizacion + SMOTEN + regularización L1 y L2**\n",
        "\n",
        "+ penalizacion C=10.0 L1 y L2"
      ]
    },
    {
      "cell_type": "code",
      "execution_count": null,
      "metadata": {
        "id": "ZRHyAsJHiaTn"
      },
      "outputs": [],
      "source": [
        "import pandas as pd\n",
        "from sklearn.model_selection import train_test_split\n",
        "from sklearn.metrics import classification_report\n",
        "from sklearn.linear_model import LogisticRegression\n",
        "from sklearn.preprocessing import StandardScaler\n",
        "from imblearn.over_sampling import SMOTE\n",
        "import seaborn as sns\n",
        "import matplotlib.pyplot as plt\n",
        "\n",
        "# Dividir el conjunto de datos en entrenamiento y prueba (80% entrenamiento, 20% prueba)\n",
        "X_train, X_test, y_train, y_test = train_test_split(df_select.drop('atraso_15', axis=1), df_select['atraso_15'], test_size=0.2, random_state=42)\n",
        "\n",
        "# Aplicar estandarización a los datos\n",
        "scaler = StandardScaler()\n",
        "X_train = scaler.fit_transform(X_train)\n",
        "X_test = scaler.transform(X_test)\n",
        "\n",
        "# Aplicar SMOTE para el balanceo de datos\n",
        "smote = SMOTE(random_state=42)\n",
        "X_train_resampled, y_train_resampled = smote.fit_resample(X_train, y_train)\n",
        "\n",
        "# Modelo de Regresión Logística con regularización L1 (Lasso)\n",
        "#lasso_model = LogisticRegression(penalty='l1', solver='liblinear', random_state=42)\n",
        "lasso_model = LogisticRegression(penalty='l1', solver='liblinear', C=10.0, random_state=42) # C10.0 mayor penalizacion\n",
        "lasso_model.fit(X_train_resampled, y_train_resampled)\n",
        "y_pred_lasso = lasso_model.predict(X_test)\n",
        "\n",
        "# Informe de clasificación para Regresión Logística con regularización L1 (Lasso)\n",
        "report_lasso = classification_report(y_test, y_pred_lasso, target_names=[\"No Atraso\", \"Atraso\"], output_dict=True)\n",
        "\n",
        "# Convertir el informe de clasificación a un DataFrame\n",
        "report_df_lasso = pd.DataFrame(report_lasso).transpose()\n",
        "\n",
        "# Mostrar el informe de clasificación con estilo usando seaborn\n",
        "sns.set(font_scale=1.2)\n",
        "plt.figure(figsize=(8, 6))\n",
        "sns.heatmap(report_df_lasso.iloc[:-1, :-1], annot=True, cmap=\"Blues\", fmt=\".2f\", linewidths=1, linecolor=\"black\")\n",
        "plt.title(\"Informe de Clasificación - Regresión Logística con L1 (Lasso)\")\n",
        "plt.show()\n",
        "\n",
        "# Modelo de Regresión Logística con regularización L2 (Ridge)\n",
        "#ridge_model = LogisticRegression(penalty='l2', random_state=42)\n",
        "ridge_model = LogisticRegression(penalty='l2', C=10.0, random_state=42) # C10.0 mayor penalizacion\n",
        "ridge_model.fit(X_train_resampled, y_train_resampled)\n",
        "y_pred_ridge = ridge_model.predict(X_test)\n",
        "\n",
        "# Informe de clasificación para Regresión Logística con regularización L2 (Ridge)\n",
        "report_ridge = classification_report(y_test, y_pred_ridge, target_names=[\"No Atraso\", \"Atraso\"], output_dict=True)\n",
        "\n",
        "# Convertir el informe de clasificación a un DataFrame\n",
        "report_df_ridge = pd.DataFrame(report_ridge).transpose()\n",
        "\n",
        "# Mostrar el informe de clasificación con estilo usando seaborn\n",
        "plt.figure(figsize=(8, 6))\n",
        "sns.heatmap(report_df_ridge.iloc[:-1, :-1], annot=True, cmap=\"Blues\", fmt=\".2f\", linewidths=1, linecolor=\"black\")\n",
        "plt.title(\"Informe de Clasificación - Regresión Logística con L2 (Ridge)\")\n",
        "plt.show()\n"
      ]
    },
    {
      "cell_type": "markdown",
      "metadata": {
        "id": "cSs4f5YklRCa"
      },
      "source": [
        "### **Regresión logística (70/30) con stndrizacion + SMOTEN + regularización L1 y L2**"
      ]
    },
    {
      "cell_type": "code",
      "execution_count": null,
      "metadata": {
        "id": "mCuaE8uxlRCd"
      },
      "outputs": [],
      "source": [
        "import pandas as pd\n",
        "from sklearn.model_selection import train_test_split\n",
        "from sklearn.metrics import classification_report\n",
        "from sklearn.linear_model import LogisticRegression\n",
        "from sklearn.preprocessing import StandardScaler\n",
        "from imblearn.over_sampling import SMOTE\n",
        "import seaborn as sns\n",
        "import matplotlib.pyplot as plt\n",
        "\n",
        "# Dividir el conjunto de datos en entrenamiento y prueba (70% entrenamiento, 30% prueba)\n",
        "X_train, X_test, y_train, y_test = train_test_split(df_select.drop('atraso_15', axis=1), df_select['atraso_15'], test_size=0.3, random_state=42)\n",
        "\n",
        "# Aplicar estandarización a los datos\n",
        "scaler = StandardScaler()\n",
        "X_train = scaler.fit_transform(X_train)\n",
        "X_test = scaler.transform(X_test)\n",
        "\n",
        "# Aplicar SMOTE para el balanceo de datos\n",
        "smote = SMOTE(random_state=42)\n",
        "X_train_resampled, y_train_resampled = smote.fit_resample(X_train, y_train)\n",
        "\n",
        "# Modelo de Regresión Logística con regularización L1 (Lasso)\n",
        "lasso_model = LogisticRegression(penalty='l1', solver='liblinear', random_state=42)\n",
        "lasso_model.fit(X_train_resampled, y_train_resampled)\n",
        "y_pred_lasso = lasso_model.predict(X_test)\n",
        "\n",
        "# Informe de clasificación para Regresión Logística con regularización L1 (Lasso)\n",
        "report_lasso = classification_report(y_test, y_pred_lasso, target_names=[\"No Atraso\", \"Atraso\"], output_dict=True)\n",
        "\n",
        "# Convertir el informe de clasificación a un DataFrame\n",
        "report_df_lasso = pd.DataFrame(report_lasso).transpose()\n",
        "\n",
        "# Mostrar el informe de clasificación con estilo usando seaborn\n",
        "sns.set(font_scale=1.2)\n",
        "plt.figure(figsize=(8, 6))\n",
        "sns.heatmap(report_df_lasso.iloc[:-1, :-1], annot=True, cmap=\"Blues\", fmt=\".2f\", linewidths=1, linecolor=\"black\")\n",
        "plt.title(\"Informe de Clasificación - Regresión Logística con L1 (Lasso)\")\n",
        "plt.show()\n",
        "\n",
        "# Modelo de Regresión Logística con regularización L2 (Ridge)\n",
        "ridge_model = LogisticRegression(penalty='l2', random_state=42)\n",
        "ridge_model.fit(X_train_resampled, y_train_resampled)\n",
        "y_pred_ridge = ridge_model.predict(X_test)\n",
        "\n",
        "# Informe de clasificación para Regresión Logística con regularización L2 (Ridge)\n",
        "report_ridge = classification_report(y_test, y_pred_ridge, target_names=[\"No Atraso\", \"Atraso\"], output_dict=True)\n",
        "\n",
        "# Convertir el informe de clasificación a un DataFrame\n",
        "report_df_ridge = pd.DataFrame(report_ridge).transpose()\n",
        "\n",
        "# Mostrar el informe de clasificación con estilo usando seaborn\n",
        "plt.figure(figsize=(8, 6))\n",
        "sns.heatmap(report_df_ridge.iloc[:-1, :-1], annot=True, cmap=\"Blues\", fmt=\".2f\", linewidths=1, linecolor=\"black\")\n",
        "plt.title(\"Informe de Clasificación - Regresión Logística con L2 (Ridge)\")\n",
        "plt.show()\n"
      ]
    },
    {
      "cell_type": "markdown",
      "metadata": {
        "id": "XqsjCmvj1yJq"
      },
      "source": []
    },
    {
      "cell_type": "markdown",
      "metadata": {
        "id": "xn21s5dL1yl6"
      },
      "source": [
        "### **Regresión logística (70/30) con stndrizacion + SMOTEN + regularización L1 y L2 y tuning para overfitting**"
      ]
    },
    {
      "cell_type": "code",
      "execution_count": 30,
      "metadata": {
        "colab": {
          "base_uri": "https://localhost:8080/",
          "height": 1000
        },
        "id": "IYTejHDQ1rd3",
        "outputId": "f7dad301-56a4-4d38-a305-d4147795c2e9"
      },
      "outputs": [
        {
          "data": {
            "image/png": "[encoded data removed]",
            "text/plain": [
              "<Figure size 800x600 with 2 Axes>"
            ]
          },
          "metadata": {},
          "output_type": "display_data"
        },
        {
          "data": {
            "image/png": "[encoded data removed]",
            "text/plain": [
              "<Figure size 800x600 with 2 Axes>"
            ]
          },
          "metadata": {},
          "output_type": "display_data"
        }
      ],
      "source": [
        "import pandas as pd\n",
        "from sklearn.model_selection import train_test_split\n",
        "from sklearn.metrics import classification_report\n",
        "from sklearn.linear_model import LogisticRegression\n",
        "from sklearn.preprocessing import StandardScaler\n",
        "from imblearn.over_sampling import SMOTE\n",
        "import seaborn as sns\n",
        "import matplotlib.pyplot as plt\n",
        "\n",
        "# Dividir el conjunto de datos en entrenamiento y prueba (70% entrenamiento, 30% prueba)\n",
        "X_train, X_test, y_train, y_test = train_test_split(df_select.drop('atraso_15', axis=1), df_select['atraso_15'], test_size=0.3, random_state=42)\n",
        "\n",
        "# Aplicar estandarización a los datos\n",
        "scaler = StandardScaler()\n",
        "X_train = scaler.fit_transform(X_train)\n",
        "X_test = scaler.transform(X_test)\n",
        "\n",
        "# Aplicar SMOTE para el balanceo de datos (Puedes ajustar estos parámetros)\n",
        "smote = SMOTE(sampling_strategy='auto', random_state=42, n_jobs=-1)\n",
        "X_train_resampled, y_train_resampled = smote.fit_resample(X_train, y_train)\n",
        "\n",
        "# Modelo de Regresión Logística con regularización L1 (Lasso) (Puedes ajustar el valor de C)\n",
        "lasso_model = LogisticRegression(penalty='l1', solver='saga', C=0.01, random_state=42) #c=0.01 | auto/liblinear:binarios/saga: es tipo ElasticNet que balanbcea cesgo y varianza mejor.\n",
        "lasso_model.fit(X_train_resampled, y_train_resampled)\n",
        "y_pred_lasso = lasso_model.predict(X_test)\n",
        "\n",
        "# Informe de clasificación para Regresión Logística con regularización L1 (Lasso)\n",
        "report_lasso = classification_report(y_test, y_pred_lasso, target_names=[\"No Atraso\", \"Atraso\"], output_dict=True)\n",
        "\n",
        "# Convertir el informe de clasificación a un DataFrame\n",
        "report_df_lasso = pd.DataFrame(report_lasso).transpose()\n",
        "\n",
        "# Mostrar el informe de clasificación con estilo usando seaborn\n",
        "sns.set(font_scale=1.2)\n",
        "plt.figure(figsize=(8, 6))\n",
        "sns.heatmap(report_df_lasso.iloc[:-1, :-1], annot=True, cmap=\"Blues\", fmt=\".2f\", linewidths=1, linecolor=\"black\")\n",
        "plt.title(\"Informe de Clasificación - Regresión Logística con L1 (Lasso)\")\n",
        "plt.show()\n",
        "\n",
        "# Modelo de Regresión Logística con regularización L2 (Ridge) (Puedes ajustar el valor de C)\n",
        "ridge_model = LogisticRegression(penalty='l2',solver='saga', C=0.01, random_state=42) #c=0.01 | auto/liblinear:binarios/saga: es tipo ElasticNet que balanbcea cesgo y varianza mejor.\n",
        "ridge_model.fit(X_train_resampled, y_train_resampled)\n",
        "y_pred_ridge = ridge_model.predict(X_test)\n",
        "\n",
        "# Informe de clasificación para Regresión Logística con regularización L2 (Ridge)\n",
        "report_ridge = classification_report(y_test, y_pred_ridge, target_names=[\"No Atraso\", \"Atraso\"], output_dict=True)\n",
        "\n",
        "# Convertir el informe de clasificación a un DataFrame\n",
        "report_df_ridge = pd.DataFrame(report_ridge).transpose()\n",
        "\n",
        "# Mostrar el informe de clasificación con estilo usando seaborn\n",
        "plt.figure(figsize=(8, 6))\n",
        "sns.heatmap(report_df_ridge.iloc[:-1, :-1], annot=True, cmap=\"Blues\", fmt=\".2f\", linewidths=1, linecolor=\"black\")\n",
        "plt.title(\"Informe de Clasificación - Regresión Logística con L2 (Ridge)\")\n",
        "plt.show()\n"
      ]
    },
    {
      "cell_type": "markdown",
      "metadata": {
        "id": "HX6xaeqK3yum"
      },
      "source": [
        "#### **OBS de esta tirada de modelos:**\n",
        "\n",
        "Seguimos en una situación de sobreajuste, aunque ha disminuido ligeramente. Es posible que los problemas estén relacionados con el conjunto de datos.\n",
        "\n",
        "- La selección de características es fundamental, pero en este caso, la falta de claridad en la pregunta de negocio sugiere que debemos conservar atributos como MES, OPERADOR, DESTINO y, por supuesto, ATRASO_15. Desde esta perspectiva, sería recomendable considerar la posibilidad de eliminar algunos atributos que puedan estar causando interferencias. Lo que me deja en duda es qué atributo está contribuyendo tanto al sobreajuste.\n",
        "\n",
        "- Un error común es que, incluso después de la estandarización, la diferencia entre los valores numéricos y los binarios (one-hot-encoded) puede seguir generando suficiente ruido.\n",
        "\n",
        "- Me atrevo a afirmar que, con datos menos sesgados, como por ejemplo una distribución más equitativa de vuelos entre ciudades en lugar de unas con una gran cantidad de vuelos y otras con muy pocos (1 o 5 vuelos), podríamos obtener mejores resultados. La limitación de recursos de hardware y tiempo de procesamiento ha dificultado el ajuste de hiperparámetros, la exploración de diferentes modelos y estrategias de regularización. Esto ha ralentizado significativamente esta etapa, lo cual es contradictorio con la intención inicial de crear una prueba de concepto o maqueta. Si tuviera una semana de tiempo y acceso a un entorno de nube con recursos amplios, podría encontrar rápidamente el mejor modelo para estos datos.\n",
        "\n",
        "- En cuanto a los datos, sorprendentemente, no estaban tan desorganizados como se podría esperar. Inicialmente, anticipaba que tendría que realizar una imputación considerable de datos faltantes, pero al realizar pruebas y agregar ruido a algunas características, el ruido superaba con creces a los datos faltantes. Como mencioné anteriormente, la calidad de los datos no es mala, pero tampoco es óptima. La presencia de datos faltantes, inconsistencias en el tipo de valores en algunas columnas y un claro desequilibrio en los datos sugieren la necesidad de una preparación de datos más exhaustiva. Este proceso suele llevar varios días, en comparación con el tiempo dedicado a ejecutar modelos, que constituye aproximadamente el 10% del tiempo total en un flujo de trabajo típico. Después, se inicia la fase de monitoreo y evaluación de la estabilidad, entre otros aspectos. Si los datos se seleccionan, revisan y limpian adecuadamente, es mucho más viable ejecutar múltiples modelos con diferentes configuraciones y evaluar su rendimiento. En mi caso, decidí no centrarme tanto en el trabajo de Juan, el científico de datos y, en su lugar, reflexionar sobre lo que podría haberse mejorado. Mi objetivo principal es obterner un medelo que mejore le rendimienot que Juan presentó e implementar el modelo en una API REST y someterlo a pruebas de estrés."
      ]
    },
    {
      "cell_type": "markdown",
      "metadata": {
        "id": "BE6qH0_L_7Gh"
      },
      "source": [
        "### **XGBoost (70/30)  + SMOTEN + regularización L1 y L2 y tuning para overfitting**"
      ]
    },
    {
      "cell_type": "code",
      "execution_count": 31,
      "metadata": {
        "colab": {
          "base_uri": "https://localhost:8080/",
          "height": 750
        },
        "id": "tnSdaApi_7Gk",
        "outputId": "dd0d98fc-f3bd-4a17-e58f-e720475572f6"
      },
      "outputs": [
        {
          "name": "stdout",
          "output_type": "stream",
          "text": [
            "Informe de Clasificación - XGBoost con SMOTE y Estandarización (Versión Numérica):\n",
            "\n",
            "              precision    recall  f1-score   support\n",
            "\n",
            "           0       1.00      1.00      1.00     15625\n",
            "           1       1.00      1.00      1.00      3511\n",
            "\n",
            "    accuracy                           1.00     19136\n",
            "   macro avg       1.00      1.00      1.00     19136\n",
            "weighted avg       1.00      1.00      1.00     19136\n",
            "\n"
          ]
        },
        {
          "data": {
            "image/png": "[encoded data removed]",
            "text/plain": [
              "<Figure size 800x600 with 2 Axes>"
            ]
          },
          "metadata": {},
          "output_type": "display_data"
        }
      ],
      "source": [
        "import pandas as pd\n",
        "from sklearn.model_selection import train_test_split\n",
        "from sklearn.metrics import classification_report\n",
        "from xgboost import XGBClassifier\n",
        "from sklearn.preprocessing import StandardScaler\n",
        "from imblearn.over_sampling import SMOTE\n",
        "import seaborn as sns\n",
        "import matplotlib.pyplot as plt\n",
        "\n",
        "# Dividir el conjunto de datos en entrenamiento y prueba (70% entrenamiento, 30% prueba)\n",
        "X_train, X_test, y_train, y_test = train_test_split(df_select.drop('atraso_15', axis=1), df_select['atraso_15'], test_size=0.3, random_state=42)\n",
        "\n",
        "# Aplicaar estandarización a los datos\n",
        "scaler = StandardScaler()\n",
        "X_train = scaler.fit_transform(X_train)\n",
        "X_test = scaler.transform(X_test)\n",
        "\n",
        "# Aplicar SMOTE para el balanceo de datos (Puedes ajustar estos parámetros)\n",
        "smote = SMOTE(sampling_strategy='auto', random_state=42, n_jobs=-1)\n",
        "X_train_resampled, y_train_resampled = smote.fit_resample(X_train, y_train)\n",
        "\n",
        "# Modelo de XGBoost con hiperparámetros ajustados (Puedes ajustar los hiperparámetros)\n",
        "xgb_model = XGBClassifier(\n",
        "    learning_rate=0.1,\n",
        "    n_estimators=100, # nro de arbolees\n",
        "    max_depth=3, # profundidad del arbol\n",
        "    random_state=42\n",
        ")\n",
        "xgb_model.fit(X_train_resampled, y_train_resampled)\n",
        "y_pred_xgb = xgb_model.predict(X_test)\n",
        "\n",
        "# Informe de clasificación para XGBoost\n",
        "report_xgb = classification_report(y_test, y_pred_xgb, target_names=[\"No Atraso\", \"Atraso\"], output_dict=True)\n",
        "\n",
        "# Convertir el informe de clasificación a un DataFrame\n",
        "report_df_xgb = pd.DataFrame(report_xgb).transpose()\n",
        "\n",
        "\n",
        "# Informe de clasificación para XGBoost (versión numérica)\n",
        "print(\"Informe de Clasificación - XGBoost con SMOTE y Estandarización (Versión Numérica):\\n\")\n",
        "print(classification_report(y_test, y_pred_xgb))\n",
        "\n",
        "# Mostrar el informe de clasificación con estilo usando seaborn\n",
        "sns.set(font_scale=1.2)\n",
        "plt.figure(figsize=(8, 6))\n",
        "sns.heatmap(report_df_xgb.iloc[:-1, :-1], annot=True, cmap=\"Blues\", fmt=\".2f\", linewidths=1, linecolor=\"black\")\n",
        "plt.title(\"Informe de Clasificación - XGBoost con SMOTE y Estandarización\")\n",
        "plt.show()\n",
        "\n"
      ]
    },
    {
      "cell_type": "markdown",
      "metadata": {
        "id": "03Md-CGtNZNL"
      },
      "source": [
        "#### **Reducción de dimensionalidad: dropiemos features para ver como reacciona el modelo y luego ver si responde la pregunta de negocio.**\n",
        "\n",
        "* si bien el DIA de vuelo parecía tener algun efecto diferencia.l en relacióncon lso otros días no muestra tener relevancia ni cmbio significativo conrespecto a otros. porl o que DIANOM puede ser reduntante para el entreniamiento. probemos con su ausencias en el df_select"
      ]
    },
    {
      "cell_type": "code",
      "execution_count": 43,
      "metadata": {
        "colab": {
          "base_uri": "https://localhost:8080/"
        },
        "id": "2rLT9yD2P71d",
        "outputId": "11155970-cf47-4d81-f0f8-4a511dd69cbf"
      },
      "outputs": [
        {
          "name": "stdout",
          "output_type": "stream",
          "text": [
            "Index(['Fecha-I', 'Vlo-I', 'Ori-I', 'Des-I', 'Emp-I', 'Fecha-O', 'Vlo-O',\n",
            "       'Ori-O', 'Des-O', 'Emp-O', 'DIA', 'MES', 'AÑO', 'DIANOM', 'TIPOVUELO',\n",
            "       'OPERA', 'SIGLAORI', 'SIGLADES', 'temporada_alta', 'dif_min',\n",
            "       'atraso_15', 'periodo_dia'],\n",
            "      dtype='object')\n"
          ]
        }
      ],
      "source": [
        "print(df.columns)\n"
      ]
    },
    {
      "cell_type": "code",
      "execution_count": null,
      "metadata": {
        "id": "81x6FNqFNUfN"
      },
      "outputs": [],
      "source": [
        "# dropeo de otro feature\n",
        "columns_to_drop = ['DIANOM']\n",
        "df = df.drop(columns=columns_to_drop)\n",
        "# Verificar el nuevo DataFrame\n",
        "print(df.head())"
      ]
    },
    {
      "cell_type": "markdown",
      "metadata": {
        "id": "Cew_gtmtQQwS"
      },
      "source": [
        "#### **Codificación One-Hot #02**\n",
        "\n",
        "Codificamos las columnas categóricas con codificación one-hot."
      ]
    },
    {
      "cell_type": "code",
      "execution_count": 46,
      "metadata": {
        "colab": {
          "base_uri": "https://localhost:8080/"
        },
        "id": "WUm8S9Z0QQwT",
        "outputId": "d8f77d78-49e6-4740-c6fd-aff79567134b"
      },
      "outputs": [
        {
          "name": "stdout",
          "output_type": "stream",
          "text": [
            "   atraso_15  temporada_alta  dif_min  OPERA_Aerolineas Argentinas  \\\n",
            "0          0               1      3.0                            0   \n",
            "1          0               1      9.0                            0   \n",
            "2          0               1      9.0                            0   \n",
            "3          0               1      3.0                            0   \n",
            "4          0               1     -2.0                            0   \n",
            "\n",
            "   OPERA_Aeromexico  OPERA_Air Canada  OPERA_Air France  OPERA_Alitalia  \\\n",
            "0                 0                 0                 0               0   \n",
            "1                 0                 0                 0               0   \n",
            "2                 0                 0                 0               0   \n",
            "3                 0                 0                 0               0   \n",
            "4                 0                 0                 0               0   \n",
            "\n",
            "   OPERA_American Airlines  OPERA_Austral  ...  SIGLADES_Tucuman  \\\n",
            "0                        1              0  ...                 0   \n",
            "1                        1              0  ...                 0   \n",
            "2                        1              0  ...                 0   \n",
            "3                        1              0  ...                 0   \n",
            "4                        1              0  ...                 0   \n",
            "\n",
            "   SIGLADES_Ushuia  SIGLADES_Valdivia  SIGLADES_Washington  \\\n",
            "0                0                  0                    0   \n",
            "1                0                  0                    0   \n",
            "2                0                  0                    0   \n",
            "3                0                  0                    0   \n",
            "4                0                  0                    0   \n",
            "\n",
            "   periodo_dia_Mañana  periodo_dia_Noche  periodo_dia_Tarde  \\\n",
            "0                   0                  0                  0   \n",
            "1                   0                  0                  0   \n",
            "2                   0                  0                  0   \n",
            "3                   0                  0                  0   \n",
            "4                   0                  0                  0   \n",
            "\n",
            "   periodo_dia_mañana  periodo_dia_noche  periodo_dia_tarde  \n",
            "0                   0                  1                  0  \n",
            "1                   0                  1                  0  \n",
            "2                   0                  1                  0  \n",
            "3                   0                  1                  0  \n",
            "4                   0                  1                  0  \n",
            "\n",
            "[5 rows x 106 columns]\n"
          ]
        }
      ],
      "source": [
        "# Atributos finales para el modelamiento\n",
        "#atributos_finales = ['OPERA', 'MES', 'TIPOVUELO', 'SIGLADES', 'DIANOM', 'atraso_15', 'Vlo-I', 'Vlo-O', 'temporada_alta', 'dif_min', 'periodo_dia']\n",
        "atributos_finales = ['OPERA', 'MES', 'TIPOVUELO', 'SIGLADES','atraso_15', 'temporada_alta', 'dif_min', 'periodo_dia']\n",
        "\n",
        "# Seleccionar solo los atributos finales del DataFrame original\n",
        "df_select = df[atributos_finales].copy()\n",
        "\n",
        "# Realizar one-hot encoding para las columnas categóricas\n",
        "df_select = pd.get_dummies(df_select, columns=['OPERA', 'MES', 'TIPOVUELO', 'SIGLADES', 'periodo_dia'])\n",
        "\n",
        "# Verificar el nuevo DataFrame\n",
        "print(df_select.head())\n"
      ]
    },
    {
      "cell_type": "markdown",
      "metadata": {
        "id": "9TkPdJqCQjsy"
      },
      "source": [
        "### **Volvamos a probar la Batería**"
      ]
    },
    {
      "cell_type": "markdown",
      "metadata": {
        "id": "_kDajUuDQnyM"
      },
      "source": [
        "### **XGBoost (70/30)  + SMOTEN + regularización L1 y L2 y tuning para overfitting**"
      ]
    },
    {
      "cell_type": "code",
      "execution_count": 47,
      "metadata": {
        "colab": {
          "base_uri": "https://localhost:8080/",
          "height": 750
        },
        "id": "YYdEfNodQnyN",
        "outputId": "e4d289a7-12c4-4777-8a2f-ff2d81b572c4"
      },
      "outputs": [
        {
          "name": "stdout",
          "output_type": "stream",
          "text": [
            "Informe de Clasificación - XGBoost con SMOTE y Estandarización (Versión Numérica):\n",
            "\n",
            "              precision    recall  f1-score   support\n",
            "\n",
            "           0       1.00      1.00      1.00     15625\n",
            "           1       1.00      1.00      1.00      3511\n",
            "\n",
            "    accuracy                           1.00     19136\n",
            "   macro avg       1.00      1.00      1.00     19136\n",
            "weighted avg       1.00      1.00      1.00     19136\n",
            "\n"
          ]
        },
        {
          "data": {
            "image/png": "[encoded data removed]",
            "text/plain": [
              "<Figure size 800x600 with 2 Axes>"
            ]
          },
          "metadata": {},
          "output_type": "display_data"
        }
      ],
      "source": [
        "import pandas as pd\n",
        "from sklearn.model_selection import train_test_split\n",
        "from sklearn.metrics import classification_report\n",
        "from xgboost import XGBClassifier\n",
        "from sklearn.preprocessing import StandardScaler\n",
        "from imblearn.over_sampling import SMOTE\n",
        "import seaborn as sns\n",
        "import matplotlib.pyplot as plt\n",
        "\n",
        "# Dividir el conjunto de datos en entrenamiento y prueba (70% entrenamiento, 30% prueba)\n",
        "X_train, X_test, y_train, y_test = train_test_split(df_select.drop('atraso_15', axis=1), df_select['atraso_15'], test_size=0.3, random_state=42)\n",
        "\n",
        "# Aplicar estandarización a los datos\n",
        "scaler = StandardScaler()\n",
        "X_train = scaler.fit_transform(X_train)\n",
        "X_test = scaler.transform(X_test)\n",
        "\n",
        "# Aplicar SMOTE para el balanceo de datos (ajustar estos parámetros)\n",
        "smote = SMOTE(sampling_strategy='auto', random_state=42, n_jobs=-1)\n",
        "X_train_resampled, y_train_resampled = smote.fit_resample(X_train, y_train)\n",
        "\n",
        "# Modelo de XGBoost con hiperparámetros ajustados (ajustar los hiperparámetros)\n",
        "xgb_model = XGBClassifier(\n",
        "    learning_rate=0.1,\n",
        "    n_estimators=100, # nro de arbolees\n",
        "    max_depth=3, # profundidad del arbol\n",
        "    random_state=42\n",
        ")\n",
        "xgb_model.fit(X_train_resampled, y_train_resampled)\n",
        "y_pred_xgb = xgb_model.predict(X_test)\n",
        "\n",
        "# Informe de clasificación para XGBoost\n",
        "report_xgb = classification_report(y_test, y_pred_xgb, target_names=[\"No Atraso\", \"Atraso\"], output_dict=True)\n",
        "\n",
        "# Convertir el informe de clasificación a un DataFrame\n",
        "report_df_xgb = pd.DataFrame(report_xgb).transpose()\n",
        "\n",
        "\n",
        "# Informe de clasificación para XGBoost (versión numérica)\n",
        "print(\"Informe de Clasificación - XGBoost con SMOTE y Estandarización (Versión Numérica):\\n\")\n",
        "print(classification_report(y_test, y_pred_xgb))\n",
        "\n",
        "# Mostrar el informe de clasificación con usando seaborn\n",
        "sns.set(font_scale=1.2)\n",
        "plt.figure(figsize=(8, 6))\n",
        "sns.heatmap(report_df_xgb.iloc[:-1, :-1], annot=True, cmap=\"Blues\", fmt=\".2f\", linewidths=1, linecolor=\"black\")\n",
        "plt.title(\"Informe de Clasificación - XGBoost con SMOTE y Estandarización\")\n",
        "plt.show()\n",
        "\n"
      ]
    },
    {
      "cell_type": "markdown",
      "metadata": {
        "id": "_c8utEJIRqYx"
      },
      "source": [
        "### **OBS: XGboost + distintas estrategias **\n",
        "* definitivasmente el punto de conflicto debe estar en los datos y la selecicón de features.\n",
        "\n",
        "* Probemos con otro modelo para descartar mi hipótesis alternativa. Support Vector Machine.\n"
      ]
    },
    {
      "cell_type": "markdown",
      "metadata": {
        "id": "KWEyDYLdR0I5"
      },
      "source": [
        "### **Testemos Support Vector Machine**"
      ]
    },
    {
      "cell_type": "code",
      "execution_count": 48,
      "metadata": {
        "colab": {
          "base_uri": "https://localhost:8080/",
          "height": 750
        },
        "id": "cXrAxVoXQQJY",
        "outputId": "9c1b4be3-28d8-47cb-94f7-c2c10542a2dc"
      },
      "outputs": [
        {
          "name": "stdout",
          "output_type": "stream",
          "text": [
            "Informe de Clasificación - Support Vector Machine (SVM) con SMOTE y Estandarización (Versión Numérica):\n",
            "\n",
            "              precision    recall  f1-score   support\n",
            "\n",
            "           0       0.99      0.97      0.98     15625\n",
            "           1       0.90      0.98      0.93      3511\n",
            "\n",
            "    accuracy                           0.98     19136\n",
            "   macro avg       0.95      0.98      0.96     19136\n",
            "weighted avg       0.98      0.98      0.98     19136\n",
            "\n"
          ]
        },
        {
          "data": {
            "image/png": "[encoded data removed]",
            "text/plain": [
              "<Figure size 800x600 with 2 Axes>"
            ]
          },
          "metadata": {},
          "output_type": "display_data"
        }
      ],
      "source": [
        "import pandas as pd\n",
        "from sklearn.model_selection import train_test_split\n",
        "from sklearn.metrics import classification_report\n",
        "from sklearn.svm import SVC  # Import the Support Vector Machine classifier\n",
        "from sklearn.preprocessing import StandardScaler\n",
        "from imblearn.over_sampling import SMOTE\n",
        "import seaborn as sns\n",
        "import matplotlib.pyplot as plt\n",
        "\n",
        "# Dividir el conjunto de datos en entrenamiento y prueba (70% entrenamiento, 30% prueba)\n",
        "X_train, X_test, y_train, y_test = train_test_split(df_select.drop('atraso_15', axis=1), df_select['atraso_15'], test_size=0.3, random_state=42)\n",
        "\n",
        "# Aplicar estandarización a los datos\n",
        "scaler = StandardScaler()\n",
        "X_train = scaler.fit_transform(X_train)\n",
        "X_test = scaler.transform(X_test)\n",
        "\n",
        "# Aplicar SMOTE para el balanceo de datos (ajustar estos parámetros)\n",
        "smote = SMOTE(sampling_strategy='auto', random_state=42, n_jobs=-1)\n",
        "X_train_resampled, y_train_resampled = smote.fit_resample(X_train, y_train)\n",
        "\n",
        "# Modelo de Support Vector Machine (SVM) ( ajustar los hiperparámetros)\n",
        "svm_model = SVC(\n",
        "    C=1.0,  # Regularization parameter ( ajustar este valor)\n",
        "    kernel='rbf',  # Radial basis function kernel\n",
        "    gamma='scale',  # Kernel coefficient for 'rbf'\n",
        "    random_state=42\n",
        ")\n",
        "svm_model.fit(X_train_resampled, y_train_resampled)\n",
        "y_pred_svm = svm_model.predict(X_test)\n",
        "\n",
        "# Informe de clasificación para SVM\n",
        "report_svm = classification_report(y_test, y_pred_svm, target_names=[\"No Atraso\", \"Atraso\"], output_dict=True)\n",
        "\n",
        "# Convertir el informe de clasificación a un DataFrame\n",
        "report_df_svm = pd.DataFrame(report_svm).transpose()\n",
        "\n",
        "# Informe de clasificación para SVM (versión numérica)\n",
        "print(\"Informe de Clasificación - Support Vector Machine (SVM) con SMOTE y Estandarización (Versión Numérica):\\n\")\n",
        "print(classification_report(y_test, y_pred_svm))\n",
        "\n",
        "# Mostrar el informe de clasificación con estilo usando seaborn\n",
        "sns.set(font_scale=1.2)\n",
        "plt.figure(figsize=(8, 6))\n",
        "sns.heatmap(report_df_svm.iloc[:-1, :-1], annot=True, cmap=\"Blues\", fmt=\".2f\", linewidths=1, linecolor=\"black\")\n",
        "plt.title(\"Informe de Clasificación - Support Vector Machine (SVM) con SMOTE y Estandarización\")\n",
        "plt.show()\n"
      ]
    },
    {
      "cell_type": "markdown",
      "metadata": {
        "id": "n8ZOhLjdTC6b"
      },
      "source": [
        "OBS:\n",
        "\n",
        "* SVM mostró ser mucho mas aterrizado pero el exceso de overfitting sigue muy alto. no es un mnal approach pero debemos ver que esta pasando. puede que el remover un feature haya mejorado la claridad del modelo pero seguimos super overfitted.  \n",
        "\n",
        "* Probar otro approach con XGboost + analisis de Componentes Principales + tunning en sub estrategias del modelo."
      ]
    },
    {
      "cell_type": "markdown",
      "metadata": {
        "id": "kZ8dU19QTV5z"
      },
      "source": [
        "### **Intentemos un PCA ( componentes principales) y volvamos a correr un xgboost con él**"
      ]
    },
    {
      "cell_type": "code",
      "execution_count": 56,
      "metadata": {
        "colab": {
          "base_uri": "https://localhost:8080/"
        },
        "id": "egOnMkapURxv",
        "outputId": "e8c38792-e9b7-4355-fc0c-909ad6df32e6"
      },
      "outputs": [
        {
          "name": "stdout",
          "output_type": "stream",
          "text": [
            "              Fecha-I Vlo-I Ori-I Des-I Emp-I             Fecha-O Vlo-O Ori-O  \\\n",
            "0 2017-01-01 23:30:00   226  SCEL  KMIA   AAL 2017-01-01 23:33:00   226  SCEL   \n",
            "1 2017-01-02 23:30:00   226  SCEL  KMIA   AAL 2017-01-02 23:39:00   226  SCEL   \n",
            "2 2017-01-03 23:30:00   226  SCEL  KMIA   AAL 2017-01-03 23:39:00   226  SCEL   \n",
            "3 2017-01-04 23:30:00   226  SCEL  KMIA   AAL 2017-01-04 23:33:00   226  SCEL   \n",
            "4 2017-01-05 23:30:00   226  SCEL  KMIA   AAL 2017-01-05 23:28:00   226  SCEL   \n",
            "\n",
            "  Des-O Emp-O  ...  MES   AÑO  TIPOVUELO              OPERA  SIGLAORI  \\\n",
            "0  KMIA   AAL  ...    1  2017          I  American Airlines  Santiago   \n",
            "1  KMIA   AAL  ...    1  2017          I  American Airlines  Santiago   \n",
            "2  KMIA   AAL  ...    1  2017          I  American Airlines  Santiago   \n",
            "3  KMIA   AAL  ...    1  2017          I  American Airlines  Santiago   \n",
            "4  KMIA   AAL  ...    1  2017          I  American Airlines  Santiago   \n",
            "\n",
            "  SIGLADES temporada_alta  dif_min  atraso_15  periodo_dia  \n",
            "0    Miami              1      3.0          0        noche  \n",
            "1    Miami              1      9.0          0        noche  \n",
            "2    Miami              1      9.0          0        noche  \n",
            "3    Miami              1      3.0          0        noche  \n",
            "4    Miami              1     -2.0          0        noche  \n",
            "\n",
            "[5 rows x 21 columns]\n"
          ]
        }
      ],
      "source": [
        "print (df.head())"
      ]
    },
    {
      "cell_type": "code",
      "execution_count": null,
      "metadata": {
        "id": "CwFXK3UK9lIk"
      },
      "outputs": [],
      "source": [
        "from google.colab import files\n",
        "\n",
        "df.to_csv('dataset_SCL_limpios_prePCA.csv', index=False)\n",
        "files.download('dataset_SCL_limpios_prePCA.csv')"
      ]
    },
    {
      "cell_type": "markdown",
      "metadata": {
        "id": "HTrIdL3jURxv"
      },
      "source": [
        "##### **Codificación One-Hot #03**\n",
        "\n",
        "Codificamos las columnas categóricas con codificación one-hot."
      ]
    },
    {
      "cell_type": "code",
      "execution_count": 70,
      "metadata": {
        "colab": {
          "base_uri": "https://localhost:8080/"
        },
        "id": "L10tTdXrURxx",
        "outputId": "bd726255-1511-4b6b-e043-77e6bb6343a1"
      },
      "outputs": [
        {
          "name": "stdout",
          "output_type": "stream",
          "text": [
            "   atraso_15  temporada_alta  dif_min  OPERA_Aerolineas Argentinas  \\\n",
            "0          0               1      3.0                            0   \n",
            "1          0               1      9.0                            0   \n",
            "2          0               1      9.0                            0   \n",
            "3          0               1      3.0                            0   \n",
            "4          0               1     -2.0                            0   \n",
            "\n",
            "   OPERA_Aeromexico  OPERA_Air Canada  OPERA_Air France  OPERA_Alitalia  \\\n",
            "0                 0                 0                 0               0   \n",
            "1                 0                 0                 0               0   \n",
            "2                 0                 0                 0               0   \n",
            "3                 0                 0                 0               0   \n",
            "4                 0                 0                 0               0   \n",
            "\n",
            "   OPERA_American Airlines  OPERA_Austral  ...  SIGLADES_Tucuman  \\\n",
            "0                        1              0  ...                 0   \n",
            "1                        1              0  ...                 0   \n",
            "2                        1              0  ...                 0   \n",
            "3                        1              0  ...                 0   \n",
            "4                        1              0  ...                 0   \n",
            "\n",
            "   SIGLADES_Ushuia  SIGLADES_Valdivia  SIGLADES_Washington  \\\n",
            "0                0                  0                    0   \n",
            "1                0                  0                    0   \n",
            "2                0                  0                    0   \n",
            "3                0                  0                    0   \n",
            "4                0                  0                    0   \n",
            "\n",
            "   periodo_dia_Mañana  periodo_dia_Noche  periodo_dia_Tarde  \\\n",
            "0                   0                  0                  0   \n",
            "1                   0                  0                  0   \n",
            "2                   0                  0                  0   \n",
            "3                   0                  0                  0   \n",
            "4                   0                  0                  0   \n",
            "\n",
            "   periodo_dia_mañana  periodo_dia_noche  periodo_dia_tarde  \n",
            "0                   0                  1                  0  \n",
            "1                   0                  1                  0  \n",
            "2                   0                  1                  0  \n",
            "3                   0                  1                  0  \n",
            "4                   0                  1                  0  \n",
            "\n",
            "[5 rows x 106 columns]\n"
          ]
        }
      ],
      "source": [
        "# Atributos finales para el modelamiento\n",
        "#atributos_finales = ['OPERA', 'MES', 'TIPOVUELO', 'SIGLADES', 'DIANOM', 'atraso_15', 'Vlo-I', 'Vlo-O', 'temporada_alta', 'dif_min', 'periodo_dia']\n",
        "atributos_finales = ['OPERA', 'MES', 'TIPOVUELO', 'SIGLADES','atraso_15', 'temporada_alta', 'dif_min', 'periodo_dia']\n",
        "\n",
        "# Seleccionar atributos finales del DataFrame original\n",
        "df_select = df[atributos_finales].copy()\n",
        "\n",
        "# Realizar one-hot encoding para las columnas categóricas\n",
        "df_select = pd.get_dummies(df_select, columns=['OPERA', 'MES', 'TIPOVUELO', 'SIGLADES', 'periodo_dia'])\n",
        "\n",
        "# Verificar el nuevo DataFrame\n",
        "print(df_select.head())\n"
      ]
    },
    {
      "cell_type": "code",
      "execution_count": 60,
      "metadata": {
        "id": "pMKbZqbqQQG0"
      },
      "outputs": [],
      "source": [
        "import pandas as pd\n",
        "from sklearn.decomposition import PCA\n",
        "from sklearn.preprocessing import StandardScaler\n",
        "\n",
        "# Separemos la variable objetivo again\n",
        "X = df_select.drop('atraso_15', axis=1)\n",
        "\n",
        "# Estandarizar las características (es importante para PCA)\n",
        "scaler = StandardScaler()\n",
        "X_std = scaler.fit_transform(X)\n",
        "\n",
        "# Número de componentes principales a retener\n",
        "num_components = 5  #  ajustar este valor según necesidades\n",
        "\n",
        "# Inicializar el objeto PCA con el número de componentes especificado\n",
        "pca = PCA(n_components=num_components)\n",
        "\n",
        "# Aplicar PCA a los datos estandarizados\n",
        "X_pca = pca.fit_transform(X_std)\n",
        "\n",
        "# Crear un nuevo DataFrame con los componentes principales resultantes\n",
        "columns_pca = [f'PC{i}' for i in range(1, num_components + 1)]\n",
        "df_select_pca = pd.DataFrame(data=X_pca, columns=columns_pca)\n",
        "\n",
        "# El nuevo DataFrame 'df_select_pca' ahora tiene los componentes principales\n"
      ]
    },
    {
      "cell_type": "markdown",
      "metadata": {
        "id": "Pzr31ZwpWVtP"
      },
      "source": [
        "### **XGBoost (70/30) df con PCA + SMOTEN + regularización L1 y L2 y tuning para overfitting**"
      ]
    },
    {
      "cell_type": "code",
      "execution_count": 62,
      "metadata": {
        "colab": {
          "base_uri": "https://localhost:8080/",
          "height": 750
        },
        "id": "9kMfbdjgWVtR",
        "outputId": "d4cbe32c-29b3-4483-fd25-2f011fe1290e"
      },
      "outputs": [
        {
          "name": "stdout",
          "output_type": "stream",
          "text": [
            "Informe de Clasificación - XGBoost con SMOTE y Estandarización (Versión Numérica):\n",
            "\n",
            "              precision    recall  f1-score   support\n",
            "\n",
            "           0       0.94      0.83      0.88     15625\n",
            "           1       0.51      0.78      0.61      3511\n",
            "\n",
            "    accuracy                           0.82     19136\n",
            "   macro avg       0.72      0.80      0.75     19136\n",
            "weighted avg       0.86      0.82      0.83     19136\n",
            "\n"
          ]
        },
        {
          "data": {
            "image/png": "[encoded data removed]",
            "text/plain": [
              "<Figure size 800x600 with 2 Axes>"
            ]
          },
          "metadata": {},
          "output_type": "display_data"
        }
      ],
      "source": [
        "import pandas as pd\n",
        "from sklearn.model_selection import train_test_split\n",
        "from sklearn.metrics import classification_report\n",
        "from xgboost import XGBClassifier\n",
        "from sklearn.preprocessing import StandardScaler\n",
        "from imblearn.over_sampling import SMOTE\n",
        "import seaborn as sns\n",
        "import matplotlib.pyplot as plt\n",
        "\n",
        "# Usar la columna objetivo original antes de PCA\n",
        "X = df_select_pca#.drop('atraso_15', axis=1) # nota mental! de que df_select_pca es el DataFrame después de aplicar PCA\n",
        "y = df_select['atraso_15'] # Utiliza la columna 'atraso_15' original aquí\n",
        "\n",
        "# y tiene atraso_15 y X tiene los demas features post PCA\n",
        "\n",
        "# Dividir el conjunto de datos en entrenamiento y prueba (70% entrenamiento, 30% prueba)\n",
        "X_train, X_test, y_train, y_test = train_test_split(X, y, test_size=0.3, random_state=42)\n",
        "\n",
        "# Aplicar estandarización a los datos\n",
        "scaler = StandardScaler()\n",
        "X_train = scaler.fit_transform(X_train)\n",
        "X_test = scaler.transform(X_test)\n",
        "\n",
        "# Aplicar SMOTE para el balanceo de datos (ajustar estos parámetros)\n",
        "smote = SMOTE(sampling_strategy='auto', random_state=42, n_jobs=-1)\n",
        "X_train_resampled, y_train_resampled = smote.fit_resample(X_train, y_train)\n",
        "\n",
        "# Modelo de XGBoost con hiperparámetros ajustados (ajustar hiperparámetros)\n",
        "xgb_model = XGBClassifier(\n",
        "    learning_rate=0.1,\n",
        "    n_estimators=100, # nro de arboles\n",
        "    max_depth=3, # profundidad del arbol\n",
        "    random_state=42\n",
        ")\n",
        "xgb_model.fit(X_train_resampled, y_train_resampled)\n",
        "y_pred_xgb = xgb_model.predict(X_test)\n",
        "\n",
        "# Informe de clasificación para XGBoost\n",
        "report_xgb = classification_report(y_test, y_pred_xgb, target_names=[\"No Atraso\", \"Atraso\"], output_dict=True)\n",
        "\n",
        "# Convertir el informe de clasificación a un DataFrame\n",
        "report_df_xgb = pd.DataFrame(report_xgb).transpose()\n",
        "\n",
        "# Informe de clasificación para XGBoost (versión numérica)\n",
        "print(\"Informe de Clasificación - XGBoost con SMOTE y Estandarización (Versión Numérica):\\n\")\n",
        "print(classification_report(y_test, y_pred_xgb))\n",
        "\n",
        "# Mostrar el informe de clasificación con estilo usando seaborn\n",
        "sns.set(font_scale=1.2)\n",
        "plt.figure(figsize=(8, 6))\n",
        "sns.heatmap(report_df_xgb.iloc[:-1, :-1], annot=True, cmap=\"Blues\", fmt=\".2f\", linewidths=1, linecolor=\"black\")\n",
        "plt.title(\"Informe de Clasificación - XGBoost con SMOTE y Estandarización\")\n",
        "plt.show()\n"
      ]
    },
    {
      "cell_type": "markdown",
      "metadata": {
        "id": "DGbfLxo8aR6Y"
      },
      "source": [
        "Obs:\n",
        "\n",
        "> Estos parecen valores mucho mas razonables.\n",
        "\n",
        "\n",
        "\n",
        "**OBSERVACIONES FINALES: **\n",
        "\n",
        "Después de una serie de ajustes y mejoras en el modelo de predicción de atrasos en vuelos, podemos observar una mejora significativa en las métricas de evaluación. A considerar:\n",
        "\n",
        "'''\n",
        "\n",
        "    Informe de Clasificación - XGBoost con SMOTE y Estandarización (Versión Numérica):\n",
        "\n",
        "                  precision  recall  f1-score  support\n",
        "\n",
        "           0       0.94      0.83      0.88     15625\n",
        "           1       0.51      0.78      0.61      3511\n",
        "\n",
        "    accuracy                           0.82     19136\n",
        "    macro avg       0.72      0.80      0.75     19136\n",
        "    weighted avg    0.86      0.82      0.83     19136\n",
        "\n",
        "'''\n",
        "\n",
        "1. **Precision y Recall Mejorados(*)**: En comparación con modelos anteriores que sufrían de sobreajuste (overfitting), el modelo actual muestra una mejora sustancial en la precisión y el recall. La precisión, que mide la proporción de predicciones positivas correctas entre todas las predicciones positivas, ha aumentado significativamente. Además el recall, que mide la proporción de casos positivos correctamente identificados, también parece mejorado. Estos son indicadores alentadores! de la capacidad del modelo para predecir atrasos en vuelos con mayor precisión.\n",
        "\n",
        "2. **F1-Score Balanceado**: El valor F1-score (combi. de precision y recall), muestra un equilibrio razonable entre ambas métricas. Esto significa que el modelo estás mejor siendo preciso en sus predicciones, sino que también es efectivo en la identificación de casos de atraso. No canto victortia pero si avance!\n",
        "\n",
        "3. **Mayor Acuracy General**: El porcentaje de exactitud general del modelo es del 82%, lo que indica que el modelo está acertando en la clasificación de aproximadamente el 82% de los vuelos a timepo., pero ya vimos esto en modelos previos o lso de Juan. y no es el objetivo de negocio. Así que , bien ...siempre es importante considerar el equilibrio  precisión/recall en función de las necesidades del negocio.\n",
        "\n",
        "4. **Las noticias no tan buenas...la Clasificación de Atrasos**: Aunque el modelo ha mejorado significativamente, todavía enfrenta desafíos en la clasificación de vuelos con atraso. La precisión para la categoría de \"Atraso\" es baja (51%). No me imagino apoyar este modelo con la misma chance que tirar una moneda al aire (50/50 ...la moneda nos ahorraría costos en tiempos de procesamiento jajaja). Esto indica que todavía hay margen para mejorar la identificación de estos casos. Pero deviera devolvernos a mitar los datos, alcances realista del producto de negocio, mas que seguir tuniendo mas modelos. Por ultimo sobre los daots, me adelanto a pensar que si hubiera dropeado datos como lso mas frecuentes como los vuelos a Buenos Aires, podríamos mejorar la sensibilidad del modelo. Con mas tiempo, quizas hubiera hecho un analisis mas profundo sobre la viabilidad de los datos especificos y su limpieza idonea para la pregunta de negocio que se sugirió. Interesante explorarlo mas adelante.\n",
        "\n",
        "En resumen, el modelo actual representa un paso en la dirección correcta para predecir atrasos. Sin embargo, todavía existen oportunidades para ajustes adicionales y buscar una mayor precisión en la detección de atrasos, lo que podría lograrse mediante mejores técnicas de feature engineering.\n",
        "\n",
        "No me convence, pero creo que he llegado a un punto de suficiencia de analisis. yo me movería con este modelo a la siguiente etapa para probar el API REST y Stress Test."
      ]
    },
    {
      "cell_type": "markdown",
      "metadata": {
        "id": "SyMhv_mWsSkC"
      },
      "source": [
        "##**Crear una API REST**\n",
        "\n",
        "\n",
        "**Mejor continuar desde mi VSCode**\n",
        "\n",
        "* exportemoslo a mi VSCode donde tengo clonado el Github repositorio."
      ]
    },
    {
      "cell_type": "markdown",
      "metadata": {
        "id": "x7GXPEpXsAnk"
      },
      "source": [
        "## **Guardemos el modelo en un .pkl y los datos 'limpiados' en un .csv que podamos cargar al repositorio como base para correr el modelo**"
      ]
    },
    {
      "cell_type": "code",
      "execution_count": 68,
      "metadata": {
        "colab": {
          "base_uri": "https://localhost:8080/"
        },
        "id": "X5xnTxtwaSjJ",
        "outputId": "46985a13-bd99-4c39-8218-f5c9fa33b9ff"
      },
      "outputs": [
        {
          "data": {
            "text/plain": [
              "['modelo_xgboost.pkl']"
            ]
          },
          "execution_count": 68,
          "metadata": {},
          "output_type": "execute_result"
        }
      ],
      "source": [
        "import joblib\n",
        "\n",
        "# Guardar el modelo entrenado en un archivo\n",
        "joblib.dump(xgb_model, 'modelo_xgboost.pkl')\n"
      ]
    },
    {
      "cell_type": "code",
      "execution_count": 69,
      "metadata": {
        "colab": {
          "base_uri": "https://localhost:8080/",
          "height": 17
        },
        "id": "9b96TsnE1H0n",
        "outputId": "0eb2e68b-a40f-4bab-cb07-74583623a4c5"
      },
      "outputs": [
        {
          "data": {
            "application/javascript": "\n    async function download(id, filename, size) {\n      if (!google.colab.kernel.accessAllowed) {\n        return;\n      }\n      const div = document.createElement('div');\n      const label = document.createElement('label');\n      label.textContent = `Downloading \"${filename}\": `;\n      div.appendChild(label);\n      const progress = document.createElement('progress');\n      progress.max = size;\n      div.appendChild(progress);\n      document.body.appendChild(div);\n\n      const buffers = [];\n      let downloaded = 0;\n\n      const channel = await google.colab.kernel.comms.open(id);\n      // Send a message to notify the kernel that we're ready.\n      channel.send({})\n\n      for await (const message of channel.messages) {\n        // Send a message to notify the kernel that we're ready.\n        channel.send({})\n        if (message.buffers) {\n          for (const buffer of message.buffers) {\n            buffers.push(buffer);\n            downloaded += buffer.byteLength;\n            progress.value = downloaded;\n          }\n        }\n      }\n      const blob = new Blob(buffers, {type: 'application/binary'});\n      const a = document.createElement('a');\n      a.href = window.URL.createObjectURL(blob);\n      a.download = filename;\n      div.appendChild(a);\n      a.click();\n      div.remove();\n    }\n  ",
            "text/plain": [
              "<IPython.core.display.Javascript object>"
            ]
          },
          "metadata": {},
          "output_type": "display_data"
        },
        {
          "data": {
            "application/javascript": "download(\"download_9c7a3cc5-ceb9-4093-9176-91636d7726d7\", \"modelo_xgboost.pkl\", 121178)",
            "text/plain": [
              "<IPython.core.display.Javascript object>"
            ]
          },
          "metadata": {},
          "output_type": "display_data"
        }
      ],
      "source": [
        "from google.colab import files\n",
        "\n",
        "# Descargar el archivo .pkl\n",
        "files.download('modelo_xgboost.pkl')\n"
      ]
    }
  ],
  "metadata": {
    "colab": {
      "provenance": [],
      "toc_visible": true
    },
    "kernelspec": {
      "display_name": "Python 3",
      "name": "python3"
    },
    "language_info": {
      "name": "python"
    }
  },
  "nbformat": 4,
  "nbformat_minor": 0
}
